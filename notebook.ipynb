{
 "cells": [
  {
   "cell_type": "markdown",
   "metadata": {},
   "source": [
    "# Visualizing Spotify Streaming History"
   ]
  },
  {
   "cell_type": "markdown",
   "metadata": {},
   "source": [
    "## Setting Up\n",
    "\n",
    "I've already downloaded a JSON file from Spotify containing my streaming history (you can download yours [here](https://www.spotify.com/ca-en/account/privacy/)).\n",
    "\n",
    "In this section, I will create two data frames: one for my streaming history (songs I've streamed and when I streamed them) and one for my playlists (information about each song in my playlists). \n",
    "\n",
    "For the streaming history data frame, I will load in the JSON file, convert it into a Pandas data frame, and use the Spotify API to get another data frame containing features (energy, danceability, loudness, etc.) for each song in my streaming history. I will join the two data frames to get a final data frame that I will use for plotting.\n",
    "\n",
    "For the playlist data frame, I will use the API to get the playlist ID, the tracks in each playlist, and the features for each song in my playlist."
   ]
  },
  {
   "cell_type": "code",
   "execution_count": 1,
   "metadata": {},
   "outputs": [],
   "source": [
    "## load required packages\n",
    "import json\n",
    "from spotipy.oauth2 import SpotifyClientCredentials\n",
    "import spotipy\n",
    "import spotipy.util as util\n",
    "\n",
    "import pandas as pd\n",
    "import numpy as np\n",
    "import matplotlib.pyplot as plt\n",
    "import matplotlib as mpl\n",
    "\n",
    "import plotly.graph_objects as go\n",
    "\n",
    "import calmap\n",
    "from matplotlib.pyplot import figure\n",
    "\n",
    "from datetime import datetime"
   ]
  },
  {
   "cell_type": "code",
   "execution_count": 2,
   "metadata": {},
   "outputs": [
    {
     "data": {
      "text/html": [
       "        <script type=\"text/javascript\">\n",
       "        window.PlotlyConfig = {MathJaxConfig: 'local'};\n",
       "        if (window.MathJax) {MathJax.Hub.Config({SVG: {font: \"STIX-Web\"}});}\n",
       "        if (typeof require !== 'undefined') {\n",
       "        require.undef(\"plotly\");\n",
       "        requirejs.config({\n",
       "            paths: {\n",
       "                'plotly': ['https://cdn.plot.ly/plotly-latest.min']\n",
       "            }\n",
       "        });\n",
       "        require(['plotly'], function(Plotly) {\n",
       "            window._Plotly = Plotly;\n",
       "        });\n",
       "        }\n",
       "        </script>\n",
       "        "
      ]
     },
     "metadata": {},
     "output_type": "display_data"
    }
   ],
   "source": [
    "## initialize plotly\n",
    "init_notebook_mode(connected=True)"
   ]
  },
  {
   "cell_type": "code",
   "execution_count": 6,
   "metadata": {},
   "outputs": [],
   "source": [
    "## set up access to API\n",
    "client_id ='3ee7d37516aa4d01ad6064f6ce05e5e1' \n",
    "client_secret = '68a78f783ce248c783ea1b425f95d88b'\n",
    "client_credentials_manager = SpotifyClientCredentials(client_id = client_id, client_secret = client_secret)\n",
    "sp = spotipy.Spotify(client_credentials_manager=client_credentials_manager)\n",
    "sp.trace = False"
   ]
  },
  {
   "cell_type": "markdown",
   "metadata": {},
   "source": [
    "### Streaming History "
   ]
  },
  {
   "cell_type": "code",
   "execution_count": 3,
   "metadata": {},
   "outputs": [
    {
     "data": {
      "text/plain": [
       "[{'endTime': '2020-07-26 03:57',\n",
       "  'artistName': '朱主愛',\n",
       "  'trackName': '藏不住的心跳 (《我只喜歡你》影視劇片頭曲)',\n",
       "  'msPlayed': 71594},\n",
       " {'endTime': '2020-07-26 03:59',\n",
       "  'artistName': 'SBGB',\n",
       "  'trackName': 'BANANA CHACHA Acoustic',\n",
       "  'msPlayed': 4800},\n",
       " {'endTime': '2020-07-26 03:59',\n",
       "  'artistName': 'Huh Gak',\n",
       "  'trackName': 'Let you go (Duet. Jeong Eun Ji)',\n",
       "  'msPlayed': 92821},\n",
       " {'endTime': '2020-07-26 03:59',\n",
       "  'artistName': 'Stella Jang',\n",
       "  'trackName': 'YOLO',\n",
       "  'msPlayed': 8682},\n",
       " {'endTime': '2020-07-26 04:01',\n",
       "  'artistName': '鞠婧禕',\n",
       "  'trackName': '嘆雲兮(電視劇《芸汐傳》片尾曲)',\n",
       "  'msPlayed': 101034}]"
      ]
     },
     "execution_count": 3,
     "metadata": {},
     "output_type": "execute_result"
    }
   ],
   "source": [
    "## load in json file of streaming history\n",
    "with open('MyData/StreamingHistory0.json', encoding='utf8') as f:\n",
    "    song_data = json.load(f)\n",
    "    \n",
    "song_data[-5:]"
   ]
  },
  {
   "cell_type": "code",
   "execution_count": 4,
   "metadata": {},
   "outputs": [
    {
     "data": {
      "text/html": [
       "<div>\n",
       "<style scoped>\n",
       "    .dataframe tbody tr th:only-of-type {\n",
       "        vertical-align: middle;\n",
       "    }\n",
       "\n",
       "    .dataframe tbody tr th {\n",
       "        vertical-align: top;\n",
       "    }\n",
       "\n",
       "    .dataframe thead th {\n",
       "        text-align: right;\n",
       "    }\n",
       "</style>\n",
       "<table border=\"1\" class=\"dataframe\">\n",
       "  <thead>\n",
       "    <tr style=\"text-align: right;\">\n",
       "      <th></th>\n",
       "      <th>endTime</th>\n",
       "      <th>artistName</th>\n",
       "      <th>trackName</th>\n",
       "      <th>msPlayed</th>\n",
       "    </tr>\n",
       "  </thead>\n",
       "  <tbody>\n",
       "    <tr>\n",
       "      <td>0</td>\n",
       "      <td>2018-03-17 04:30</td>\n",
       "      <td>Chef'Special</td>\n",
       "      <td>In Your Arms</td>\n",
       "      <td>215036</td>\n",
       "    </tr>\n",
       "    <tr>\n",
       "      <td>1</td>\n",
       "      <td>2019-07-26 12:30</td>\n",
       "      <td>CHANYEOL</td>\n",
       "      <td>Stay With Me</td>\n",
       "      <td>101170</td>\n",
       "    </tr>\n",
       "    <tr>\n",
       "      <td>2</td>\n",
       "      <td>2019-07-26 12:34</td>\n",
       "      <td>(G)I-DLE</td>\n",
       "      <td>Senorita</td>\n",
       "      <td>197616</td>\n",
       "    </tr>\n",
       "    <tr>\n",
       "      <td>3</td>\n",
       "      <td>2019-07-26 12:38</td>\n",
       "      <td>BLACKPINK</td>\n",
       "      <td>BOOMBAYAH</td>\n",
       "      <td>240848</td>\n",
       "    </tr>\n",
       "    <tr>\n",
       "      <td>4</td>\n",
       "      <td>2019-07-26 12:40</td>\n",
       "      <td>EXID</td>\n",
       "      <td>Up &amp; Down</td>\n",
       "      <td>145539</td>\n",
       "    </tr>\n",
       "  </tbody>\n",
       "</table>\n",
       "</div>"
      ],
      "text/plain": [
       "            endTime    artistName     trackName  msPlayed\n",
       "0  2018-03-17 04:30  Chef'Special  In Your Arms    215036\n",
       "1  2019-07-26 12:30      CHANYEOL  Stay With Me    101170\n",
       "2  2019-07-26 12:34      (G)I-DLE      Senorita    197616\n",
       "3  2019-07-26 12:38     BLACKPINK     BOOMBAYAH    240848\n",
       "4  2019-07-26 12:40          EXID     Up & Down    145539"
      ]
     },
     "execution_count": 4,
     "metadata": {},
     "output_type": "execute_result"
    }
   ],
   "source": [
    "## convert to dataframe\n",
    "df = pd.DataFrame(song_data)\n",
    "df.head()"
   ]
  },
  {
   "cell_type": "code",
   "execution_count": 7,
   "metadata": {},
   "outputs": [],
   "source": [
    "## get track id of first search result of artist + song title\n",
    "def get_id(artist, name):\n",
    "    query = artist + \" \" + name\n",
    "    result = sp.search(q=query, limit=1)\n",
    "    tmp = \"\"\n",
    "    for i, t in enumerate(result['tracks']['items']):\n",
    "        tmp = t[\"id\"]\n",
    "    return(tmp)\n",
    "\n",
    "df[\"id\"] = df.apply(lambda x: get_id(x[\"artistName\"], x[\"trackName\"],), axis=1)"
   ]
  },
  {
   "cell_type": "code",
   "execution_count": 8,
   "metadata": {},
   "outputs": [
    {
     "data": {
      "text/html": [
       "<div>\n",
       "<style scoped>\n",
       "    .dataframe tbody tr th:only-of-type {\n",
       "        vertical-align: middle;\n",
       "    }\n",
       "\n",
       "    .dataframe tbody tr th {\n",
       "        vertical-align: top;\n",
       "    }\n",
       "\n",
       "    .dataframe thead th {\n",
       "        text-align: right;\n",
       "    }\n",
       "</style>\n",
       "<table border=\"1\" class=\"dataframe\">\n",
       "  <thead>\n",
       "    <tr style=\"text-align: right;\">\n",
       "      <th></th>\n",
       "      <th>endTime</th>\n",
       "      <th>artistName</th>\n",
       "      <th>trackName</th>\n",
       "      <th>msPlayed</th>\n",
       "      <th>id</th>\n",
       "    </tr>\n",
       "  </thead>\n",
       "  <tbody>\n",
       "    <tr>\n",
       "      <td>0</td>\n",
       "      <td>2018-03-17 04:30</td>\n",
       "      <td>Chef'Special</td>\n",
       "      <td>In Your Arms</td>\n",
       "      <td>215036</td>\n",
       "      <td>3wJmcmAh2YAfDSKQR8o1XS</td>\n",
       "    </tr>\n",
       "    <tr>\n",
       "      <td>1</td>\n",
       "      <td>2019-07-26 12:30</td>\n",
       "      <td>CHANYEOL</td>\n",
       "      <td>Stay With Me</td>\n",
       "      <td>101170</td>\n",
       "      <td>1POlsQls16ppLPVmr4FGLt</td>\n",
       "    </tr>\n",
       "    <tr>\n",
       "      <td>2</td>\n",
       "      <td>2019-07-26 12:34</td>\n",
       "      <td>(G)I-DLE</td>\n",
       "      <td>Senorita</td>\n",
       "      <td>197616</td>\n",
       "      <td>0q6boCcLaWYPIy2vOsksFg</td>\n",
       "    </tr>\n",
       "    <tr>\n",
       "      <td>3</td>\n",
       "      <td>2019-07-26 12:38</td>\n",
       "      <td>BLACKPINK</td>\n",
       "      <td>BOOMBAYAH</td>\n",
       "      <td>240848</td>\n",
       "      <td>3yHQKddM8SVCRnuPSo3HPN</td>\n",
       "    </tr>\n",
       "    <tr>\n",
       "      <td>4</td>\n",
       "      <td>2019-07-26 12:40</td>\n",
       "      <td>EXID</td>\n",
       "      <td>Up &amp; Down</td>\n",
       "      <td>145539</td>\n",
       "      <td>6BKOhvRPY54uvfqWwg7MKi</td>\n",
       "    </tr>\n",
       "  </tbody>\n",
       "</table>\n",
       "</div>"
      ],
      "text/plain": [
       "            endTime    artistName     trackName  msPlayed  \\\n",
       "0  2018-03-17 04:30  Chef'Special  In Your Arms    215036   \n",
       "1  2019-07-26 12:30      CHANYEOL  Stay With Me    101170   \n",
       "2  2019-07-26 12:34      (G)I-DLE      Senorita    197616   \n",
       "3  2019-07-26 12:38     BLACKPINK     BOOMBAYAH    240848   \n",
       "4  2019-07-26 12:40          EXID     Up & Down    145539   \n",
       "\n",
       "                       id  \n",
       "0  3wJmcmAh2YAfDSKQR8o1XS  \n",
       "1  1POlsQls16ppLPVmr4FGLt  \n",
       "2  0q6boCcLaWYPIy2vOsksFg  \n",
       "3  3yHQKddM8SVCRnuPSo3HPN  \n",
       "4  6BKOhvRPY54uvfqWwg7MKi  "
      ]
     },
     "execution_count": 8,
     "metadata": {},
     "output_type": "execute_result"
    }
   ],
   "source": [
    "df.head()"
   ]
  },
  {
   "cell_type": "code",
   "execution_count": 10,
   "metadata": {},
   "outputs": [],
   "source": [
    "## get features for each track\n",
    "features_df = pd.DataFrame(columns=[\"song_id\",\"energy\", \"BPM\", \"speechiness\", \"acousticness\", \n",
    "                                    \"instrumentalness\",\"danceability\", \"duration_ms\",\"valence\"])\n",
    "ids = list(df[\"id\"].unique())\n",
    "\n",
    "for song in ids:\n",
    "    features = sp.audio_features(tracks = [song])[0]\n",
    "    if features is not None:\n",
    "        features_df = features_df.append({\"song_id\":song,\n",
    "                                          \"energy\":features['energy'], \n",
    "                                          \"BPM\":features['tempo'],\n",
    "                                          \"speechiness\":features['speechiness'],\n",
    "                                          \"acousticness\":features['acousticness'],\n",
    "                                          \"instrumentalness\":features['instrumentalness'],\n",
    "                                          \"danceability\":features['danceability'],\n",
    "                                          \"duration_ms\":features['duration_ms'],\n",
    "                                          \"valence\":features['valence'],\n",
    "                                         },ignore_index=True)\n",
    "    else:\n",
    "        pass"
   ]
  },
  {
   "cell_type": "code",
   "execution_count": 11,
   "metadata": {},
   "outputs": [
    {
     "data": {
      "text/html": [
       "<div>\n",
       "<style scoped>\n",
       "    .dataframe tbody tr th:only-of-type {\n",
       "        vertical-align: middle;\n",
       "    }\n",
       "\n",
       "    .dataframe tbody tr th {\n",
       "        vertical-align: top;\n",
       "    }\n",
       "\n",
       "    .dataframe thead th {\n",
       "        text-align: right;\n",
       "    }\n",
       "</style>\n",
       "<table border=\"1\" class=\"dataframe\">\n",
       "  <thead>\n",
       "    <tr style=\"text-align: right;\">\n",
       "      <th></th>\n",
       "      <th>endTime</th>\n",
       "      <th>artistName</th>\n",
       "      <th>trackName</th>\n",
       "      <th>msPlayed</th>\n",
       "      <th>id</th>\n",
       "      <th>song_id</th>\n",
       "      <th>energy</th>\n",
       "      <th>liveness</th>\n",
       "      <th>tempo</th>\n",
       "      <th>speechiness</th>\n",
       "      <th>acousticness</th>\n",
       "      <th>instrumentalness</th>\n",
       "      <th>danceability</th>\n",
       "      <th>duration_ms</th>\n",
       "      <th>loudness</th>\n",
       "      <th>valence</th>\n",
       "      <th>mode</th>\n",
       "      <th>key</th>\n",
       "    </tr>\n",
       "  </thead>\n",
       "  <tbody>\n",
       "    <tr>\n",
       "      <td>0</td>\n",
       "      <td>2018-03-17 04:30</td>\n",
       "      <td>Chef'Special</td>\n",
       "      <td>In Your Arms</td>\n",
       "      <td>215036</td>\n",
       "      <td>3wJmcmAh2YAfDSKQR8o1XS</td>\n",
       "      <td>3wJmcmAh2YAfDSKQR8o1XS</td>\n",
       "      <td>0.406</td>\n",
       "      <td>0.112</td>\n",
       "      <td>92.964</td>\n",
       "      <td>0.0501</td>\n",
       "      <td>0.64600</td>\n",
       "      <td>0.000013</td>\n",
       "      <td>0.669</td>\n",
       "      <td>215269</td>\n",
       "      <td>-12.186</td>\n",
       "      <td>0.362</td>\n",
       "      <td>1</td>\n",
       "      <td>5</td>\n",
       "    </tr>\n",
       "    <tr>\n",
       "      <td>1</td>\n",
       "      <td>2019-07-26 12:30</td>\n",
       "      <td>CHANYEOL</td>\n",
       "      <td>Stay With Me</td>\n",
       "      <td>101170</td>\n",
       "      <td>1POlsQls16ppLPVmr4FGLt</td>\n",
       "      <td>1POlsQls16ppLPVmr4FGLt</td>\n",
       "      <td>0.526</td>\n",
       "      <td>0.126</td>\n",
       "      <td>78.643</td>\n",
       "      <td>0.0484</td>\n",
       "      <td>0.42800</td>\n",
       "      <td>0.000000</td>\n",
       "      <td>0.314</td>\n",
       "      <td>192441</td>\n",
       "      <td>-4.686</td>\n",
       "      <td>0.195</td>\n",
       "      <td>0</td>\n",
       "      <td>0</td>\n",
       "    </tr>\n",
       "    <tr>\n",
       "      <td>2</td>\n",
       "      <td>2019-07-26 12:34</td>\n",
       "      <td>(G)I-DLE</td>\n",
       "      <td>Senorita</td>\n",
       "      <td>197616</td>\n",
       "      <td>0q6boCcLaWYPIy2vOsksFg</td>\n",
       "      <td>0q6boCcLaWYPIy2vOsksFg</td>\n",
       "      <td>0.808</td>\n",
       "      <td>0.331</td>\n",
       "      <td>120.021</td>\n",
       "      <td>0.0362</td>\n",
       "      <td>0.01590</td>\n",
       "      <td>0.000043</td>\n",
       "      <td>0.782</td>\n",
       "      <td>197616</td>\n",
       "      <td>-3.139</td>\n",
       "      <td>0.420</td>\n",
       "      <td>1</td>\n",
       "      <td>0</td>\n",
       "    </tr>\n",
       "    <tr>\n",
       "      <td>3</td>\n",
       "      <td>2019-07-26 12:38</td>\n",
       "      <td>BLACKPINK</td>\n",
       "      <td>BOOMBAYAH</td>\n",
       "      <td>240848</td>\n",
       "      <td>3yHQKddM8SVCRnuPSo3HPN</td>\n",
       "      <td>3yHQKddM8SVCRnuPSo3HPN</td>\n",
       "      <td>0.836</td>\n",
       "      <td>0.507</td>\n",
       "      <td>124.969</td>\n",
       "      <td>0.0549</td>\n",
       "      <td>0.00264</td>\n",
       "      <td>0.000001</td>\n",
       "      <td>0.658</td>\n",
       "      <td>240849</td>\n",
       "      <td>-3.282</td>\n",
       "      <td>0.387</td>\n",
       "      <td>0</td>\n",
       "      <td>5</td>\n",
       "    </tr>\n",
       "    <tr>\n",
       "      <td>4</td>\n",
       "      <td>2019-07-26 12:40</td>\n",
       "      <td>EXID</td>\n",
       "      <td>Up &amp; Down</td>\n",
       "      <td>145539</td>\n",
       "      <td>6BKOhvRPY54uvfqWwg7MKi</td>\n",
       "      <td>6BKOhvRPY54uvfqWwg7MKi</td>\n",
       "      <td>0.812</td>\n",
       "      <td>0.229</td>\n",
       "      <td>112.018</td>\n",
       "      <td>0.0351</td>\n",
       "      <td>0.00189</td>\n",
       "      <td>0.000002</td>\n",
       "      <td>0.714</td>\n",
       "      <td>189882</td>\n",
       "      <td>-2.703</td>\n",
       "      <td>0.377</td>\n",
       "      <td>1</td>\n",
       "      <td>7</td>\n",
       "    </tr>\n",
       "  </tbody>\n",
       "</table>\n",
       "</div>"
      ],
      "text/plain": [
       "            endTime    artistName     trackName  msPlayed  \\\n",
       "0  2018-03-17 04:30  Chef'Special  In Your Arms    215036   \n",
       "1  2019-07-26 12:30      CHANYEOL  Stay With Me    101170   \n",
       "2  2019-07-26 12:34      (G)I-DLE      Senorita    197616   \n",
       "3  2019-07-26 12:38     BLACKPINK     BOOMBAYAH    240848   \n",
       "4  2019-07-26 12:40          EXID     Up & Down    145539   \n",
       "\n",
       "                       id                 song_id  energy  liveness    tempo  \\\n",
       "0  3wJmcmAh2YAfDSKQR8o1XS  3wJmcmAh2YAfDSKQR8o1XS   0.406     0.112   92.964   \n",
       "1  1POlsQls16ppLPVmr4FGLt  1POlsQls16ppLPVmr4FGLt   0.526     0.126   78.643   \n",
       "2  0q6boCcLaWYPIy2vOsksFg  0q6boCcLaWYPIy2vOsksFg   0.808     0.331  120.021   \n",
       "3  3yHQKddM8SVCRnuPSo3HPN  3yHQKddM8SVCRnuPSo3HPN   0.836     0.507  124.969   \n",
       "4  6BKOhvRPY54uvfqWwg7MKi  6BKOhvRPY54uvfqWwg7MKi   0.812     0.229  112.018   \n",
       "\n",
       "   speechiness  acousticness  instrumentalness  danceability duration_ms  \\\n",
       "0       0.0501       0.64600          0.000013         0.669      215269   \n",
       "1       0.0484       0.42800          0.000000         0.314      192441   \n",
       "2       0.0362       0.01590          0.000043         0.782      197616   \n",
       "3       0.0549       0.00264          0.000001         0.658      240849   \n",
       "4       0.0351       0.00189          0.000002         0.714      189882   \n",
       "\n",
       "   loudness  valence mode key  \n",
       "0   -12.186    0.362    1   5  \n",
       "1    -4.686    0.195    0   0  \n",
       "2    -3.139    0.420    1   0  \n",
       "3    -3.282    0.387    0   5  \n",
       "4    -2.703    0.377    1   7  "
      ]
     },
     "execution_count": 11,
     "metadata": {},
     "output_type": "execute_result"
    }
   ],
   "source": [
    "## merge tracks with their features\n",
    "streaming_df = pd.merge(df, features_df, how=\"left\", left_on= \"id\", right_on=\"song_id\")\n",
    "streaming_df.head()"
   ]
  },
  {
   "cell_type": "markdown",
   "metadata": {},
   "source": [
    "### Playlists"
   ]
  },
  {
   "cell_type": "code",
   "execution_count": 63,
   "metadata": {
    "scrolled": true
   },
   "outputs": [
    {
     "data": {
      "text/html": [
       "<div>\n",
       "<style scoped>\n",
       "    .dataframe tbody tr th:only-of-type {\n",
       "        vertical-align: middle;\n",
       "    }\n",
       "\n",
       "    .dataframe tbody tr th {\n",
       "        vertical-align: top;\n",
       "    }\n",
       "\n",
       "    .dataframe thead th {\n",
       "        text-align: right;\n",
       "    }\n",
       "</style>\n",
       "<table border=\"1\" class=\"dataframe\">\n",
       "  <thead>\n",
       "    <tr style=\"text-align: right;\">\n",
       "      <th></th>\n",
       "      <th>id</th>\n",
       "      <th>name</th>\n",
       "    </tr>\n",
       "  </thead>\n",
       "  <tbody>\n",
       "    <tr>\n",
       "      <td>0</td>\n",
       "      <td>09N2ntwDDNljUVqiXcS1YH</td>\n",
       "      <td>Master of None</td>\n",
       "    </tr>\n",
       "    <tr>\n",
       "      <td>1</td>\n",
       "      <td>1SSjgKxeONpYwGGJZFo8jp</td>\n",
       "      <td>Berkeley</td>\n",
       "    </tr>\n",
       "    <tr>\n",
       "      <td>2</td>\n",
       "      <td>4kW2n5dQ0MMPvlD9BSXZKS</td>\n",
       "      <td>In The Mood For Love</td>\n",
       "    </tr>\n",
       "    <tr>\n",
       "      <td>3</td>\n",
       "      <td>0T3ng7unoRlcvkIrlVhj71</td>\n",
       "      <td>K-Pop Bops</td>\n",
       "    </tr>\n",
       "    <tr>\n",
       "      <td>4</td>\n",
       "      <td>1bNqOL1HLAZVE41p99Wjk5</td>\n",
       "      <td>Limbo</td>\n",
       "    </tr>\n",
       "    <tr>\n",
       "      <td>5</td>\n",
       "      <td>3jInAj3EQboGgPjzSnI9mp</td>\n",
       "      <td>Zero to Hero</td>\n",
       "    </tr>\n",
       "    <tr>\n",
       "      <td>6</td>\n",
       "      <td>5to1P1RjW1VmSZxJdJYZrF</td>\n",
       "      <td>Twice Will Never Love Me Back</td>\n",
       "    </tr>\n",
       "    <tr>\n",
       "      <td>7</td>\n",
       "      <td>6UBmCwPZ4G5nDc9mjq3ZYC</td>\n",
       "      <td>Just kidding, thank you</td>\n",
       "    </tr>\n",
       "  </tbody>\n",
       "</table>\n",
       "</div>"
      ],
      "text/plain": [
       "                       id                           name\n",
       "0  09N2ntwDDNljUVqiXcS1YH                 Master of None\n",
       "1  1SSjgKxeONpYwGGJZFo8jp                       Berkeley\n",
       "2  4kW2n5dQ0MMPvlD9BSXZKS           In The Mood For Love\n",
       "3  0T3ng7unoRlcvkIrlVhj71                     K-Pop Bops\n",
       "4  1bNqOL1HLAZVE41p99Wjk5                          Limbo\n",
       "5  3jInAj3EQboGgPjzSnI9mp                   Zero to Hero\n",
       "6  5to1P1RjW1VmSZxJdJYZrF  Twice Will Never Love Me Back\n",
       "7  6UBmCwPZ4G5nDc9mjq3ZYC        Just kidding, thank you"
      ]
     },
     "execution_count": 63,
     "metadata": {},
     "output_type": "execute_result"
    }
   ],
   "source": [
    "playlists = sp.user_playlists(\"zihanye96\")\n",
    "\n",
    "playlist_info =  pd.DataFrame(columns=[\"id\",\"name\"])\n",
    "\n",
    "while playlists:\n",
    "    for i, playlist in enumerate(playlists['items']): \n",
    "        playlist_id = playlist['id'] \n",
    "        name = playlist['name'] \n",
    "        playlist_info = playlist_info.append({'id': playlist_id, 'name': name}, ignore_index=True)\n",
    "    \n",
    "    if playlists['next']:\n",
    "        playlists = sp.next(playlists)\n",
    "    \n",
    "    else:\n",
    "        playlists = None\n",
    "\n",
    "playlist_info.head(5)"
   ]
  },
  {
   "cell_type": "code",
   "execution_count": 111,
   "metadata": {},
   "outputs": [],
   "source": [
    "playlist_tracks =  pd.DataFrame(columns=[\"playlist_id\", \"track_id\",\"trackName\", \"artistName\", \"popularity\"])\n",
    "\n",
    "\n",
    "for playlist_id in playlist_info[\"id\"]:\n",
    "    \n",
    "    tracks = sp.user_playlist_tracks(user = \"zihanye96\", playlist_id = playlist_id, fields = \"items\")\n",
    "    items = tracks[\"items\"]\n",
    "    for item in items:\n",
    "        playlist_tracks = playlist_tracks.append({\"playlist_id\" : playlist_id,\n",
    "                                           \"track_id\":item['track']['id'],\n",
    "                                           \"trackName\":item['track']['name'],\n",
    "                                           \"artistName\":item['track']['artists'][0]['name'],\n",
    "                                           \"popularity\": item['track']['popularity']\n",
    "                                          }, ignore_index=True)"
   ]
  },
  {
   "cell_type": "code",
   "execution_count": 113,
   "metadata": {
    "scrolled": true
   },
   "outputs": [
    {
     "data": {
      "text/html": [
       "<div>\n",
       "<style scoped>\n",
       "    .dataframe tbody tr th:only-of-type {\n",
       "        vertical-align: middle;\n",
       "    }\n",
       "\n",
       "    .dataframe tbody tr th {\n",
       "        vertical-align: top;\n",
       "    }\n",
       "\n",
       "    .dataframe thead th {\n",
       "        text-align: right;\n",
       "    }\n",
       "</style>\n",
       "<table border=\"1\" class=\"dataframe\">\n",
       "  <thead>\n",
       "    <tr style=\"text-align: right;\">\n",
       "      <th></th>\n",
       "      <th>playlist_id</th>\n",
       "      <th>track_id</th>\n",
       "      <th>trackName</th>\n",
       "      <th>artistName</th>\n",
       "      <th>popularity</th>\n",
       "    </tr>\n",
       "  </thead>\n",
       "  <tbody>\n",
       "    <tr>\n",
       "      <td>0</td>\n",
       "      <td>09N2ntwDDNljUVqiXcS1YH</td>\n",
       "      <td>06RXsjrMsJs91da6kpWxmI</td>\n",
       "      <td>房間 (電影《超時空同居》插曲)</td>\n",
       "      <td>劉瑞琦</td>\n",
       "      <td>58</td>\n",
       "    </tr>\n",
       "    <tr>\n",
       "      <td>1</td>\n",
       "      <td>09N2ntwDDNljUVqiXcS1YH</td>\n",
       "      <td>5qS5oI1cz7Jj8Z5U6d4mNU</td>\n",
       "      <td>Take It One Day at a Time (Acoustic)</td>\n",
       "      <td>Jennifer Chung</td>\n",
       "      <td>31</td>\n",
       "    </tr>\n",
       "    <tr>\n",
       "      <td>2</td>\n",
       "      <td>09N2ntwDDNljUVqiXcS1YH</td>\n",
       "      <td>6XkGoC4BvoCyJfyc5RXiHM</td>\n",
       "      <td>不是因為天氣晴朗才愛你</td>\n",
       "      <td>理想混蛋</td>\n",
       "      <td>42</td>\n",
       "    </tr>\n",
       "    <tr>\n",
       "      <td>3</td>\n",
       "      <td>09N2ntwDDNljUVqiXcS1YH</td>\n",
       "      <td>1L2nKKbjV9Zn2SUuTIoXn6</td>\n",
       "      <td>东西</td>\n",
       "      <td>林俊呈</td>\n",
       "      <td>40</td>\n",
       "    </tr>\n",
       "    <tr>\n",
       "      <td>4</td>\n",
       "      <td>09N2ntwDDNljUVqiXcS1YH</td>\n",
       "      <td>683i1XBgGd0rApQypI9QLp</td>\n",
       "      <td>You &amp; Me Song - Acoustic</td>\n",
       "      <td>The Macarons Project</td>\n",
       "      <td>37</td>\n",
       "    </tr>\n",
       "  </tbody>\n",
       "</table>\n",
       "</div>"
      ],
      "text/plain": [
       "              playlist_id                track_id  \\\n",
       "0  09N2ntwDDNljUVqiXcS1YH  06RXsjrMsJs91da6kpWxmI   \n",
       "1  09N2ntwDDNljUVqiXcS1YH  5qS5oI1cz7Jj8Z5U6d4mNU   \n",
       "2  09N2ntwDDNljUVqiXcS1YH  6XkGoC4BvoCyJfyc5RXiHM   \n",
       "3  09N2ntwDDNljUVqiXcS1YH  1L2nKKbjV9Zn2SUuTIoXn6   \n",
       "4  09N2ntwDDNljUVqiXcS1YH  683i1XBgGd0rApQypI9QLp   \n",
       "\n",
       "                              trackName            artistName popularity  \n",
       "0                      房間 (電影《超時空同居》插曲)                   劉瑞琦         58  \n",
       "1  Take It One Day at a Time (Acoustic)        Jennifer Chung         31  \n",
       "2                           不是因為天氣晴朗才愛你                  理想混蛋         42  \n",
       "3                                    东西                   林俊呈         40  \n",
       "4              You & Me Song - Acoustic  The Macarons Project         37  "
      ]
     },
     "execution_count": 113,
     "metadata": {},
     "output_type": "execute_result"
    }
   ],
   "source": [
    "playlist_tracks.head(5)"
   ]
  },
  {
   "cell_type": "code",
   "execution_count": 114,
   "metadata": {
    "scrolled": true
   },
   "outputs": [
    {
     "data": {
      "text/html": [
       "<div>\n",
       "<style scoped>\n",
       "    .dataframe tbody tr th:only-of-type {\n",
       "        vertical-align: middle;\n",
       "    }\n",
       "\n",
       "    .dataframe tbody tr th {\n",
       "        vertical-align: top;\n",
       "    }\n",
       "\n",
       "    .dataframe thead th {\n",
       "        text-align: right;\n",
       "    }\n",
       "</style>\n",
       "<table border=\"1\" class=\"dataframe\">\n",
       "  <thead>\n",
       "    <tr style=\"text-align: right;\">\n",
       "      <th></th>\n",
       "      <th>playlist_id</th>\n",
       "      <th>track_id</th>\n",
       "      <th>trackName</th>\n",
       "      <th>artistName</th>\n",
       "      <th>popularity</th>\n",
       "    </tr>\n",
       "  </thead>\n",
       "  <tbody>\n",
       "    <tr>\n",
       "      <td>0</td>\n",
       "      <td>09N2ntwDDNljUVqiXcS1YH</td>\n",
       "      <td>06RXsjrMsJs91da6kpWxmI</td>\n",
       "      <td>房間 (電影《超時空同居》插曲)</td>\n",
       "      <td>劉瑞琦</td>\n",
       "      <td>58</td>\n",
       "    </tr>\n",
       "    <tr>\n",
       "      <td>1</td>\n",
       "      <td>09N2ntwDDNljUVqiXcS1YH</td>\n",
       "      <td>5qS5oI1cz7Jj8Z5U6d4mNU</td>\n",
       "      <td>Take It One Day at a Time (Acoustic)</td>\n",
       "      <td>Jennifer Chung</td>\n",
       "      <td>31</td>\n",
       "    </tr>\n",
       "    <tr>\n",
       "      <td>2</td>\n",
       "      <td>09N2ntwDDNljUVqiXcS1YH</td>\n",
       "      <td>6XkGoC4BvoCyJfyc5RXiHM</td>\n",
       "      <td>不是因為天氣晴朗才愛你</td>\n",
       "      <td>理想混蛋</td>\n",
       "      <td>42</td>\n",
       "    </tr>\n",
       "    <tr>\n",
       "      <td>3</td>\n",
       "      <td>09N2ntwDDNljUVqiXcS1YH</td>\n",
       "      <td>1L2nKKbjV9Zn2SUuTIoXn6</td>\n",
       "      <td>东西</td>\n",
       "      <td>林俊呈</td>\n",
       "      <td>40</td>\n",
       "    </tr>\n",
       "    <tr>\n",
       "      <td>4</td>\n",
       "      <td>09N2ntwDDNljUVqiXcS1YH</td>\n",
       "      <td>683i1XBgGd0rApQypI9QLp</td>\n",
       "      <td>You &amp; Me Song - Acoustic</td>\n",
       "      <td>The Macarons Project</td>\n",
       "      <td>37</td>\n",
       "    </tr>\n",
       "  </tbody>\n",
       "</table>\n",
       "</div>"
      ],
      "text/plain": [
       "              playlist_id                track_id  \\\n",
       "0  09N2ntwDDNljUVqiXcS1YH  06RXsjrMsJs91da6kpWxmI   \n",
       "1  09N2ntwDDNljUVqiXcS1YH  5qS5oI1cz7Jj8Z5U6d4mNU   \n",
       "2  09N2ntwDDNljUVqiXcS1YH  6XkGoC4BvoCyJfyc5RXiHM   \n",
       "3  09N2ntwDDNljUVqiXcS1YH  1L2nKKbjV9Zn2SUuTIoXn6   \n",
       "4  09N2ntwDDNljUVqiXcS1YH  683i1XBgGd0rApQypI9QLp   \n",
       "\n",
       "                              trackName            artistName popularity  \n",
       "0                      房間 (電影《超時空同居》插曲)                   劉瑞琦         58  \n",
       "1  Take It One Day at a Time (Acoustic)        Jennifer Chung         31  \n",
       "2                           不是因為天氣晴朗才愛你                  理想混蛋         42  \n",
       "3                                    东西                   林俊呈         40  \n",
       "4              You & Me Song - Acoustic  The Macarons Project         37  "
      ]
     },
     "execution_count": 114,
     "metadata": {},
     "output_type": "execute_result"
    }
   ],
   "source": [
    "mask = ~playlist_tracks[\"track_id\"].isnull()\n",
    "playlist_tracks = playlist_tracks[mask]\n",
    "playlist_tracks.head(5)"
   ]
  },
  {
   "cell_type": "code",
   "execution_count": 121,
   "metadata": {},
   "outputs": [],
   "source": [
    "## get features for each track\n",
    "features_df = pd.DataFrame(columns=[\"song_id\",\"energy\", \"BPM\", \"speechiness\", \"acousticness\", \n",
    "                                    \"instrumentalness\",\"danceability\", \"duration_ms\",\"valence\"])\n",
    "ids = list(playlist_tracks[\"track_id\"].unique())\n",
    "\n",
    "for song in ids:\n",
    "    features = sp.audio_features(tracks = [song])[0]\n",
    "    if features is not None:\n",
    "        features_df = features_df.append({\"song_id\":song,\n",
    "                                          \"energy\":features['energy'], \n",
    "                                          \"BPM\":features['tempo'],\n",
    "                                          \"speechiness\":features['speechiness'],\n",
    "                                          \"acousticness\":features['acousticness'],\n",
    "                                          \"instrumentalness\":features['instrumentalness'],\n",
    "                                          \"danceability\":features['danceability'],\n",
    "                                          \"duration_ms\":features['duration_ms'],\n",
    "                                          \"valence\":features['valence'],\n",
    "                                         },ignore_index=True)\n",
    "    else:\n",
    "        pass"
   ]
  },
  {
   "cell_type": "markdown",
   "metadata": {},
   "source": [
    "Now that we have a data frame containing playlist id and name, a data frame containing playlist id and song id for each song in a playlist, and a data frame containing the features of the songs, let's combine them into one dataframe."
   ]
  },
  {
   "cell_type": "code",
   "execution_count": 131,
   "metadata": {
    "scrolled": true
   },
   "outputs": [],
   "source": [
    "## join the data frames togetherand drop redundant columns\n",
    "playlist_df = playlist_info.merge(playlist_tracks, how=\"left\", left_on= \"id\", right_on=\"playlist_id\").merge(\n",
    "    features_df, how=\"left\", left_on= \"track_id\", right_on=\"song_id\")\n",
    "\n",
    "playlist_df.drop(columns=['id', 'song_id'], inplace=True)"
   ]
  },
  {
   "cell_type": "code",
   "execution_count": 132,
   "metadata": {
    "scrolled": true
   },
   "outputs": [
    {
     "data": {
      "text/html": [
       "<div>\n",
       "<style scoped>\n",
       "    .dataframe tbody tr th:only-of-type {\n",
       "        vertical-align: middle;\n",
       "    }\n",
       "\n",
       "    .dataframe tbody tr th {\n",
       "        vertical-align: top;\n",
       "    }\n",
       "\n",
       "    .dataframe thead th {\n",
       "        text-align: right;\n",
       "    }\n",
       "</style>\n",
       "<table border=\"1\" class=\"dataframe\">\n",
       "  <thead>\n",
       "    <tr style=\"text-align: right;\">\n",
       "      <th></th>\n",
       "      <th>name</th>\n",
       "      <th>playlist_id</th>\n",
       "      <th>track_id</th>\n",
       "      <th>trackName</th>\n",
       "      <th>artistName</th>\n",
       "      <th>popularity</th>\n",
       "      <th>energy</th>\n",
       "      <th>BPM</th>\n",
       "      <th>speechiness</th>\n",
       "      <th>acousticness</th>\n",
       "      <th>instrumentalness</th>\n",
       "      <th>danceability</th>\n",
       "      <th>duration_ms</th>\n",
       "      <th>valence</th>\n",
       "    </tr>\n",
       "  </thead>\n",
       "  <tbody>\n",
       "    <tr>\n",
       "      <td>0</td>\n",
       "      <td>Master of None</td>\n",
       "      <td>09N2ntwDDNljUVqiXcS1YH</td>\n",
       "      <td>06RXsjrMsJs91da6kpWxmI</td>\n",
       "      <td>房間 (電影《超時空同居》插曲)</td>\n",
       "      <td>劉瑞琦</td>\n",
       "      <td>58</td>\n",
       "      <td>0.440</td>\n",
       "      <td>129.643</td>\n",
       "      <td>0.0462</td>\n",
       "      <td>0.699</td>\n",
       "      <td>0</td>\n",
       "      <td>0.466</td>\n",
       "      <td>241905</td>\n",
       "      <td>0.318</td>\n",
       "    </tr>\n",
       "    <tr>\n",
       "      <td>1</td>\n",
       "      <td>Master of None</td>\n",
       "      <td>09N2ntwDDNljUVqiXcS1YH</td>\n",
       "      <td>5qS5oI1cz7Jj8Z5U6d4mNU</td>\n",
       "      <td>Take It One Day at a Time (Acoustic)</td>\n",
       "      <td>Jennifer Chung</td>\n",
       "      <td>31</td>\n",
       "      <td>0.139</td>\n",
       "      <td>80.036</td>\n",
       "      <td>0.0370</td>\n",
       "      <td>0.940</td>\n",
       "      <td>2.25e-06</td>\n",
       "      <td>0.393</td>\n",
       "      <td>385024</td>\n",
       "      <td>0.253</td>\n",
       "    </tr>\n",
       "    <tr>\n",
       "      <td>2</td>\n",
       "      <td>Master of None</td>\n",
       "      <td>09N2ntwDDNljUVqiXcS1YH</td>\n",
       "      <td>6XkGoC4BvoCyJfyc5RXiHM</td>\n",
       "      <td>不是因為天氣晴朗才愛你</td>\n",
       "      <td>理想混蛋</td>\n",
       "      <td>42</td>\n",
       "      <td>0.271</td>\n",
       "      <td>135.781</td>\n",
       "      <td>0.0347</td>\n",
       "      <td>0.753</td>\n",
       "      <td>1.23e-06</td>\n",
       "      <td>0.506</td>\n",
       "      <td>240754</td>\n",
       "      <td>0.399</td>\n",
       "    </tr>\n",
       "    <tr>\n",
       "      <td>3</td>\n",
       "      <td>Master of None</td>\n",
       "      <td>09N2ntwDDNljUVqiXcS1YH</td>\n",
       "      <td>1L2nKKbjV9Zn2SUuTIoXn6</td>\n",
       "      <td>东西</td>\n",
       "      <td>林俊呈</td>\n",
       "      <td>40</td>\n",
       "      <td>0.458</td>\n",
       "      <td>167.987</td>\n",
       "      <td>0.0301</td>\n",
       "      <td>0.379</td>\n",
       "      <td>0</td>\n",
       "      <td>0.676</td>\n",
       "      <td>162363</td>\n",
       "      <td>0.817</td>\n",
       "    </tr>\n",
       "    <tr>\n",
       "      <td>4</td>\n",
       "      <td>Master of None</td>\n",
       "      <td>09N2ntwDDNljUVqiXcS1YH</td>\n",
       "      <td>683i1XBgGd0rApQypI9QLp</td>\n",
       "      <td>You &amp; Me Song - Acoustic</td>\n",
       "      <td>The Macarons Project</td>\n",
       "      <td>37</td>\n",
       "      <td>0.105</td>\n",
       "      <td>109.477</td>\n",
       "      <td>0.0365</td>\n",
       "      <td>0.882</td>\n",
       "      <td>6.65e-05</td>\n",
       "      <td>0.587</td>\n",
       "      <td>170007</td>\n",
       "      <td>0.337</td>\n",
       "    </tr>\n",
       "  </tbody>\n",
       "</table>\n",
       "</div>"
      ],
      "text/plain": [
       "             name             playlist_id                track_id  \\\n",
       "0  Master of None  09N2ntwDDNljUVqiXcS1YH  06RXsjrMsJs91da6kpWxmI   \n",
       "1  Master of None  09N2ntwDDNljUVqiXcS1YH  5qS5oI1cz7Jj8Z5U6d4mNU   \n",
       "2  Master of None  09N2ntwDDNljUVqiXcS1YH  6XkGoC4BvoCyJfyc5RXiHM   \n",
       "3  Master of None  09N2ntwDDNljUVqiXcS1YH  1L2nKKbjV9Zn2SUuTIoXn6   \n",
       "4  Master of None  09N2ntwDDNljUVqiXcS1YH  683i1XBgGd0rApQypI9QLp   \n",
       "\n",
       "                              trackName            artistName popularity  \\\n",
       "0                      房間 (電影《超時空同居》插曲)                   劉瑞琦         58   \n",
       "1  Take It One Day at a Time (Acoustic)        Jennifer Chung         31   \n",
       "2                           不是因為天氣晴朗才愛你                  理想混蛋         42   \n",
       "3                                    东西                   林俊呈         40   \n",
       "4              You & Me Song - Acoustic  The Macarons Project         37   \n",
       "\n",
       "   energy      BPM  speechiness  acousticness instrumentalness  danceability  \\\n",
       "0   0.440  129.643       0.0462         0.699                0         0.466   \n",
       "1   0.139   80.036       0.0370         0.940         2.25e-06         0.393   \n",
       "2   0.271  135.781       0.0347         0.753         1.23e-06         0.506   \n",
       "3   0.458  167.987       0.0301         0.379                0         0.676   \n",
       "4   0.105  109.477       0.0365         0.882         6.65e-05         0.587   \n",
       "\n",
       "  duration_ms  valence  \n",
       "0      241905    0.318  \n",
       "1      385024    0.253  \n",
       "2      240754    0.399  \n",
       "3      162363    0.817  \n",
       "4      170007    0.337  "
      ]
     },
     "execution_count": 132,
     "metadata": {},
     "output_type": "execute_result"
    }
   ],
   "source": [
    "playlist_df.head(5)"
   ]
  },
  {
   "cell_type": "markdown",
   "metadata": {},
   "source": [
    "## Data Cleaning\n",
    "\n",
    "Overall, the data quality is very good, with very few missing values. Here are a few things that I'll do to the data frame with information on my streaming history: \n",
    "\n",
    "1. Delete any song that wasn't actually streamed (i.e. msPlayed = 0).\n",
    "2. Convert the feature \"msPlayed\" (milliseconds played) into minutes\n",
    "3. Convert the feature \"duration_ms\" (length of song in milliseconds) into minutes\n",
    "4. Convert the feature \"endTime\" (the timestamp when I stopped playing the song) into YYYY-MM-DD format, since I don't plan to do anything with the hour or second information.\n",
    "\n"
   ]
  },
  {
   "cell_type": "code",
   "execution_count": 12,
   "metadata": {},
   "outputs": [],
   "source": [
    "## there was a song from 2018 in my streaming history, so I deleted it to keep the time period to 2019-2020\n",
    "streaming_df = streaming_df.iloc[1:,]"
   ]
  },
  {
   "cell_type": "code",
   "execution_count": 13,
   "metadata": {},
   "outputs": [],
   "source": [
    "## delete entries where the song was skipped (i.e. msPlayed = 0)\n",
    "mask = streaming_df[\"msPlayed\"] != 0\n",
    "streaming_df = streaming_df[mask].reset_index()"
   ]
  },
  {
   "cell_type": "code",
   "execution_count": 14,
   "metadata": {},
   "outputs": [],
   "source": [
    "## convert ms to minutes\n",
    "streaming_df[\"minutesPlayed\"] = streaming_df[\"msPlayed\"]/60000\n",
    "streaming_df[\"duration_min\"] = streaming_df[\"duration_ms\"]/60000"
   ]
  },
  {
   "cell_type": "code",
   "execution_count": 15,
   "metadata": {},
   "outputs": [],
   "source": [
    "## get a feature representing the date that the song was played\n",
    "def get_date(date):\n",
    "    \n",
    "    date = datetime.strptime(date, '%Y-%m-%d %H:%M')\n",
    "    return date.strftime(\"%Y-%m-%d\")\n",
    "    \n",
    "streaming_df[\"datePlayed\"] = streaming_df[\"endTime\"].apply(get_date)"
   ]
  },
  {
   "cell_type": "code",
   "execution_count": 16,
   "metadata": {},
   "outputs": [],
   "source": [
    "## drop defunct/redundant columns\n",
    "streaming_df.drop(columns=['index', 'endTime', 'id', 'msPlayed', 'duration_ms'], inplace=True)"
   ]
  },
  {
   "cell_type": "code",
   "execution_count": 17,
   "metadata": {
    "scrolled": true
   },
   "outputs": [
    {
     "data": {
      "text/plain": [
       "count    5107.000000\n",
       "mean        1.953301\n",
       "std         1.711523\n",
       "min         0.000367\n",
       "25%         0.142667\n",
       "50%         1.958667\n",
       "75%         3.463733\n",
       "max        25.022567\n",
       "Name: minutesPlayed, dtype: float64"
      ]
     },
     "execution_count": 17,
     "metadata": {},
     "output_type": "execute_result"
    }
   ],
   "source": [
    "streaming_df[\"minutesPlayed\"].describe()"
   ]
  },
  {
   "cell_type": "markdown",
   "metadata": {},
   "source": [
    "For some reason, there's a song that was played for 25 minutes (I didn't know songs could be so long!). Let's keep the songs that were played for 0-8 minutes, since anything more than that would likely be an error."
   ]
  },
  {
   "cell_type": "code",
   "execution_count": 18,
   "metadata": {},
   "outputs": [],
   "source": [
    "mask = streaming_df[\"minutesPlayed\"] <= 8\n",
    "streaming_df = streaming_df[mask]"
   ]
  },
  {
   "cell_type": "code",
   "execution_count": 19,
   "metadata": {},
   "outputs": [],
   "source": [
    "## create a feature representing the month that the song was streamed\n",
    "streaming_df[\"month\"] = streaming_df['datePlayed'].apply(lambda x:x[:7])\n",
    "\n",
    "## transform \"dateplayed\" from string to datetime\n",
    "streaming_df[\"datePlayed\"] = streaming_df[\"datePlayed\"].apply(lambda x: datetime.strptime(x, '%Y-%m-%d'))\n"
   ]
  },
  {
   "cell_type": "code",
   "execution_count": 20,
   "metadata": {
    "scrolled": true
   },
   "outputs": [
    {
     "data": {
      "text/html": [
       "<div>\n",
       "<style scoped>\n",
       "    .dataframe tbody tr th:only-of-type {\n",
       "        vertical-align: middle;\n",
       "    }\n",
       "\n",
       "    .dataframe tbody tr th {\n",
       "        vertical-align: top;\n",
       "    }\n",
       "\n",
       "    .dataframe thead th {\n",
       "        text-align: right;\n",
       "    }\n",
       "</style>\n",
       "<table border=\"1\" class=\"dataframe\">\n",
       "  <thead>\n",
       "    <tr style=\"text-align: right;\">\n",
       "      <th></th>\n",
       "      <th>artistName</th>\n",
       "      <th>trackName</th>\n",
       "      <th>song_id</th>\n",
       "      <th>energy</th>\n",
       "      <th>liveness</th>\n",
       "      <th>tempo</th>\n",
       "      <th>speechiness</th>\n",
       "      <th>acousticness</th>\n",
       "      <th>instrumentalness</th>\n",
       "      <th>danceability</th>\n",
       "      <th>loudness</th>\n",
       "      <th>valence</th>\n",
       "      <th>mode</th>\n",
       "      <th>key</th>\n",
       "      <th>minutesPlayed</th>\n",
       "      <th>duration_min</th>\n",
       "      <th>datePlayed</th>\n",
       "      <th>month</th>\n",
       "    </tr>\n",
       "  </thead>\n",
       "  <tbody>\n",
       "    <tr>\n",
       "      <td>0</td>\n",
       "      <td>CHANYEOL</td>\n",
       "      <td>Stay With Me</td>\n",
       "      <td>1POlsQls16ppLPVmr4FGLt</td>\n",
       "      <td>0.526</td>\n",
       "      <td>0.126</td>\n",
       "      <td>78.643</td>\n",
       "      <td>0.0484</td>\n",
       "      <td>0.42800</td>\n",
       "      <td>0.000000</td>\n",
       "      <td>0.314</td>\n",
       "      <td>-4.686</td>\n",
       "      <td>0.195</td>\n",
       "      <td>0</td>\n",
       "      <td>0</td>\n",
       "      <td>1.686167</td>\n",
       "      <td>3.20735</td>\n",
       "      <td>2019-07-26</td>\n",
       "      <td>2019-07</td>\n",
       "    </tr>\n",
       "    <tr>\n",
       "      <td>1</td>\n",
       "      <td>(G)I-DLE</td>\n",
       "      <td>Senorita</td>\n",
       "      <td>0q6boCcLaWYPIy2vOsksFg</td>\n",
       "      <td>0.808</td>\n",
       "      <td>0.331</td>\n",
       "      <td>120.021</td>\n",
       "      <td>0.0362</td>\n",
       "      <td>0.01590</td>\n",
       "      <td>0.000043</td>\n",
       "      <td>0.782</td>\n",
       "      <td>-3.139</td>\n",
       "      <td>0.420</td>\n",
       "      <td>1</td>\n",
       "      <td>0</td>\n",
       "      <td>3.293600</td>\n",
       "      <td>3.2936</td>\n",
       "      <td>2019-07-26</td>\n",
       "      <td>2019-07</td>\n",
       "    </tr>\n",
       "    <tr>\n",
       "      <td>2</td>\n",
       "      <td>BLACKPINK</td>\n",
       "      <td>BOOMBAYAH</td>\n",
       "      <td>3yHQKddM8SVCRnuPSo3HPN</td>\n",
       "      <td>0.836</td>\n",
       "      <td>0.507</td>\n",
       "      <td>124.969</td>\n",
       "      <td>0.0549</td>\n",
       "      <td>0.00264</td>\n",
       "      <td>0.000001</td>\n",
       "      <td>0.658</td>\n",
       "      <td>-3.282</td>\n",
       "      <td>0.387</td>\n",
       "      <td>0</td>\n",
       "      <td>5</td>\n",
       "      <td>4.014133</td>\n",
       "      <td>4.01415</td>\n",
       "      <td>2019-07-26</td>\n",
       "      <td>2019-07</td>\n",
       "    </tr>\n",
       "    <tr>\n",
       "      <td>3</td>\n",
       "      <td>EXID</td>\n",
       "      <td>Up &amp; Down</td>\n",
       "      <td>6BKOhvRPY54uvfqWwg7MKi</td>\n",
       "      <td>0.812</td>\n",
       "      <td>0.229</td>\n",
       "      <td>112.018</td>\n",
       "      <td>0.0351</td>\n",
       "      <td>0.00189</td>\n",
       "      <td>0.000002</td>\n",
       "      <td>0.714</td>\n",
       "      <td>-2.703</td>\n",
       "      <td>0.377</td>\n",
       "      <td>1</td>\n",
       "      <td>7</td>\n",
       "      <td>2.425650</td>\n",
       "      <td>3.1647</td>\n",
       "      <td>2019-07-26</td>\n",
       "      <td>2019-07</td>\n",
       "    </tr>\n",
       "    <tr>\n",
       "      <td>4</td>\n",
       "      <td>TWICE</td>\n",
       "      <td>YES or YES</td>\n",
       "      <td>0Ll92eLIHWY5gey1ISNMPi</td>\n",
       "      <td>0.913</td>\n",
       "      <td>0.166</td>\n",
       "      <td>137.982</td>\n",
       "      <td>0.0374</td>\n",
       "      <td>0.05140</td>\n",
       "      <td>0.000004</td>\n",
       "      <td>0.702</td>\n",
       "      <td>-2.977</td>\n",
       "      <td>0.735</td>\n",
       "      <td>1</td>\n",
       "      <td>11</td>\n",
       "      <td>0.017733</td>\n",
       "      <td>3.96133</td>\n",
       "      <td>2019-07-26</td>\n",
       "      <td>2019-07</td>\n",
       "    </tr>\n",
       "  </tbody>\n",
       "</table>\n",
       "</div>"
      ],
      "text/plain": [
       "  artistName     trackName                 song_id  energy  liveness    tempo  \\\n",
       "0   CHANYEOL  Stay With Me  1POlsQls16ppLPVmr4FGLt   0.526     0.126   78.643   \n",
       "1   (G)I-DLE      Senorita  0q6boCcLaWYPIy2vOsksFg   0.808     0.331  120.021   \n",
       "2  BLACKPINK     BOOMBAYAH  3yHQKddM8SVCRnuPSo3HPN   0.836     0.507  124.969   \n",
       "3       EXID     Up & Down  6BKOhvRPY54uvfqWwg7MKi   0.812     0.229  112.018   \n",
       "4      TWICE    YES or YES  0Ll92eLIHWY5gey1ISNMPi   0.913     0.166  137.982   \n",
       "\n",
       "   speechiness  acousticness  instrumentalness  danceability  loudness  \\\n",
       "0       0.0484       0.42800          0.000000         0.314    -4.686   \n",
       "1       0.0362       0.01590          0.000043         0.782    -3.139   \n",
       "2       0.0549       0.00264          0.000001         0.658    -3.282   \n",
       "3       0.0351       0.00189          0.000002         0.714    -2.703   \n",
       "4       0.0374       0.05140          0.000004         0.702    -2.977   \n",
       "\n",
       "   valence mode key  minutesPlayed duration_min datePlayed    month  \n",
       "0    0.195    0   0       1.686167      3.20735 2019-07-26  2019-07  \n",
       "1    0.420    1   0       3.293600       3.2936 2019-07-26  2019-07  \n",
       "2    0.387    0   5       4.014133      4.01415 2019-07-26  2019-07  \n",
       "3    0.377    1   7       2.425650       3.1647 2019-07-26  2019-07  \n",
       "4    0.735    1  11       0.017733      3.96133 2019-07-26  2019-07  "
      ]
     },
     "execution_count": 20,
     "metadata": {},
     "output_type": "execute_result"
    }
   ],
   "source": [
    "streaming_df.head()"
   ]
  },
  {
   "cell_type": "markdown",
   "metadata": {},
   "source": [
    "For the playlist dataframe, the only thing I need to do is coerce the type of data from object to float for certain features."
   ]
  },
  {
   "cell_type": "code",
   "execution_count": 154,
   "metadata": {
    "scrolled": true
   },
   "outputs": [
    {
     "data": {
      "text/plain": [
       "name                 object\n",
       "playlist_id          object\n",
       "track_id             object\n",
       "trackName            object\n",
       "artistName           object\n",
       "popularity           object\n",
       "energy              float64\n",
       "BPM                 float64\n",
       "speechiness         float64\n",
       "acousticness        float64\n",
       "instrumentalness     object\n",
       "danceability        float64\n",
       "duration_ms          object\n",
       "valence             float64\n",
       "dtype: object"
      ]
     },
     "execution_count": 154,
     "metadata": {},
     "output_type": "execute_result"
    }
   ],
   "source": [
    "playlist_df.dtypes"
   ]
  },
  {
   "cell_type": "code",
   "execution_count": 160,
   "metadata": {},
   "outputs": [],
   "source": [
    "playlist_df[\"popularity\"] = playlist_df[\"popularity\"].apply(float)\n",
    "playlist_df[\"instrumentalness\"] = playlist_df[\"instrumentalness\"].apply(float)"
   ]
  },
  {
   "cell_type": "markdown",
   "metadata": {},
   "source": [
    "## Data Visualization\n",
    "\n",
    "Now that I have data frames for my streaming history and my playlists, let's visualize them and see if we can uncover patterns and answer some questions I had."
   ]
  },
  {
   "cell_type": "markdown",
   "metadata": {},
   "source": [
    "### Time Played for Songs I Streamed\n",
    "\n",
    "Is a Spotify subscription really worth it in my case? A big draw of using Spotify is its algorithm that recommends songs to me. So, to answer the question, I will break down the problem into two parts:\n",
    "\n",
    "1. Do I like the recommendations that I get?\n",
    "2. How often do I actually use Spotify?\n",
    "\n",
    "To answer the first question, I will use the variable \"minutesPlayed\" as a proxy. I usually skip over songs that I don't like, so if a song was recommended to me and I don't like it, I'll usually skip it."
   ]
  },
  {
   "cell_type": "code",
   "execution_count": 21,
   "metadata": {
    "scrolled": true
   },
   "outputs": [
    {
     "data": {
      "image/png": "[encoded data removed]",
      "text/plain": [
       "<Figure size 864x252 with 2 Axes>"
      ]
     },
     "metadata": {},
     "output_type": "display_data"
    }
   ],
   "source": [
    "plt.style.use('ggplot')\n",
    "fig, ax = plt.subplots(nrows=1, ncols=2, figsize = (12,3.5))\n",
    "ax[0].hist(streaming_df[\"minutesPlayed\"], color = \"lightcoral\")\n",
    "ax[0].set_xlabel('Time Played (Minutes)')\n",
    "ax[0].set_ylabel('Frequency')\n",
    "ax[0].set_title('Distribution of Time Played for Streamed Songs', fontsize=14)\n",
    "\n",
    "\n",
    "ax[1].hist(streaming_df[\"duration_min\"], color = \"plum\")\n",
    "ax[1].set_xlabel('Song Duration (Minutes)')\n",
    "ax[1].set_ylabel('Frequency')\n",
    "ax[1].set_title('Distribution of Song Durations');"
   ]
  },
  {
   "cell_type": "markdown",
   "metadata": {},
   "source": [
    "I'm actually quite surprised to see how different the distribution of minutes I streamed a song for is from the distribution of song durations. The latter is roughly normally distributed while the former is right skewed, which goes to show how often I skip over songs. Of the 5000 songs that I streamed in the past year, I listened to about 2000 of them for less than 30 seconds!"
   ]
  },
  {
   "cell_type": "code",
   "execution_count": 22,
   "metadata": {
    "scrolled": true
   },
   "outputs": [
    {
     "data": {
      "image/png": "[encoded data removed]",
      "text/plain": [
       "<Figure size 432x288 with 1 Axes>"
      ]
     },
     "metadata": {},
     "output_type": "display_data"
    }
   ],
   "source": [
    "## get the minutes played for songs I played for less than a minute\n",
    "mask = streaming_df[\"minutesPlayed\"]<=1\n",
    "tmp = streaming_df[\"minutesPlayed\"][mask]\n",
    "\n",
    "plt.hist(tmp, color = \"cornflowerblue\")\n",
    "plt.title(\"Distribution of Time Played (< 1 Minute)\")\n",
    "plt.xlabel('Time Played (Minutes)')\n",
    "plt.ylabel('Frequency');"
   ]
  },
  {
   "cell_type": "markdown",
   "metadata": {},
   "source": [
    "Looking just at the songs that I played for less than a minute, it appears that the vast majority of them were skipped after playing for less than 6 seconds! \n",
    "\n",
    "Perhaps I should reconsider my Spotify subscription! Skipping about 40% of the songs recommended sounds a bit high to me, and I dislike these recommendations so much that I usually decide to skip in the first 6 seconds of the song. That being said, I can be somewhat picky with music (as you can probably imagine), so it's most likely not the algorithm's fault."
   ]
  },
  {
   "cell_type": "markdown",
   "metadata": {},
   "source": [
    "### Changes in Usage and Mood Across Time\n",
    "\n",
    "There are two features I'm particularly interested in examining. In the aggregated data frame, I have the total monthly minutes played, as well as the average \"valence\" of the songs I played during that day. According to Spotify, valence is a feature that describes \"the musical positiveness conveyed by a track\". Valence ranges from 0-1, with 1 being more upbeat and 0 being more sad. By looking at valence over time, I can see how my mood changed throughout the past year."
   ]
  },
  {
   "cell_type": "code",
   "execution_count": 23,
   "metadata": {},
   "outputs": [],
   "source": [
    "## aggregate the data frame across months\n",
    "\n",
    "aggregate_df = streaming_df.groupby('month').agg({\n",
    "    'valence': [np.mean, np.std],\n",
    "    'minutesPlayed': np.sum\n",
    "        })\n",
    "\n",
    "## rename column names to the following format: feature_aggregate function\n",
    "aggregate_df.columns = ['_'.join(name) for name in aggregate_df.columns]\n",
    "aggregate_df.reset_index(inplace=True)"
   ]
  },
  {
   "cell_type": "code",
   "execution_count": 24,
   "metadata": {},
   "outputs": [
    {
     "data": {
      "text/html": [
       "<div>\n",
       "<style scoped>\n",
       "    .dataframe tbody tr th:only-of-type {\n",
       "        vertical-align: middle;\n",
       "    }\n",
       "\n",
       "    .dataframe tbody tr th {\n",
       "        vertical-align: top;\n",
       "    }\n",
       "\n",
       "    .dataframe thead th {\n",
       "        text-align: right;\n",
       "    }\n",
       "</style>\n",
       "<table border=\"1\" class=\"dataframe\">\n",
       "  <thead>\n",
       "    <tr style=\"text-align: right;\">\n",
       "      <th></th>\n",
       "      <th>month</th>\n",
       "      <th>valence_mean</th>\n",
       "      <th>valence_std</th>\n",
       "      <th>minutesPlayed_sum</th>\n",
       "    </tr>\n",
       "  </thead>\n",
       "  <tbody>\n",
       "    <tr>\n",
       "      <td>0</td>\n",
       "      <td>2019-07</td>\n",
       "      <td>0.554774</td>\n",
       "      <td>0.204491</td>\n",
       "      <td>410.583050</td>\n",
       "    </tr>\n",
       "    <tr>\n",
       "      <td>1</td>\n",
       "      <td>2019-08</td>\n",
       "      <td>0.554311</td>\n",
       "      <td>0.217872</td>\n",
       "      <td>1328.080417</td>\n",
       "    </tr>\n",
       "    <tr>\n",
       "      <td>2</td>\n",
       "      <td>2019-09</td>\n",
       "      <td>0.551948</td>\n",
       "      <td>0.189582</td>\n",
       "      <td>221.165317</td>\n",
       "    </tr>\n",
       "    <tr>\n",
       "      <td>3</td>\n",
       "      <td>2019-10</td>\n",
       "      <td>0.465154</td>\n",
       "      <td>0.204322</td>\n",
       "      <td>342.895350</td>\n",
       "    </tr>\n",
       "    <tr>\n",
       "      <td>4</td>\n",
       "      <td>2019-11</td>\n",
       "      <td>0.457729</td>\n",
       "      <td>0.225950</td>\n",
       "      <td>770.729583</td>\n",
       "    </tr>\n",
       "  </tbody>\n",
       "</table>\n",
       "</div>"
      ],
      "text/plain": [
       "     month  valence_mean  valence_std  minutesPlayed_sum\n",
       "0  2019-07      0.554774     0.204491         410.583050\n",
       "1  2019-08      0.554311     0.217872        1328.080417\n",
       "2  2019-09      0.551948     0.189582         221.165317\n",
       "3  2019-10      0.465154     0.204322         342.895350\n",
       "4  2019-11      0.457729     0.225950         770.729583"
      ]
     },
     "execution_count": 24,
     "metadata": {},
     "output_type": "execute_result"
    }
   ],
   "source": [
    "aggregate_df.head()"
   ]
  },
  {
   "cell_type": "code",
   "execution_count": 25,
   "metadata": {
    "scrolled": false
   },
   "outputs": [
    {
     "data": {
      "image/png": "[encoded data removed]",
      "text/plain": [
       "<Figure size 864x288 with 2 Axes>"
      ]
     },
     "metadata": {},
     "output_type": "display_data"
    }
   ],
   "source": [
    "mpl.rcParams['lines.linewidth'] = 4\n",
    "mpl.rcParams['lines.linestyle'] = '--'\n",
    "\n",
    "plt.style.use('ggplot')\n",
    "fig, ax = plt.subplots(nrows=1, ncols=2, figsize = (12,4))\n",
    "\n",
    "ax[0].plot(aggregate_df[\"month\"], aggregate_df[\"minutesPlayed_sum\"], color = \"lightcoral\")\n",
    "ax[0].set_xticklabels(labels = aggregate_df[\"month\"], rotation=40)\n",
    "ax[0].set_xlabel('Month')\n",
    "ax[0].set_ylabel('Time Played (Minutes)')\n",
    "ax[0].set_title('Total Monthly Minutes Streamed Across Time')\n",
    "\n",
    "ax[1].plot(aggregate_df[\"month\"], aggregate_df[\"valence_mean\"], color = \"dodgerblue\")\n",
    "ax[1].set_xticklabels(labels = aggregate_df[\"month\"], rotation=40)\n",
    "ax[1].set_xlabel('Month')\n",
    "ax[1].set_ylabel('Valence')\n",
    "ax[1].set_title('Average Monthly Valence Across Time');"
   ]
  },
  {
   "cell_type": "markdown",
   "metadata": {},
   "source": [
    "Looking at the plots above, I can better understand my Spotify usage and mood across the previous 12 months. To give some context, I was working up until mid-August 2019, and quit my job to start graduate school in early September. \n",
    "\n",
    "Understandably, I saw a huge spike in time spent listening to music on Spotify in August, when I quit my job and had more free time on my hands. Then, when I started my graduate program, I hit an all time low (I remember being very busy re-adjusting to student life) and gradually increased my usage throughout the fall semester as I became more well-adjusted. January was my winter break, so naturally there was a spike in usage there, too, and it steadily decreased all the way to present day. It looks like in an average month (where I'm not too busy or too free), I stream songs for about 10 hours, so at \\\\$10/month I'm only paying \\\\$1/hour for Spotify's services.\n",
    "\n",
    "The change in average monthly valence over time tells an interesting story. Clearly, my mood has been on a fairly steady decline over the past year. My mood was fairly positive from July to September, but I experienced a sharp drop in October (when the first wave of exams came around), and given how much Christmas music I listened to in December, I would have expected a much bigger uptick in December if it weren't for my final exams being around that time period too. There was another uptick in June (around the time I graduated from my program), but it was accompanied by a sharp drop once I started job searching!\n",
    "\n"
   ]
  },
  {
   "cell_type": "markdown",
   "metadata": {},
   "source": [
    "### How Much Do I Actually Use Spotify?\n",
    "\n",
    "To follow up on the total monthly minutes plot in the previous section, I'm curious to see if there are confounding factors that lead to misrepresentation of my Spotify usage. One possibility is that there are was simply an outlier during certain months (e.g. August, January) that drove up the entire month's total usage, while my usage was normal for the rest of the month."
   ]
  },
  {
   "cell_type": "code",
   "execution_count": 26,
   "metadata": {},
   "outputs": [],
   "source": [
    "aggregate_df = streaming_df.groupby('datePlayed').agg({'minutesPlayed': np.sum})\n",
    "events = pd.Series(aggregate_df[\"minutesPlayed\"])"
   ]
  },
  {
   "cell_type": "code",
   "execution_count": 382,
   "metadata": {
    "scrolled": true
   },
   "outputs": [
    {
     "data": {
      "image/png": "[encoded data removed]",
      "text/plain": [
       "<Figure size 864x432 with 3 Axes>"
      ]
     },
     "metadata": {},
     "output_type": "display_data"
    }
   ],
   "source": [
    "fig, ax = calmap.calendarplot(events, monthticks=1, daylabels='MTWTFSS', dayticks=[0, 2, 4, 6], \n",
    "                              cmap='YlOrRd', linewidth=1, fig_kws = {'figsize': (12, 6)})\n",
    "fig.suptitle('My Spotify Usage for the Past Year', fontsize=24)\n",
    "fig.colorbar(ax[0].get_children()[1], ax=ax.ravel().tolist(), orientation='horizontal');"
   ]
  },
  {
   "cell_type": "markdown",
   "metadata": {},
   "source": [
    "Looking at the resulting calendar heatmap, it appears that there weren't any particular days that drove up the entire month's usage. My Spotify usage in the past year was fairly uniform, while the months that had higher monthly usage (August, January) contained consistently higher usage across several days, not just one. This means that there weren't any outliers that led to misrepresentation of my Spotify usage in the previous section. \n"
   ]
  },
  {
   "cell_type": "markdown",
   "metadata": {},
   "source": [
    "### How Different Are My Playlists?\n",
    "\n",
    "I only have 8 playlists, but each of them falls into one of two categories: nostalgia and theme. \n",
    "\n",
    "1. Nostalgia: These playlists contain songs that I listened to frequently during a period of my life. For example, the playlist titled \"Berkeley\" contains the music that I listened to when I was at Berkeley. \n",
    "2. Theme: These playlists contain songs that fall into a certain theme. For example, the playlist titled \"Zero to Hero\" is my workout playlist and contain upbeat songs that I listen to during exercise. \n",
    "\n",
    "The playlists that fall under \"theme\" should definitely be very different in terms of music, but just how different are they in terms of the features that Spotify tracks? To do this, I will create radar charts for each playlist, based on 5 features: acousticness, valence, energy, danceability, and instrumentalness."
   ]
  },
  {
   "cell_type": "code",
   "execution_count": 282,
   "metadata": {},
   "outputs": [],
   "source": [
    "playlist_agg = playlist_df.groupby('name').agg({\n",
    "    'energy': np.mean,\n",
    "    'valence': np.mean,\n",
    "    'acousticness': np.mean,\n",
    "    'instrumentalness': np.mean,\n",
    "    'danceability': np.mean\n",
    "        })"
   ]
  },
  {
   "cell_type": "code",
   "execution_count": 346,
   "metadata": {},
   "outputs": [],
   "source": [
    "names = playlist_agg.index\n",
    "features = playlist_agg.columns\n",
    "layout = dict(radialaxis = dict(range=[0, 1], showticklabels=False, ticks=''))"
   ]
  },
  {
   "cell_type": "code",
   "execution_count": 353,
   "metadata": {
    "scrolled": true
   },
   "outputs": [
    {
     "data": {
      "application/vnd.plotly.v1+json": {
       "config": {
        "plotlyServerURL": "https://plot.ly"
       },
       "data": [
        {
         "fill": "toself",
         "r": [
          0.4279333333333334,
          0.30866666666666664,
          0.7036666666666667,
          2.237333333333333e-06,
          0.6
         ],
         "subplot": "polar",
         "theta": [
          "energy",
          "valence",
          "acousticness",
          "instrumentalness",
          "danceability"
         ],
         "type": "scatterpolar"
        },
        {
         "fill": "toself",
         "r": [
          0.3353333333333333,
          0.3124166666666667,
          0.6395,
          0.00813875,
          0.513
         ],
         "subplot": "polar2",
         "theta": [
          "energy",
          "valence",
          "acousticness",
          "instrumentalness",
          "danceability"
         ],
         "type": "scatterpolar"
        },
        {
         "fill": "toself",
         "r": [
          0.4079647058823529,
          0.3488117647058824,
          0.6410434705882354,
          0.0055970594117647045,
          0.47405882352941164
         ],
         "subplot": "polar3",
         "theta": [
          "energy",
          "valence",
          "acousticness",
          "instrumentalness",
          "danceability"
         ],
         "type": "scatterpolar"
        },
        {
         "fill": "toself",
         "r": [
          0.8310645161290322,
          0.6043870967741934,
          0.11957132258064514,
          0.0003955277419354839,
          0.7052580645161292
         ],
         "subplot": "polar4",
         "theta": [
          "energy",
          "valence",
          "acousticness",
          "instrumentalness",
          "danceability"
         ],
         "type": "scatterpolar"
        },
        {
         "fill": "toself",
         "r": [
          0.47406666666666664,
          0.4393333333333333,
          0.5185886666666667,
          4.7823333333333333e-05,
          0.5611333333333334
         ],
         "subplot": "polar5",
         "theta": [
          "energy",
          "valence",
          "acousticness",
          "instrumentalness",
          "danceability"
         ],
         "type": "scatterpolar"
        },
        {
         "fill": "toself",
         "r": [
          0.40484615384615374,
          0.40630769230769237,
          0.6083846153846154,
          8.513846153846154e-06,
          0.5423076923076923
         ],
         "subplot": "polar6",
         "theta": [
          "energy",
          "valence",
          "acousticness",
          "instrumentalness",
          "danceability"
         ],
         "type": "scatterpolar"
        },
        {
         "fill": "toself",
         "r": [
          0.77544,
          0.5174,
          0.20724280000000006,
          0.0392091268,
          0.6218
         ],
         "subplot": "polar7",
         "theta": [
          "energy",
          "valence",
          "acousticness",
          "instrumentalness",
          "danceability"
         ],
         "type": "scatterpolar"
        },
        {
         "fill": "toself",
         "r": [
          0.7737777777777778,
          0.585,
          0.062121111111111106,
          0.11474913555555553,
          0.7001111111111111
         ],
         "subplot": "polar8",
         "theta": [
          "energy",
          "valence",
          "acousticness",
          "instrumentalness",
          "danceability"
         ],
         "type": "scatterpolar"
        }
       ],
       "layout": {
        "annotations": [
         {
          "font": {
           "size": 16
          },
          "showarrow": false,
          "text": "Berkeley",
          "x": 0.0875,
          "xanchor": "center",
          "xref": "paper",
          "y": 1,
          "yanchor": "bottom",
          "yref": "paper"
         },
         {
          "font": {
           "size": 16
          },
          "showarrow": false,
          "text": "In The Mood For Love",
          "x": 0.36250000000000004,
          "xanchor": "center",
          "xref": "paper",
          "y": 1,
          "yanchor": "bottom",
          "yref": "paper"
         },
         {
          "font": {
           "size": 16
          },
          "showarrow": false,
          "text": "Just kidding, thank you",
          "x": 0.6375000000000001,
          "xanchor": "center",
          "xref": "paper",
          "y": 1,
          "yanchor": "bottom",
          "yref": "paper"
         },
         {
          "font": {
           "size": 16
          },
          "showarrow": false,
          "text": "K-Pop Bops",
          "x": 0.9125,
          "xanchor": "center",
          "xref": "paper",
          "y": 1,
          "yanchor": "bottom",
          "yref": "paper"
         },
         {
          "font": {
           "size": 16
          },
          "showarrow": false,
          "text": "Limbo",
          "x": 0.0875,
          "xanchor": "center",
          "xref": "paper",
          "y": 0.45,
          "yanchor": "bottom",
          "yref": "paper"
         },
         {
          "font": {
           "size": 16
          },
          "showarrow": false,
          "text": "Master of None",
          "x": 0.36250000000000004,
          "xanchor": "center",
          "xref": "paper",
          "y": 0.45,
          "yanchor": "bottom",
          "yref": "paper"
         },
         {
          "font": {
           "size": 16
          },
          "showarrow": false,
          "text": "Twice Will Never Love Me Back",
          "x": 0.6375000000000001,
          "xanchor": "center",
          "xref": "paper",
          "y": 0.45,
          "yanchor": "bottom",
          "yref": "paper"
         },
         {
          "font": {
           "size": 16
          },
          "showarrow": false,
          "text": "Zero to Hero",
          "x": 0.9125,
          "xanchor": "center",
          "xref": "paper",
          "y": 0.45,
          "yanchor": "bottom",
          "yref": "paper"
         }
        ],
        "height": 700,
        "polar": {
         "domain": {
          "x": [
           0,
           0.175
          ],
          "y": [
           0.55,
           1
          ]
         },
         "radialaxis": {
          "range": [
           0,
           1
          ],
          "showticklabels": false,
          "ticks": ""
         }
        },
        "polar2": {
         "domain": {
          "x": [
           0.275,
           0.45
          ],
          "y": [
           0.55,
           1
          ]
         },
         "radialaxis": {
          "range": [
           0,
           1
          ],
          "showticklabels": false,
          "ticks": ""
         }
        },
        "polar3": {
         "domain": {
          "x": [
           0.55,
           0.7250000000000001
          ],
          "y": [
           0.55,
           1
          ]
         },
         "radialaxis": {
          "range": [
           0,
           1
          ],
          "showticklabels": false,
          "ticks": ""
         }
        },
        "polar4": {
         "domain": {
          "x": [
           0.825,
           1
          ],
          "y": [
           0.55,
           1
          ]
         },
         "radialaxis": {
          "range": [
           0,
           1
          ],
          "showticklabels": false,
          "ticks": ""
         }
        },
        "polar5": {
         "domain": {
          "x": [
           0,
           0.175
          ],
          "y": [
           0,
           0.45
          ]
         },
         "radialaxis": {
          "range": [
           0,
           1
          ],
          "showticklabels": false,
          "ticks": ""
         }
        },
        "polar6": {
         "domain": {
          "x": [
           0.275,
           0.45
          ],
          "y": [
           0,
           0.45
          ]
         },
         "radialaxis": {
          "range": [
           0,
           1
          ],
          "showticklabels": false,
          "ticks": ""
         }
        },
        "polar7": {
         "domain": {
          "x": [
           0.55,
           0.7250000000000001
          ],
          "y": [
           0,
           0.45
          ]
         },
         "radialaxis": {
          "range": [
           0,
           1
          ],
          "showticklabels": false,
          "ticks": ""
         }
        },
        "polar8": {
         "domain": {
          "x": [
           0.825,
           1
          ],
          "y": [
           0,
           0.45
          ]
         },
         "radialaxis": {
          "range": [
           0,
           1
          ],
          "showticklabels": false,
          "ticks": ""
         }
        },
        "showlegend": false,
        "template": {
         "data": {
          "bar": [
           {
            "error_x": {
             "color": "#2a3f5f"
            },
            "error_y": {
             "color": "#2a3f5f"
            },
            "marker": {
             "line": {
              "color": "#E5ECF6",
              "width": 0.5
             }
            },
            "type": "bar"
           }
          ],
          "barpolar": [
           {
            "marker": {
             "line": {
              "color": "#E5ECF6",
              "width": 0.5
             }
            },
            "type": "barpolar"
           }
          ],
          "carpet": [
           {
            "aaxis": {
             "endlinecolor": "#2a3f5f",
             "gridcolor": "white",
             "linecolor": "white",
             "minorgridcolor": "white",
             "startlinecolor": "#2a3f5f"
            },
            "baxis": {
             "endlinecolor": "#2a3f5f",
             "gridcolor": "white",
             "linecolor": "white",
             "minorgridcolor": "white",
             "startlinecolor": "#2a3f5f"
            },
            "type": "carpet"
           }
          ],
          "choropleth": [
           {
            "colorbar": {
             "outlinewidth": 0,
             "ticks": ""
            },
            "type": "choropleth"
           }
          ],
          "contour": [
           {
            "colorbar": {
             "outlinewidth": 0,
             "ticks": ""
            },
            "colorscale": [
             [
              0,
              "#0d0887"
             ],
             [
              0.1111111111111111,
              "#46039f"
             ],
             [
              0.2222222222222222,
              "#7201a8"
             ],
             [
              0.3333333333333333,
              "#9c179e"
             ],
             [
              0.4444444444444444,
              "#bd3786"
             ],
             [
              0.5555555555555556,
              "#d8576b"
             ],
             [
              0.6666666666666666,
              "#ed7953"
             ],
             [
              0.7777777777777778,
              "#fb9f3a"
             ],
             [
              0.8888888888888888,
              "#fdca26"
             ],
             [
              1,
              "#f0f921"
             ]
            ],
            "type": "contour"
           }
          ],
          "contourcarpet": [
           {
            "colorbar": {
             "outlinewidth": 0,
             "ticks": ""
            },
            "type": "contourcarpet"
           }
          ],
          "heatmap": [
           {
            "colorbar": {
             "outlinewidth": 0,
             "ticks": ""
            },
            "colorscale": [
             [
              0,
              "#0d0887"
             ],
             [
              0.1111111111111111,
              "#46039f"
             ],
             [
              0.2222222222222222,
              "#7201a8"
             ],
             [
              0.3333333333333333,
              "#9c179e"
             ],
             [
              0.4444444444444444,
              "#bd3786"
             ],
             [
              0.5555555555555556,
              "#d8576b"
             ],
             [
              0.6666666666666666,
              "#ed7953"
             ],
             [
              0.7777777777777778,
              "#fb9f3a"
             ],
             [
              0.8888888888888888,
              "#fdca26"
             ],
             [
              1,
              "#f0f921"
             ]
            ],
            "type": "heatmap"
           }
          ],
          "heatmapgl": [
           {
            "colorbar": {
             "outlinewidth": 0,
             "ticks": ""
            },
            "colorscale": [
             [
              0,
              "#0d0887"
             ],
             [
              0.1111111111111111,
              "#46039f"
             ],
             [
              0.2222222222222222,
              "#7201a8"
             ],
             [
              0.3333333333333333,
              "#9c179e"
             ],
             [
              0.4444444444444444,
              "#bd3786"
             ],
             [
              0.5555555555555556,
              "#d8576b"
             ],
             [
              0.6666666666666666,
              "#ed7953"
             ],
             [
              0.7777777777777778,
              "#fb9f3a"
             ],
             [
              0.8888888888888888,
              "#fdca26"
             ],
             [
              1,
              "#f0f921"
             ]
            ],
            "type": "heatmapgl"
           }
          ],
          "histogram": [
           {
            "marker": {
             "colorbar": {
              "outlinewidth": 0,
              "ticks": ""
             }
            },
            "type": "histogram"
           }
          ],
          "histogram2d": [
           {
            "colorbar": {
             "outlinewidth": 0,
             "ticks": ""
            },
            "colorscale": [
             [
              0,
              "#0d0887"
             ],
             [
              0.1111111111111111,
              "#46039f"
             ],
             [
              0.2222222222222222,
              "#7201a8"
             ],
             [
              0.3333333333333333,
              "#9c179e"
             ],
             [
              0.4444444444444444,
              "#bd3786"
             ],
             [
              0.5555555555555556,
              "#d8576b"
             ],
             [
              0.6666666666666666,
              "#ed7953"
             ],
             [
              0.7777777777777778,
              "#fb9f3a"
             ],
             [
              0.8888888888888888,
              "#fdca26"
             ],
             [
              1,
              "#f0f921"
             ]
            ],
            "type": "histogram2d"
           }
          ],
          "histogram2dcontour": [
           {
            "colorbar": {
             "outlinewidth": 0,
             "ticks": ""
            },
            "colorscale": [
             [
              0,
              "#0d0887"
             ],
             [
              0.1111111111111111,
              "#46039f"
             ],
             [
              0.2222222222222222,
              "#7201a8"
             ],
             [
              0.3333333333333333,
              "#9c179e"
             ],
             [
              0.4444444444444444,
              "#bd3786"
             ],
             [
              0.5555555555555556,
              "#d8576b"
             ],
             [
              0.6666666666666666,
              "#ed7953"
             ],
             [
              0.7777777777777778,
              "#fb9f3a"
             ],
             [
              0.8888888888888888,
              "#fdca26"
             ],
             [
              1,
              "#f0f921"
             ]
            ],
            "type": "histogram2dcontour"
           }
          ],
          "mesh3d": [
           {
            "colorbar": {
             "outlinewidth": 0,
             "ticks": ""
            },
            "type": "mesh3d"
           }
          ],
          "parcoords": [
           {
            "line": {
             "colorbar": {
              "outlinewidth": 0,
              "ticks": ""
             }
            },
            "type": "parcoords"
           }
          ],
          "pie": [
           {
            "automargin": true,
            "type": "pie"
           }
          ],
          "scatter": [
           {
            "marker": {
             "colorbar": {
              "outlinewidth": 0,
              "ticks": ""
             }
            },
            "type": "scatter"
           }
          ],
          "scatter3d": [
           {
            "line": {
             "colorbar": {
              "outlinewidth": 0,
              "ticks": ""
             }
            },
            "marker": {
             "colorbar": {
              "outlinewidth": 0,
              "ticks": ""
             }
            },
            "type": "scatter3d"
           }
          ],
          "scattercarpet": [
           {
            "marker": {
             "colorbar": {
              "outlinewidth": 0,
              "ticks": ""
             }
            },
            "type": "scattercarpet"
           }
          ],
          "scattergeo": [
           {
            "marker": {
             "colorbar": {
              "outlinewidth": 0,
              "ticks": ""
             }
            },
            "type": "scattergeo"
           }
          ],
          "scattergl": [
           {
            "marker": {
             "colorbar": {
              "outlinewidth": 0,
              "ticks": ""
             }
            },
            "type": "scattergl"
           }
          ],
          "scattermapbox": [
           {
            "marker": {
             "colorbar": {
              "outlinewidth": 0,
              "ticks": ""
             }
            },
            "type": "scattermapbox"
           }
          ],
          "scatterpolar": [
           {
            "marker": {
             "colorbar": {
              "outlinewidth": 0,
              "ticks": ""
             }
            },
            "type": "scatterpolar"
           }
          ],
          "scatterpolargl": [
           {
            "marker": {
             "colorbar": {
              "outlinewidth": 0,
              "ticks": ""
             }
            },
            "type": "scatterpolargl"
           }
          ],
          "scatterternary": [
           {
            "marker": {
             "colorbar": {
              "outlinewidth": 0,
              "ticks": ""
             }
            },
            "type": "scatterternary"
           }
          ],
          "surface": [
           {
            "colorbar": {
             "outlinewidth": 0,
             "ticks": ""
            },
            "colorscale": [
             [
              0,
              "#0d0887"
             ],
             [
              0.1111111111111111,
              "#46039f"
             ],
             [
              0.2222222222222222,
              "#7201a8"
             ],
             [
              0.3333333333333333,
              "#9c179e"
             ],
             [
              0.4444444444444444,
              "#bd3786"
             ],
             [
              0.5555555555555556,
              "#d8576b"
             ],
             [
              0.6666666666666666,
              "#ed7953"
             ],
             [
              0.7777777777777778,
              "#fb9f3a"
             ],
             [
              0.8888888888888888,
              "#fdca26"
             ],
             [
              1,
              "#f0f921"
             ]
            ],
            "type": "surface"
           }
          ],
          "table": [
           {
            "cells": {
             "fill": {
              "color": "#EBF0F8"
             },
             "line": {
              "color": "white"
             }
            },
            "header": {
             "fill": {
              "color": "#C8D4E3"
             },
             "line": {
              "color": "white"
             }
            },
            "type": "table"
           }
          ]
         },
         "layout": {
          "annotationdefaults": {
           "arrowcolor": "#2a3f5f",
           "arrowhead": 0,
           "arrowwidth": 1
          },
          "coloraxis": {
           "colorbar": {
            "outlinewidth": 0,
            "ticks": ""
           }
          },
          "colorscale": {
           "diverging": [
            [
             0,
             "#8e0152"
            ],
            [
             0.1,
             "#c51b7d"
            ],
            [
             0.2,
             "#de77ae"
            ],
            [
             0.3,
             "#f1b6da"
            ],
            [
             0.4,
             "#fde0ef"
            ],
            [
             0.5,
             "#f7f7f7"
            ],
            [
             0.6,
             "#e6f5d0"
            ],
            [
             0.7,
             "#b8e186"
            ],
            [
             0.8,
             "#7fbc41"
            ],
            [
             0.9,
             "#4d9221"
            ],
            [
             1,
             "#276419"
            ]
           ],
           "sequential": [
            [
             0,
             "#0d0887"
            ],
            [
             0.1111111111111111,
             "#46039f"
            ],
            [
             0.2222222222222222,
             "#7201a8"
            ],
            [
             0.3333333333333333,
             "#9c179e"
            ],
            [
             0.4444444444444444,
             "#bd3786"
            ],
            [
             0.5555555555555556,
             "#d8576b"
            ],
            [
             0.6666666666666666,
             "#ed7953"
            ],
            [
             0.7777777777777778,
             "#fb9f3a"
            ],
            [
             0.8888888888888888,
             "#fdca26"
            ],
            [
             1,
             "#f0f921"
            ]
           ],
           "sequentialminus": [
            [
             0,
             "#0d0887"
            ],
            [
             0.1111111111111111,
             "#46039f"
            ],
            [
             0.2222222222222222,
             "#7201a8"
            ],
            [
             0.3333333333333333,
             "#9c179e"
            ],
            [
             0.4444444444444444,
             "#bd3786"
            ],
            [
             0.5555555555555556,
             "#d8576b"
            ],
            [
             0.6666666666666666,
             "#ed7953"
            ],
            [
             0.7777777777777778,
             "#fb9f3a"
            ],
            [
             0.8888888888888888,
             "#fdca26"
            ],
            [
             1,
             "#f0f921"
            ]
           ]
          },
          "colorway": [
           "#636efa",
           "#EF553B",
           "#00cc96",
           "#ab63fa",
           "#FFA15A",
           "#19d3f3",
           "#FF6692",
           "#B6E880",
           "#FF97FF",
           "#FECB52"
          ],
          "font": {
           "color": "#2a3f5f"
          },
          "geo": {
           "bgcolor": "white",
           "lakecolor": "white",
           "landcolor": "#E5ECF6",
           "showlakes": true,
           "showland": true,
           "subunitcolor": "white"
          },
          "hoverlabel": {
           "align": "left"
          },
          "hovermode": "closest",
          "mapbox": {
           "style": "light"
          },
          "paper_bgcolor": "white",
          "plot_bgcolor": "#E5ECF6",
          "polar": {
           "angularaxis": {
            "gridcolor": "white",
            "linecolor": "white",
            "ticks": ""
           },
           "bgcolor": "#E5ECF6",
           "radialaxis": {
            "gridcolor": "white",
            "linecolor": "white",
            "ticks": ""
           }
          },
          "scene": {
           "xaxis": {
            "backgroundcolor": "#E5ECF6",
            "gridcolor": "white",
            "gridwidth": 2,
            "linecolor": "white",
            "showbackground": true,
            "ticks": "",
            "zerolinecolor": "white"
           },
           "yaxis": {
            "backgroundcolor": "#E5ECF6",
            "gridcolor": "white",
            "gridwidth": 2,
            "linecolor": "white",
            "showbackground": true,
            "ticks": "",
            "zerolinecolor": "white"
           },
           "zaxis": {
            "backgroundcolor": "#E5ECF6",
            "gridcolor": "white",
            "gridwidth": 2,
            "linecolor": "white",
            "showbackground": true,
            "ticks": "",
            "zerolinecolor": "white"
           }
          },
          "shapedefaults": {
           "line": {
            "color": "#2a3f5f"
           }
          },
          "ternary": {
           "aaxis": {
            "gridcolor": "white",
            "linecolor": "white",
            "ticks": ""
           },
           "baxis": {
            "gridcolor": "white",
            "linecolor": "white",
            "ticks": ""
           },
           "bgcolor": "#E5ECF6",
           "caxis": {
            "gridcolor": "white",
            "linecolor": "white",
            "ticks": ""
           }
          },
          "title": {
           "x": 0.05
          },
          "xaxis": {
           "automargin": true,
           "gridcolor": "white",
           "linecolor": "white",
           "ticks": "",
           "title": {
            "standoff": 15
           },
           "zerolinecolor": "white",
           "zerolinewidth": 2
          },
          "yaxis": {
           "automargin": true,
           "gridcolor": "white",
           "linecolor": "white",
           "ticks": "",
           "title": {
            "standoff": 15
           },
           "zerolinecolor": "white",
           "zerolinewidth": 2
          }
         }
        },
        "title": {
         "text": "Playlist Radar Charts"
        },
        "width": 1300
       }
      },
      "text/html": [
       "<div>\n",
       "        \n",
       "        \n",
       "            <div id=\"55396ae4-9883-4dc5-bb2d-18dcc5ef1286\" class=\"plotly-graph-div\" style=\"height:700px; width:1300px;\"></div>\n",
       "            <script type=\"text/javascript\">\n",
       "                require([\"plotly\"], function(Plotly) {\n",
       "                    window.PLOTLYENV=window.PLOTLYENV || {};\n",
       "                    \n",
       "                if (document.getElementById(\"55396ae4-9883-4dc5-bb2d-18dcc5ef1286\")) {\n",
       "                    Plotly.newPlot(\n",
       "                        '55396ae4-9883-4dc5-bb2d-18dcc5ef1286',\n",
       "                        [{\"fill\": \"toself\", \"r\": [0.4279333333333334, 0.30866666666666664, 0.7036666666666667, 2.237333333333333e-06, 0.6], \"subplot\": \"polar\", \"theta\": [\"energy\", \"valence\", \"acousticness\", \"instrumentalness\", \"danceability\"], \"type\": \"scatterpolar\"}, {\"fill\": \"toself\", \"r\": [0.3353333333333333, 0.3124166666666667, 0.6395, 0.00813875, 0.513], \"subplot\": \"polar2\", \"theta\": [\"energy\", \"valence\", \"acousticness\", \"instrumentalness\", \"danceability\"], \"type\": \"scatterpolar\"}, {\"fill\": \"toself\", \"r\": [0.4079647058823529, 0.3488117647058824, 0.6410434705882354, 0.0055970594117647045, 0.47405882352941164], \"subplot\": \"polar3\", \"theta\": [\"energy\", \"valence\", \"acousticness\", \"instrumentalness\", \"danceability\"], \"type\": \"scatterpolar\"}, {\"fill\": \"toself\", \"r\": [0.8310645161290322, 0.6043870967741934, 0.11957132258064514, 0.0003955277419354839, 0.7052580645161292], \"subplot\": \"polar4\", \"theta\": [\"energy\", \"valence\", \"acousticness\", \"instrumentalness\", \"danceability\"], \"type\": \"scatterpolar\"}, {\"fill\": \"toself\", \"r\": [0.47406666666666664, 0.4393333333333333, 0.5185886666666667, 4.7823333333333333e-05, 0.5611333333333334], \"subplot\": \"polar5\", \"theta\": [\"energy\", \"valence\", \"acousticness\", \"instrumentalness\", \"danceability\"], \"type\": \"scatterpolar\"}, {\"fill\": \"toself\", \"r\": [0.40484615384615374, 0.40630769230769237, 0.6083846153846154, 8.513846153846154e-06, 0.5423076923076923], \"subplot\": \"polar6\", \"theta\": [\"energy\", \"valence\", \"acousticness\", \"instrumentalness\", \"danceability\"], \"type\": \"scatterpolar\"}, {\"fill\": \"toself\", \"r\": [0.77544, 0.5174, 0.20724280000000006, 0.0392091268, 0.6218], \"subplot\": \"polar7\", \"theta\": [\"energy\", \"valence\", \"acousticness\", \"instrumentalness\", \"danceability\"], \"type\": \"scatterpolar\"}, {\"fill\": \"toself\", \"r\": [0.7737777777777778, 0.585, 0.062121111111111106, 0.11474913555555553, 0.7001111111111111], \"subplot\": \"polar8\", \"theta\": [\"energy\", \"valence\", \"acousticness\", \"instrumentalness\", \"danceability\"], \"type\": \"scatterpolar\"}],\n",
       "                        {\"annotations\": [{\"font\": {\"size\": 16}, \"showarrow\": false, \"text\": \"Berkeley\", \"x\": 0.0875, \"xanchor\": \"center\", \"xref\": \"paper\", \"y\": 1.0, \"yanchor\": \"bottom\", \"yref\": \"paper\"}, {\"font\": {\"size\": 16}, \"showarrow\": false, \"text\": \"In The Mood For Love\", \"x\": 0.36250000000000004, \"xanchor\": \"center\", \"xref\": \"paper\", \"y\": 1.0, \"yanchor\": \"bottom\", \"yref\": \"paper\"}, {\"font\": {\"size\": 16}, \"showarrow\": false, \"text\": \"Just kidding, thank you\", \"x\": 0.6375000000000001, \"xanchor\": \"center\", \"xref\": \"paper\", \"y\": 1.0, \"yanchor\": \"bottom\", \"yref\": \"paper\"}, {\"font\": {\"size\": 16}, \"showarrow\": false, \"text\": \"K-Pop Bops\", \"x\": 0.9125, \"xanchor\": \"center\", \"xref\": \"paper\", \"y\": 1.0, \"yanchor\": \"bottom\", \"yref\": \"paper\"}, {\"font\": {\"size\": 16}, \"showarrow\": false, \"text\": \"Limbo\", \"x\": 0.0875, \"xanchor\": \"center\", \"xref\": \"paper\", \"y\": 0.45, \"yanchor\": \"bottom\", \"yref\": \"paper\"}, {\"font\": {\"size\": 16}, \"showarrow\": false, \"text\": \"Master of None\", \"x\": 0.36250000000000004, \"xanchor\": \"center\", \"xref\": \"paper\", \"y\": 0.45, \"yanchor\": \"bottom\", \"yref\": \"paper\"}, {\"font\": {\"size\": 16}, \"showarrow\": false, \"text\": \"Twice Will Never Love Me Back\", \"x\": 0.6375000000000001, \"xanchor\": \"center\", \"xref\": \"paper\", \"y\": 0.45, \"yanchor\": \"bottom\", \"yref\": \"paper\"}, {\"font\": {\"size\": 16}, \"showarrow\": false, \"text\": \"Zero to Hero\", \"x\": 0.9125, \"xanchor\": \"center\", \"xref\": \"paper\", \"y\": 0.45, \"yanchor\": \"bottom\", \"yref\": \"paper\"}], \"height\": 700, \"polar\": {\"domain\": {\"x\": [0.0, 0.175], \"y\": [0.55, 1.0]}, \"radialaxis\": {\"range\": [0, 1], \"showticklabels\": false, \"ticks\": \"\"}}, \"polar2\": {\"domain\": {\"x\": [0.275, 0.45], \"y\": [0.55, 1.0]}, \"radialaxis\": {\"range\": [0, 1], \"showticklabels\": false, \"ticks\": \"\"}}, \"polar3\": {\"domain\": {\"x\": [0.55, 0.7250000000000001], \"y\": [0.55, 1.0]}, \"radialaxis\": {\"range\": [0, 1], \"showticklabels\": false, \"ticks\": \"\"}}, \"polar4\": {\"domain\": {\"x\": [0.825, 1.0], \"y\": [0.55, 1.0]}, \"radialaxis\": {\"range\": [0, 1], \"showticklabels\": false, \"ticks\": \"\"}}, \"polar5\": {\"domain\": {\"x\": [0.0, 0.175], \"y\": [0.0, 0.45]}, \"radialaxis\": {\"range\": [0, 1], \"showticklabels\": false, \"ticks\": \"\"}}, \"polar6\": {\"domain\": {\"x\": [0.275, 0.45], \"y\": [0.0, 0.45]}, \"radialaxis\": {\"range\": [0, 1], \"showticklabels\": false, \"ticks\": \"\"}}, \"polar7\": {\"domain\": {\"x\": [0.55, 0.7250000000000001], \"y\": [0.0, 0.45]}, \"radialaxis\": {\"range\": [0, 1], \"showticklabels\": false, \"ticks\": \"\"}}, \"polar8\": {\"domain\": {\"x\": [0.825, 1.0], \"y\": [0.0, 0.45]}, \"radialaxis\": {\"range\": [0, 1], \"showticklabels\": false, \"ticks\": \"\"}}, \"showlegend\": false, \"template\": {\"data\": {\"bar\": [{\"error_x\": {\"color\": \"#2a3f5f\"}, \"error_y\": {\"color\": \"#2a3f5f\"}, \"marker\": {\"line\": {\"color\": \"#E5ECF6\", \"width\": 0.5}}, \"type\": \"bar\"}], \"barpolar\": [{\"marker\": {\"line\": {\"color\": \"#E5ECF6\", \"width\": 0.5}}, \"type\": \"barpolar\"}], \"carpet\": [{\"aaxis\": {\"endlinecolor\": \"#2a3f5f\", \"gridcolor\": \"white\", \"linecolor\": \"white\", \"minorgridcolor\": \"white\", \"startlinecolor\": \"#2a3f5f\"}, \"baxis\": {\"endlinecolor\": \"#2a3f5f\", \"gridcolor\": \"white\", \"linecolor\": \"white\", \"minorgridcolor\": \"white\", \"startlinecolor\": \"#2a3f5f\"}, \"type\": \"carpet\"}], \"choropleth\": [{\"colorbar\": {\"outlinewidth\": 0, \"ticks\": \"\"}, \"type\": \"choropleth\"}], \"contour\": [{\"colorbar\": {\"outlinewidth\": 0, \"ticks\": \"\"}, \"colorscale\": [[0.0, \"#0d0887\"], [0.1111111111111111, \"#46039f\"], [0.2222222222222222, \"#7201a8\"], [0.3333333333333333, \"#9c179e\"], [0.4444444444444444, \"#bd3786\"], [0.5555555555555556, \"#d8576b\"], [0.6666666666666666, \"#ed7953\"], [0.7777777777777778, \"#fb9f3a\"], [0.8888888888888888, \"#fdca26\"], [1.0, \"#f0f921\"]], \"type\": \"contour\"}], \"contourcarpet\": [{\"colorbar\": {\"outlinewidth\": 0, \"ticks\": \"\"}, \"type\": \"contourcarpet\"}], \"heatmap\": [{\"colorbar\": {\"outlinewidth\": 0, \"ticks\": \"\"}, \"colorscale\": [[0.0, \"#0d0887\"], [0.1111111111111111, \"#46039f\"], [0.2222222222222222, \"#7201a8\"], [0.3333333333333333, \"#9c179e\"], [0.4444444444444444, \"#bd3786\"], [0.5555555555555556, \"#d8576b\"], [0.6666666666666666, \"#ed7953\"], [0.7777777777777778, \"#fb9f3a\"], [0.8888888888888888, \"#fdca26\"], [1.0, \"#f0f921\"]], \"type\": \"heatmap\"}], \"heatmapgl\": [{\"colorbar\": {\"outlinewidth\": 0, \"ticks\": \"\"}, \"colorscale\": [[0.0, \"#0d0887\"], [0.1111111111111111, \"#46039f\"], [0.2222222222222222, \"#7201a8\"], [0.3333333333333333, \"#9c179e\"], [0.4444444444444444, \"#bd3786\"], [0.5555555555555556, \"#d8576b\"], [0.6666666666666666, \"#ed7953\"], [0.7777777777777778, \"#fb9f3a\"], [0.8888888888888888, \"#fdca26\"], [1.0, \"#f0f921\"]], \"type\": \"heatmapgl\"}], \"histogram\": [{\"marker\": {\"colorbar\": {\"outlinewidth\": 0, \"ticks\": \"\"}}, \"type\": \"histogram\"}], \"histogram2d\": [{\"colorbar\": {\"outlinewidth\": 0, \"ticks\": \"\"}, \"colorscale\": [[0.0, \"#0d0887\"], [0.1111111111111111, \"#46039f\"], [0.2222222222222222, \"#7201a8\"], [0.3333333333333333, \"#9c179e\"], [0.4444444444444444, \"#bd3786\"], [0.5555555555555556, \"#d8576b\"], [0.6666666666666666, \"#ed7953\"], [0.7777777777777778, \"#fb9f3a\"], [0.8888888888888888, \"#fdca26\"], [1.0, \"#f0f921\"]], \"type\": \"histogram2d\"}], \"histogram2dcontour\": [{\"colorbar\": {\"outlinewidth\": 0, \"ticks\": \"\"}, \"colorscale\": [[0.0, \"#0d0887\"], [0.1111111111111111, \"#46039f\"], [0.2222222222222222, \"#7201a8\"], [0.3333333333333333, \"#9c179e\"], [0.4444444444444444, \"#bd3786\"], [0.5555555555555556, \"#d8576b\"], [0.6666666666666666, \"#ed7953\"], [0.7777777777777778, \"#fb9f3a\"], [0.8888888888888888, \"#fdca26\"], [1.0, \"#f0f921\"]], \"type\": \"histogram2dcontour\"}], \"mesh3d\": [{\"colorbar\": {\"outlinewidth\": 0, \"ticks\": \"\"}, \"type\": \"mesh3d\"}], \"parcoords\": [{\"line\": {\"colorbar\": {\"outlinewidth\": 0, \"ticks\": \"\"}}, \"type\": \"parcoords\"}], \"pie\": [{\"automargin\": true, \"type\": \"pie\"}], \"scatter\": [{\"marker\": {\"colorbar\": {\"outlinewidth\": 0, \"ticks\": \"\"}}, \"type\": \"scatter\"}], \"scatter3d\": [{\"line\": {\"colorbar\": {\"outlinewidth\": 0, \"ticks\": \"\"}}, \"marker\": {\"colorbar\": {\"outlinewidth\": 0, \"ticks\": \"\"}}, \"type\": \"scatter3d\"}], \"scattercarpet\": [{\"marker\": {\"colorbar\": {\"outlinewidth\": 0, \"ticks\": \"\"}}, \"type\": \"scattercarpet\"}], \"scattergeo\": [{\"marker\": {\"colorbar\": {\"outlinewidth\": 0, \"ticks\": \"\"}}, \"type\": \"scattergeo\"}], \"scattergl\": [{\"marker\": {\"colorbar\": {\"outlinewidth\": 0, \"ticks\": \"\"}}, \"type\": \"scattergl\"}], \"scattermapbox\": [{\"marker\": {\"colorbar\": {\"outlinewidth\": 0, \"ticks\": \"\"}}, \"type\": \"scattermapbox\"}], \"scatterpolar\": [{\"marker\": {\"colorbar\": {\"outlinewidth\": 0, \"ticks\": \"\"}}, \"type\": \"scatterpolar\"}], \"scatterpolargl\": [{\"marker\": {\"colorbar\": {\"outlinewidth\": 0, \"ticks\": \"\"}}, \"type\": \"scatterpolargl\"}], \"scatterternary\": [{\"marker\": {\"colorbar\": {\"outlinewidth\": 0, \"ticks\": \"\"}}, \"type\": \"scatterternary\"}], \"surface\": [{\"colorbar\": {\"outlinewidth\": 0, \"ticks\": \"\"}, \"colorscale\": [[0.0, \"#0d0887\"], [0.1111111111111111, \"#46039f\"], [0.2222222222222222, \"#7201a8\"], [0.3333333333333333, \"#9c179e\"], [0.4444444444444444, \"#bd3786\"], [0.5555555555555556, \"#d8576b\"], [0.6666666666666666, \"#ed7953\"], [0.7777777777777778, \"#fb9f3a\"], [0.8888888888888888, \"#fdca26\"], [1.0, \"#f0f921\"]], \"type\": \"surface\"}], \"table\": [{\"cells\": {\"fill\": {\"color\": \"#EBF0F8\"}, \"line\": {\"color\": \"white\"}}, \"header\": {\"fill\": {\"color\": \"#C8D4E3\"}, \"line\": {\"color\": \"white\"}}, \"type\": \"table\"}]}, \"layout\": {\"annotationdefaults\": {\"arrowcolor\": \"#2a3f5f\", \"arrowhead\": 0, \"arrowwidth\": 1}, \"coloraxis\": {\"colorbar\": {\"outlinewidth\": 0, \"ticks\": \"\"}}, \"colorscale\": {\"diverging\": [[0, \"#8e0152\"], [0.1, \"#c51b7d\"], [0.2, \"#de77ae\"], [0.3, \"#f1b6da\"], [0.4, \"#fde0ef\"], [0.5, \"#f7f7f7\"], [0.6, \"#e6f5d0\"], [0.7, \"#b8e186\"], [0.8, \"#7fbc41\"], [0.9, \"#4d9221\"], [1, \"#276419\"]], \"sequential\": [[0.0, \"#0d0887\"], [0.1111111111111111, \"#46039f\"], [0.2222222222222222, \"#7201a8\"], [0.3333333333333333, \"#9c179e\"], [0.4444444444444444, \"#bd3786\"], [0.5555555555555556, \"#d8576b\"], [0.6666666666666666, \"#ed7953\"], [0.7777777777777778, \"#fb9f3a\"], [0.8888888888888888, \"#fdca26\"], [1.0, \"#f0f921\"]], \"sequentialminus\": [[0.0, \"#0d0887\"], [0.1111111111111111, \"#46039f\"], [0.2222222222222222, \"#7201a8\"], [0.3333333333333333, \"#9c179e\"], [0.4444444444444444, \"#bd3786\"], [0.5555555555555556, \"#d8576b\"], [0.6666666666666666, \"#ed7953\"], [0.7777777777777778, \"#fb9f3a\"], [0.8888888888888888, \"#fdca26\"], [1.0, \"#f0f921\"]]}, \"colorway\": [\"#636efa\", \"#EF553B\", \"#00cc96\", \"#ab63fa\", \"#FFA15A\", \"#19d3f3\", \"#FF6692\", \"#B6E880\", \"#FF97FF\", \"#FECB52\"], \"font\": {\"color\": \"#2a3f5f\"}, \"geo\": {\"bgcolor\": \"white\", \"lakecolor\": \"white\", \"landcolor\": \"#E5ECF6\", \"showlakes\": true, \"showland\": true, \"subunitcolor\": \"white\"}, \"hoverlabel\": {\"align\": \"left\"}, \"hovermode\": \"closest\", \"mapbox\": {\"style\": \"light\"}, \"paper_bgcolor\": \"white\", \"plot_bgcolor\": \"#E5ECF6\", \"polar\": {\"angularaxis\": {\"gridcolor\": \"white\", \"linecolor\": \"white\", \"ticks\": \"\"}, \"bgcolor\": \"#E5ECF6\", \"radialaxis\": {\"gridcolor\": \"white\", \"linecolor\": \"white\", \"ticks\": \"\"}}, \"scene\": {\"xaxis\": {\"backgroundcolor\": \"#E5ECF6\", \"gridcolor\": \"white\", \"gridwidth\": 2, \"linecolor\": \"white\", \"showbackground\": true, \"ticks\": \"\", \"zerolinecolor\": \"white\"}, \"yaxis\": {\"backgroundcolor\": \"#E5ECF6\", \"gridcolor\": \"white\", \"gridwidth\": 2, \"linecolor\": \"white\", \"showbackground\": true, \"ticks\": \"\", \"zerolinecolor\": \"white\"}, \"zaxis\": {\"backgroundcolor\": \"#E5ECF6\", \"gridcolor\": \"white\", \"gridwidth\": 2, \"linecolor\": \"white\", \"showbackground\": true, \"ticks\": \"\", \"zerolinecolor\": \"white\"}}, \"shapedefaults\": {\"line\": {\"color\": \"#2a3f5f\"}}, \"ternary\": {\"aaxis\": {\"gridcolor\": \"white\", \"linecolor\": \"white\", \"ticks\": \"\"}, \"baxis\": {\"gridcolor\": \"white\", \"linecolor\": \"white\", \"ticks\": \"\"}, \"bgcolor\": \"#E5ECF6\", \"caxis\": {\"gridcolor\": \"white\", \"linecolor\": \"white\", \"ticks\": \"\"}}, \"title\": {\"x\": 0.05}, \"xaxis\": {\"automargin\": true, \"gridcolor\": \"white\", \"linecolor\": \"white\", \"ticks\": \"\", \"title\": {\"standoff\": 15}, \"zerolinecolor\": \"white\", \"zerolinewidth\": 2}, \"yaxis\": {\"automargin\": true, \"gridcolor\": \"white\", \"linecolor\": \"white\", \"ticks\": \"\", \"title\": {\"standoff\": 15}, \"zerolinecolor\": \"white\", \"zerolinewidth\": 2}}}, \"title\": {\"text\": \"Playlist Radar Charts\"}, \"width\": 1300},\n",
       "                        {\"responsive\": true}\n",
       "                    ).then(function(){\n",
       "                            \n",
       "var gd = document.getElementById('55396ae4-9883-4dc5-bb2d-18dcc5ef1286');\n",
       "var x = new MutationObserver(function (mutations, observer) {{\n",
       "        var display = window.getComputedStyle(gd).display;\n",
       "        if (!display || display === 'none') {{\n",
       "            console.log([gd, 'removed!']);\n",
       "            Plotly.purge(gd);\n",
       "            observer.disconnect();\n",
       "        }}\n",
       "}});\n",
       "\n",
       "// Listen for the removal of the full notebook cells\n",
       "var notebookContainer = gd.closest('#notebook-container');\n",
       "if (notebookContainer) {{\n",
       "    x.observe(notebookContainer, {childList: true});\n",
       "}}\n",
       "\n",
       "// Listen for the clearing of the current output cell\n",
       "var outputEl = gd.closest('.output');\n",
       "if (outputEl) {{\n",
       "    x.observe(outputEl, {childList: true});\n",
       "}}\n",
       "\n",
       "                        })\n",
       "                };\n",
       "                });\n",
       "            </script>\n",
       "        </div>"
      ]
     },
     "metadata": {},
     "output_type": "display_data"
    }
   ],
   "source": [
    "fig = make_subplots(rows=2, cols=4, subplot_titles=(names),\n",
    "                    specs=[[{\"type\": \"scatterpolar\"}]*4, [{\"type\": \"scatterpolar\"}]*4],\n",
    "                    horizontal_spacing=0.1, vertical_spacing = 0.1)\n",
    "\n",
    "fig.add_trace(\n",
    "    go.Scatterpolar(r = playlist_agg.loc[names[0],:], theta = features, fill='toself'),\n",
    "    row=1, col=1\n",
    ")\n",
    "\n",
    "fig.add_trace(\n",
    "    go.Scatterpolar(r = playlist_agg.loc[names[1],:], theta = features, fill='toself'),\n",
    "    row=1, col=2\n",
    ")\n",
    "\n",
    "fig.add_trace(\n",
    "    go.Scatterpolar(r = playlist_agg.loc[names[2],:], theta = features, fill='toself'),\n",
    "    row=1, col=3\n",
    ")\n",
    "\n",
    "fig.add_trace(\n",
    "    go.Scatterpolar(r = playlist_agg.loc[names[3],:], theta = features, fill='toself'),\n",
    "    row=1, col=4\n",
    ")\n",
    "\n",
    "fig.add_trace(\n",
    "    go.Scatterpolar(r = playlist_agg.loc[names[4],:], theta = features, fill='toself'),\n",
    "    row=2, col=1\n",
    ")\n",
    "\n",
    "fig.add_trace(\n",
    "    go.Scatterpolar(r = playlist_agg.loc[names[5],:], theta = features, fill='toself'),\n",
    "    row=2, col=2\n",
    ")\n",
    "\n",
    "fig.add_trace(\n",
    "    go.Scatterpolar(r = playlist_agg.loc[names[6],:], theta = features, fill='toself'),\n",
    "    row=2, col=3\n",
    ")\n",
    "\n",
    "fig.add_trace(\n",
    "    go.Scatterpolar(r = playlist_agg.loc[names[7],:], theta = features, fill='toself'),\n",
    "    row=2, col=4\n",
    ")\n",
    "\n",
    "fig.update_layout(height=700, width=1300, title_text=\"Playlist Radar Charts\", showlegend=False,\n",
    "                 polar = layout, polar2 = layout, polar3 = layout, polar4 = layout, polar5 = layout, \n",
    "                 polar6 = layout, polar7 = layout, polar8 = layout)\n",
    "\n",
    "fig.show()"
   ]
  },
  {
   "cell_type": "markdown",
   "metadata": {},
   "source": [
    "Surprisingly, all of my \"nostalgia\" playlists follow the same general shape! They don't contain many instrumental (i.e. no lyrics) music, have low valence and energy, are highly acoustic, and have medium danceability. This means that throughout the years, my tastes in music have stayed consistent!\n",
    "\n",
    "Similarly, my \"theme\" playlists follow the same shape. For context, the playlist \"K-pop bops\" contains Korean pop music and the playlist \"Zero to Hero\" contains workout music. These playlists tend to be high energy, highly danceable, have medium valence, and low acousticness and instrumentalness. This is to be expected, since these are the playlists that I listen to during long drives and tough workouts!\n"
   ]
  },
  {
   "cell_type": "markdown",
   "metadata": {},
   "source": [
    "### Bonus: Using Machine Learning to Generate Better Recommendations\n",
    "Since I noticed the Spotify algorithm isn't really working for me and that the music that I save to my playlists tend to have the same traits on average, I'd like to try to build a model that can better feel out my tastes. I have low expectations for this since Spotify has a dedicated data science team full of more experienced data scientists, but let's see how it goes."
   ]
  },
  {
   "cell_type": "markdown",
   "metadata": {},
   "source": [
    "WIP. Will update once model performance is optimized."
   ]
  }
 ],
 "metadata": {
  "kernelspec": {
   "display_name": "Python 3",
   "language": "python",
   "name": "python3"
  },
  "language_info": {
   "codemirror_mode": {
    "name": "ipython",
    "version": 3
   },
   "file_extension": ".py",
   "mimetype": "text/x-python",
   "name": "python",
   "nbconvert_exporter": "python",
   "pygments_lexer": "ipython3",
   "version": "3.7.4"
  }
 },
 "nbformat": 4,
 "nbformat_minor": 2
}
