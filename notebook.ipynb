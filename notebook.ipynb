{
 "cells": [
  {
   "cell_type": "markdown",
   "metadata": {},
   "source": [
    "# Visualizing Spotify Streaming History"
   ]
  },
  {
   "cell_type": "markdown",
   "metadata": {},
   "source": [
    "## Setting Up\n",
    "\n",
    "I've already downloaded a JSON file from Spotify containing my streaming history (you can download yours [here](https://www.spotify.com/ca-en/account/privacy/)).\n",
    "\n",
    "In this section, I will load in the JSON file, convert it into a Pandas data frame, and use the Spotify API to get another data frame containing features (energy, danceability, loudness, etc.) for each song in my streaming history. I will join the two data frames to get a final data frame that I will use for plotting."
   ]
  },
  {
   "cell_type": "code",
   "execution_count": 1,
   "metadata": {},
   "outputs": [],
   "source": [
    "## load required packages\n",
    "import json\n",
    "from spotipy.oauth2 import SpotifyClientCredentials\n",
    "import spotipy\n",
    "import spotipy.util as util\n",
    "\n",
    "import pandas as pd\n",
    "import numpy as np\n",
    "import matplotlib.pyplot as plt\n",
    "\n",
    "import plotly\n",
    "import plotly.express as px\n",
    "import plotly.graph_objects as go\n",
    "from plotly.offline import download_plotlyjs, init_notebook_mode,plot,iplot\n",
    "\n",
    "from math import log\n",
    "import calmap\n",
    "\n",
    "from datetime import datetime"
   ]
  },
  {
   "cell_type": "code",
   "execution_count": 2,
   "metadata": {},
   "outputs": [
    {
     "data": {
      "text/html": [
       "        <script type=\"text/javascript\">\n",
       "        window.PlotlyConfig = {MathJaxConfig: 'local'};\n",
       "        if (window.MathJax) {MathJax.Hub.Config({SVG: {font: \"STIX-Web\"}});}\n",
       "        if (typeof require !== 'undefined') {\n",
       "        require.undef(\"plotly\");\n",
       "        requirejs.config({\n",
       "            paths: {\n",
       "                'plotly': ['https://cdn.plot.ly/plotly-latest.min']\n",
       "            }\n",
       "        });\n",
       "        require(['plotly'], function(Plotly) {\n",
       "            window._Plotly = Plotly;\n",
       "        });\n",
       "        }\n",
       "        </script>\n",
       "        "
      ]
     },
     "metadata": {},
     "output_type": "display_data"
    }
   ],
   "source": [
    "## initialize plotly\n",
    "init_notebook_mode(connected=True)"
   ]
  },
  {
   "cell_type": "code",
   "execution_count": 3,
   "metadata": {},
   "outputs": [
    {
     "data": {
      "text/plain": [
       "[{'endTime': '2020-07-26 03:57',\n",
       "  'artistName': '朱主愛',\n",
       "  'trackName': '藏不住的心跳 (《我只喜歡你》影視劇片頭曲)',\n",
       "  'msPlayed': 71594},\n",
       " {'endTime': '2020-07-26 03:59',\n",
       "  'artistName': 'SBGB',\n",
       "  'trackName': 'BANANA CHACHA Acoustic',\n",
       "  'msPlayed': 4800},\n",
       " {'endTime': '2020-07-26 03:59',\n",
       "  'artistName': 'Huh Gak',\n",
       "  'trackName': 'Let you go (Duet. Jeong Eun Ji)',\n",
       "  'msPlayed': 92821},\n",
       " {'endTime': '2020-07-26 03:59',\n",
       "  'artistName': 'Stella Jang',\n",
       "  'trackName': 'YOLO',\n",
       "  'msPlayed': 8682},\n",
       " {'endTime': '2020-07-26 04:01',\n",
       "  'artistName': '鞠婧禕',\n",
       "  'trackName': '嘆雲兮(電視劇《芸汐傳》片尾曲)',\n",
       "  'msPlayed': 101034}]"
      ]
     },
     "execution_count": 3,
     "metadata": {},
     "output_type": "execute_result"
    }
   ],
   "source": [
    "## load in json file of streaming history\n",
    "with open('MyData/StreamingHistory0.json', encoding='utf8') as f:\n",
    "    song_data = json.load(f)\n",
    "    \n",
    "song_data[-5:]"
   ]
  },
  {
   "cell_type": "code",
   "execution_count": 4,
   "metadata": {},
   "outputs": [
    {
     "data": {
      "text/html": [
       "<div>\n",
       "<style scoped>\n",
       "    .dataframe tbody tr th:only-of-type {\n",
       "        vertical-align: middle;\n",
       "    }\n",
       "\n",
       "    .dataframe tbody tr th {\n",
       "        vertical-align: top;\n",
       "    }\n",
       "\n",
       "    .dataframe thead th {\n",
       "        text-align: right;\n",
       "    }\n",
       "</style>\n",
       "<table border=\"1\" class=\"dataframe\">\n",
       "  <thead>\n",
       "    <tr style=\"text-align: right;\">\n",
       "      <th></th>\n",
       "      <th>endTime</th>\n",
       "      <th>artistName</th>\n",
       "      <th>trackName</th>\n",
       "      <th>msPlayed</th>\n",
       "    </tr>\n",
       "  </thead>\n",
       "  <tbody>\n",
       "    <tr>\n",
       "      <td>0</td>\n",
       "      <td>2018-03-17 04:30</td>\n",
       "      <td>Chef'Special</td>\n",
       "      <td>In Your Arms</td>\n",
       "      <td>215036</td>\n",
       "    </tr>\n",
       "    <tr>\n",
       "      <td>1</td>\n",
       "      <td>2019-07-26 12:30</td>\n",
       "      <td>CHANYEOL</td>\n",
       "      <td>Stay With Me</td>\n",
       "      <td>101170</td>\n",
       "    </tr>\n",
       "    <tr>\n",
       "      <td>2</td>\n",
       "      <td>2019-07-26 12:34</td>\n",
       "      <td>(G)I-DLE</td>\n",
       "      <td>Senorita</td>\n",
       "      <td>197616</td>\n",
       "    </tr>\n",
       "    <tr>\n",
       "      <td>3</td>\n",
       "      <td>2019-07-26 12:38</td>\n",
       "      <td>BLACKPINK</td>\n",
       "      <td>BOOMBAYAH</td>\n",
       "      <td>240848</td>\n",
       "    </tr>\n",
       "    <tr>\n",
       "      <td>4</td>\n",
       "      <td>2019-07-26 12:40</td>\n",
       "      <td>EXID</td>\n",
       "      <td>Up &amp; Down</td>\n",
       "      <td>145539</td>\n",
       "    </tr>\n",
       "  </tbody>\n",
       "</table>\n",
       "</div>"
      ],
      "text/plain": [
       "            endTime    artistName     trackName  msPlayed\n",
       "0  2018-03-17 04:30  Chef'Special  In Your Arms    215036\n",
       "1  2019-07-26 12:30      CHANYEOL  Stay With Me    101170\n",
       "2  2019-07-26 12:34      (G)I-DLE      Senorita    197616\n",
       "3  2019-07-26 12:38     BLACKPINK     BOOMBAYAH    240848\n",
       "4  2019-07-26 12:40          EXID     Up & Down    145539"
      ]
     },
     "execution_count": 4,
     "metadata": {},
     "output_type": "execute_result"
    }
   ],
   "source": [
    "## convert to dataframe\n",
    "df = pd.DataFrame(song_data)\n",
    "df.head()"
   ]
  },
  {
   "cell_type": "code",
   "execution_count": 5,
   "metadata": {},
   "outputs": [],
   "source": [
    "## get user token from spotify to access API (MIGHT BE UNNECESSARY if the following chunk works)\n",
    "username = 'zihanye96'\n",
    "client_id ='3ee7d37516aa4d01ad6064f6ce05e5e1' \n",
    "client_secret = '68a78f783ce248c783ea1b425f95d88b'\n",
    "redirect_uri = 'http://localhost:7777/callback'\n",
    "scope = 'user-read-recently-played'\n",
    "\n",
    "token = util.prompt_for_user_token(username=username, scope=scope, client_id=client_id, client_secret=client_secret,     \n",
    "                                   redirect_uri=redirect_uri)\n"
   ]
  },
  {
   "cell_type": "code",
   "execution_count": 6,
   "metadata": {},
   "outputs": [],
   "source": [
    "## set up access to API\n",
    "client_id ='3ee7d37516aa4d01ad6064f6ce05e5e1' \n",
    "client_secret = '68a78f783ce248c783ea1b425f95d88b'\n",
    "client_credentials_manager = SpotifyClientCredentials(client_id = client_id, client_secret = client_secret)\n",
    "sp = spotipy.Spotify(client_credentials_manager=client_credentials_manager)\n",
    "sp.trace = False"
   ]
  },
  {
   "cell_type": "code",
   "execution_count": 7,
   "metadata": {},
   "outputs": [],
   "source": [
    "## get track id of first search result of artist + song title\n",
    "def get_id(artist, name):\n",
    "    query = artist + \" \" + name\n",
    "    result = sp.search(q=query, limit=1)\n",
    "    tmp = \"\"\n",
    "    for i, t in enumerate(result['tracks']['items']):\n",
    "        tmp = t[\"id\"]\n",
    "    return(tmp)\n",
    "\n",
    "df[\"id\"] = df.apply(lambda x: get_id(x[\"artistName\"], x[\"trackName\"],), axis=1)"
   ]
  },
  {
   "cell_type": "code",
   "execution_count": 8,
   "metadata": {},
   "outputs": [
    {
     "data": {
      "text/html": [
       "<div>\n",
       "<style scoped>\n",
       "    .dataframe tbody tr th:only-of-type {\n",
       "        vertical-align: middle;\n",
       "    }\n",
       "\n",
       "    .dataframe tbody tr th {\n",
       "        vertical-align: top;\n",
       "    }\n",
       "\n",
       "    .dataframe thead th {\n",
       "        text-align: right;\n",
       "    }\n",
       "</style>\n",
       "<table border=\"1\" class=\"dataframe\">\n",
       "  <thead>\n",
       "    <tr style=\"text-align: right;\">\n",
       "      <th></th>\n",
       "      <th>endTime</th>\n",
       "      <th>artistName</th>\n",
       "      <th>trackName</th>\n",
       "      <th>msPlayed</th>\n",
       "      <th>id</th>\n",
       "    </tr>\n",
       "  </thead>\n",
       "  <tbody>\n",
       "    <tr>\n",
       "      <td>0</td>\n",
       "      <td>2018-03-17 04:30</td>\n",
       "      <td>Chef'Special</td>\n",
       "      <td>In Your Arms</td>\n",
       "      <td>215036</td>\n",
       "      <td>3wJmcmAh2YAfDSKQR8o1XS</td>\n",
       "    </tr>\n",
       "    <tr>\n",
       "      <td>1</td>\n",
       "      <td>2019-07-26 12:30</td>\n",
       "      <td>CHANYEOL</td>\n",
       "      <td>Stay With Me</td>\n",
       "      <td>101170</td>\n",
       "      <td>1POlsQls16ppLPVmr4FGLt</td>\n",
       "    </tr>\n",
       "    <tr>\n",
       "      <td>2</td>\n",
       "      <td>2019-07-26 12:34</td>\n",
       "      <td>(G)I-DLE</td>\n",
       "      <td>Senorita</td>\n",
       "      <td>197616</td>\n",
       "      <td>0q6boCcLaWYPIy2vOsksFg</td>\n",
       "    </tr>\n",
       "    <tr>\n",
       "      <td>3</td>\n",
       "      <td>2019-07-26 12:38</td>\n",
       "      <td>BLACKPINK</td>\n",
       "      <td>BOOMBAYAH</td>\n",
       "      <td>240848</td>\n",
       "      <td>3yHQKddM8SVCRnuPSo3HPN</td>\n",
       "    </tr>\n",
       "    <tr>\n",
       "      <td>4</td>\n",
       "      <td>2019-07-26 12:40</td>\n",
       "      <td>EXID</td>\n",
       "      <td>Up &amp; Down</td>\n",
       "      <td>145539</td>\n",
       "      <td>6BKOhvRPY54uvfqWwg7MKi</td>\n",
       "    </tr>\n",
       "  </tbody>\n",
       "</table>\n",
       "</div>"
      ],
      "text/plain": [
       "            endTime    artistName     trackName  msPlayed  \\\n",
       "0  2018-03-17 04:30  Chef'Special  In Your Arms    215036   \n",
       "1  2019-07-26 12:30      CHANYEOL  Stay With Me    101170   \n",
       "2  2019-07-26 12:34      (G)I-DLE      Senorita    197616   \n",
       "3  2019-07-26 12:38     BLACKPINK     BOOMBAYAH    240848   \n",
       "4  2019-07-26 12:40          EXID     Up & Down    145539   \n",
       "\n",
       "                       id  \n",
       "0  3wJmcmAh2YAfDSKQR8o1XS  \n",
       "1  1POlsQls16ppLPVmr4FGLt  \n",
       "2  0q6boCcLaWYPIy2vOsksFg  \n",
       "3  3yHQKddM8SVCRnuPSo3HPN  \n",
       "4  6BKOhvRPY54uvfqWwg7MKi  "
      ]
     },
     "execution_count": 8,
     "metadata": {},
     "output_type": "execute_result"
    }
   ],
   "source": [
    "df.head()"
   ]
  },
  {
   "cell_type": "code",
   "execution_count": 10,
   "metadata": {},
   "outputs": [],
   "source": [
    "ids = list(df[\"id\"].unique())"
   ]
  },
  {
   "cell_type": "code",
   "execution_count": 11,
   "metadata": {},
   "outputs": [],
   "source": [
    "## get features for each track\n",
    "features_df = pd.DataFrame(columns=[\"song_id\",\"energy\", \"liveness\",\"tempo\",\"speechiness\",\n",
    "                                \"acousticness\",\"instrumentalness\",\"danceability\",\n",
    "                                \"duration_ms\",\"loudness\",\"valence\",\n",
    "                                \"mode\",\"key\"])\n",
    "for song in ids:\n",
    "    features = sp.audio_features(tracks = [song])[0]\n",
    "    if features is not None:\n",
    "        features_df = features_df.append({\"song_id\":song,\n",
    "                                    \"energy\":features['energy'], \n",
    "                                    \"liveness\":features['liveness'],\n",
    "                                    \"tempo\":features['tempo'],\n",
    "                                    \"speechiness\":features['speechiness'],\n",
    "                                    \"acousticness\":features['acousticness'],\n",
    "                                    \"instrumentalness\":features['instrumentalness'],\n",
    "                                    \"danceability\":features['danceability'],\n",
    "                                    \"duration_ms\":features['duration_ms'],\n",
    "                                    \"loudness\":features['loudness'],\n",
    "                                    \"valence\":features['valence'],\n",
    "                                    \"mode\":features['mode'],\n",
    "                                    \"key\":features[\"key\"],\n",
    "                                 },ignore_index=True)\n",
    "    else:\n",
    "        pass"
   ]
  },
  {
   "cell_type": "code",
   "execution_count": 12,
   "metadata": {},
   "outputs": [],
   "source": [
    "## merge tracks with their features\n",
    "final = pd.merge(df, features_df, how=\"left\", left_on= \"id\", right_on=\"song_id\")"
   ]
  },
  {
   "cell_type": "code",
   "execution_count": 13,
   "metadata": {
    "scrolled": true
   },
   "outputs": [
    {
     "data": {
      "text/html": [
       "<div>\n",
       "<style scoped>\n",
       "    .dataframe tbody tr th:only-of-type {\n",
       "        vertical-align: middle;\n",
       "    }\n",
       "\n",
       "    .dataframe tbody tr th {\n",
       "        vertical-align: top;\n",
       "    }\n",
       "\n",
       "    .dataframe thead th {\n",
       "        text-align: right;\n",
       "    }\n",
       "</style>\n",
       "<table border=\"1\" class=\"dataframe\">\n",
       "  <thead>\n",
       "    <tr style=\"text-align: right;\">\n",
       "      <th></th>\n",
       "      <th>endTime</th>\n",
       "      <th>artistName</th>\n",
       "      <th>trackName</th>\n",
       "      <th>msPlayed</th>\n",
       "      <th>id</th>\n",
       "      <th>song_id</th>\n",
       "      <th>energy</th>\n",
       "      <th>liveness</th>\n",
       "      <th>tempo</th>\n",
       "      <th>speechiness</th>\n",
       "      <th>acousticness</th>\n",
       "      <th>instrumentalness</th>\n",
       "      <th>danceability</th>\n",
       "      <th>duration_ms</th>\n",
       "      <th>loudness</th>\n",
       "      <th>valence</th>\n",
       "      <th>mode</th>\n",
       "      <th>key</th>\n",
       "    </tr>\n",
       "  </thead>\n",
       "  <tbody>\n",
       "    <tr>\n",
       "      <td>0</td>\n",
       "      <td>2018-03-17 04:30</td>\n",
       "      <td>Chef'Special</td>\n",
       "      <td>In Your Arms</td>\n",
       "      <td>215036</td>\n",
       "      <td>3wJmcmAh2YAfDSKQR8o1XS</td>\n",
       "      <td>3wJmcmAh2YAfDSKQR8o1XS</td>\n",
       "      <td>0.406</td>\n",
       "      <td>0.112</td>\n",
       "      <td>92.964</td>\n",
       "      <td>0.0501</td>\n",
       "      <td>0.64600</td>\n",
       "      <td>0.000013</td>\n",
       "      <td>0.669</td>\n",
       "      <td>215269</td>\n",
       "      <td>-12.186</td>\n",
       "      <td>0.362</td>\n",
       "      <td>1</td>\n",
       "      <td>5</td>\n",
       "    </tr>\n",
       "    <tr>\n",
       "      <td>1</td>\n",
       "      <td>2019-07-26 12:30</td>\n",
       "      <td>CHANYEOL</td>\n",
       "      <td>Stay With Me</td>\n",
       "      <td>101170</td>\n",
       "      <td>1POlsQls16ppLPVmr4FGLt</td>\n",
       "      <td>1POlsQls16ppLPVmr4FGLt</td>\n",
       "      <td>0.526</td>\n",
       "      <td>0.126</td>\n",
       "      <td>78.643</td>\n",
       "      <td>0.0484</td>\n",
       "      <td>0.42800</td>\n",
       "      <td>0.000000</td>\n",
       "      <td>0.314</td>\n",
       "      <td>192441</td>\n",
       "      <td>-4.686</td>\n",
       "      <td>0.195</td>\n",
       "      <td>0</td>\n",
       "      <td>0</td>\n",
       "    </tr>\n",
       "    <tr>\n",
       "      <td>2</td>\n",
       "      <td>2019-07-26 12:34</td>\n",
       "      <td>(G)I-DLE</td>\n",
       "      <td>Senorita</td>\n",
       "      <td>197616</td>\n",
       "      <td>0q6boCcLaWYPIy2vOsksFg</td>\n",
       "      <td>0q6boCcLaWYPIy2vOsksFg</td>\n",
       "      <td>0.808</td>\n",
       "      <td>0.331</td>\n",
       "      <td>120.021</td>\n",
       "      <td>0.0362</td>\n",
       "      <td>0.01590</td>\n",
       "      <td>0.000043</td>\n",
       "      <td>0.782</td>\n",
       "      <td>197616</td>\n",
       "      <td>-3.139</td>\n",
       "      <td>0.420</td>\n",
       "      <td>1</td>\n",
       "      <td>0</td>\n",
       "    </tr>\n",
       "    <tr>\n",
       "      <td>3</td>\n",
       "      <td>2019-07-26 12:38</td>\n",
       "      <td>BLACKPINK</td>\n",
       "      <td>BOOMBAYAH</td>\n",
       "      <td>240848</td>\n",
       "      <td>3yHQKddM8SVCRnuPSo3HPN</td>\n",
       "      <td>3yHQKddM8SVCRnuPSo3HPN</td>\n",
       "      <td>0.836</td>\n",
       "      <td>0.507</td>\n",
       "      <td>124.969</td>\n",
       "      <td>0.0549</td>\n",
       "      <td>0.00264</td>\n",
       "      <td>0.000001</td>\n",
       "      <td>0.658</td>\n",
       "      <td>240849</td>\n",
       "      <td>-3.282</td>\n",
       "      <td>0.387</td>\n",
       "      <td>0</td>\n",
       "      <td>5</td>\n",
       "    </tr>\n",
       "    <tr>\n",
       "      <td>4</td>\n",
       "      <td>2019-07-26 12:40</td>\n",
       "      <td>EXID</td>\n",
       "      <td>Up &amp; Down</td>\n",
       "      <td>145539</td>\n",
       "      <td>6BKOhvRPY54uvfqWwg7MKi</td>\n",
       "      <td>6BKOhvRPY54uvfqWwg7MKi</td>\n",
       "      <td>0.812</td>\n",
       "      <td>0.229</td>\n",
       "      <td>112.018</td>\n",
       "      <td>0.0351</td>\n",
       "      <td>0.00189</td>\n",
       "      <td>0.000002</td>\n",
       "      <td>0.714</td>\n",
       "      <td>189882</td>\n",
       "      <td>-2.703</td>\n",
       "      <td>0.377</td>\n",
       "      <td>1</td>\n",
       "      <td>7</td>\n",
       "    </tr>\n",
       "  </tbody>\n",
       "</table>\n",
       "</div>"
      ],
      "text/plain": [
       "            endTime    artistName     trackName  msPlayed  \\\n",
       "0  2018-03-17 04:30  Chef'Special  In Your Arms    215036   \n",
       "1  2019-07-26 12:30      CHANYEOL  Stay With Me    101170   \n",
       "2  2019-07-26 12:34      (G)I-DLE      Senorita    197616   \n",
       "3  2019-07-26 12:38     BLACKPINK     BOOMBAYAH    240848   \n",
       "4  2019-07-26 12:40          EXID     Up & Down    145539   \n",
       "\n",
       "                       id                 song_id  energy  liveness    tempo  \\\n",
       "0  3wJmcmAh2YAfDSKQR8o1XS  3wJmcmAh2YAfDSKQR8o1XS   0.406     0.112   92.964   \n",
       "1  1POlsQls16ppLPVmr4FGLt  1POlsQls16ppLPVmr4FGLt   0.526     0.126   78.643   \n",
       "2  0q6boCcLaWYPIy2vOsksFg  0q6boCcLaWYPIy2vOsksFg   0.808     0.331  120.021   \n",
       "3  3yHQKddM8SVCRnuPSo3HPN  3yHQKddM8SVCRnuPSo3HPN   0.836     0.507  124.969   \n",
       "4  6BKOhvRPY54uvfqWwg7MKi  6BKOhvRPY54uvfqWwg7MKi   0.812     0.229  112.018   \n",
       "\n",
       "   speechiness  acousticness  instrumentalness  danceability duration_ms  \\\n",
       "0       0.0501       0.64600          0.000013         0.669      215269   \n",
       "1       0.0484       0.42800          0.000000         0.314      192441   \n",
       "2       0.0362       0.01590          0.000043         0.782      197616   \n",
       "3       0.0549       0.00264          0.000001         0.658      240849   \n",
       "4       0.0351       0.00189          0.000002         0.714      189882   \n",
       "\n",
       "   loudness  valence mode key  \n",
       "0   -12.186    0.362    1   5  \n",
       "1    -4.686    0.195    0   0  \n",
       "2    -3.139    0.420    1   0  \n",
       "3    -3.282    0.387    0   5  \n",
       "4    -2.703    0.377    1   7  "
      ]
     },
     "execution_count": 13,
     "metadata": {},
     "output_type": "execute_result"
    }
   ],
   "source": [
    "final.head()"
   ]
  },
  {
   "cell_type": "markdown",
   "metadata": {},
   "source": [
    "## Data Cleaning\n",
    "\n",
    "Now that we have a dataset containing my history for the previous year and the qualities related to each song that I've streamed, let's clean it up before doing any plotting. The data is already fairly clean, but here are a few things I'll do in addition:\n",
    "\n",
    "1. Delete any song that wasn't actually streamed (i.e. msPlayed = 0).\n",
    "2. Convert the feature \"msPlayed\" (milliseconds played) into minutes\n",
    "3. Convert the feature \"duration_ms\" (length of song in milliseconds) into minutes\n",
    "4. Convert the feature \"endTime\" (the timestamp when I stopped playing the song) into YYYY-MM-DD format, since I don't plan to do anything with the hour or second information.\n",
    "\n"
   ]
  },
  {
   "cell_type": "code",
   "execution_count": 57,
   "metadata": {},
   "outputs": [],
   "source": [
    "## there was a song from 2018 in my streaming history, so I deleted it to keep the time period to 2019-2020\n",
    "final = final.iloc[1:,]"
   ]
  },
  {
   "cell_type": "code",
   "execution_count": 14,
   "metadata": {},
   "outputs": [],
   "source": [
    "## delete entries where the song was skipped (i.e. msPlayed = 0)\n",
    "mask = final[\"msPlayed\"] != 0\n",
    "final = final[mask].reset_index()"
   ]
  },
  {
   "cell_type": "code",
   "execution_count": 23,
   "metadata": {},
   "outputs": [],
   "source": [
    "## convert ms to minutes\n",
    "final[\"minutesPlayed\"] = final[\"msPlayed\"]/60000\n",
    "final[\"duration_min\"] = final[\"duration_ms\"]/60000"
   ]
  },
  {
   "cell_type": "code",
   "execution_count": 45,
   "metadata": {},
   "outputs": [],
   "source": [
    "## get a feature representing the date that the song was played\n",
    "def get_date(date):\n",
    "    \n",
    "    date = datetime.strptime(date, '%Y-%m-%d %H:%M')\n",
    "    return date.strftime(\"%Y-%m-%d\")\n",
    "    \n",
    "final[\"datePlayed\"] = final[\"endTime\"].apply(get_date)"
   ]
  },
  {
   "cell_type": "code",
   "execution_count": 54,
   "metadata": {
    "collapsed": true
   },
   "outputs": [
    {
     "ename": "KeyError",
     "evalue": "\"['index' 'endTime' 'id'] not found in axis\"",
     "output_type": "error",
     "traceback": [
      "\u001b[0;31m---------------------------------------------------------------------------\u001b[0m",
      "\u001b[0;31mKeyError\u001b[0m                                  Traceback (most recent call last)",
      "\u001b[0;32m<ipython-input-54-4e9212c988f9>\u001b[0m in \u001b[0;36m<module>\u001b[0;34m\u001b[0m\n\u001b[1;32m      1\u001b[0m \u001b[0;31m## drop defunct columns\u001b[0m\u001b[0;34m\u001b[0m\u001b[0;34m\u001b[0m\u001b[0;34m\u001b[0m\u001b[0m\n\u001b[0;32m----> 2\u001b[0;31m \u001b[0mfinal\u001b[0m\u001b[0;34m.\u001b[0m\u001b[0mdrop\u001b[0m\u001b[0;34m(\u001b[0m\u001b[0mcolumns\u001b[0m\u001b[0;34m=\u001b[0m\u001b[0;34m[\u001b[0m\u001b[0;34m'index'\u001b[0m\u001b[0;34m,\u001b[0m \u001b[0;34m'endTime'\u001b[0m\u001b[0;34m,\u001b[0m \u001b[0;34m'id'\u001b[0m\u001b[0;34m]\u001b[0m\u001b[0;34m,\u001b[0m \u001b[0minplace\u001b[0m\u001b[0;34m=\u001b[0m\u001b[0;32mTrue\u001b[0m\u001b[0;34m)\u001b[0m\u001b[0;34m\u001b[0m\u001b[0;34m\u001b[0m\u001b[0m\n\u001b[0m\u001b[1;32m      3\u001b[0m \u001b[0mfinal\u001b[0m\u001b[0;34m.\u001b[0m\u001b[0mdrop\u001b[0m\u001b[0;34m(\u001b[0m\u001b[0mcolumns\u001b[0m\u001b[0;34m=\u001b[0m\u001b[0;34m[\u001b[0m\u001b[0;34m'msPlayed'\u001b[0m\u001b[0;34m]\u001b[0m\u001b[0;34m,\u001b[0m \u001b[0minplace\u001b[0m\u001b[0;34m=\u001b[0m\u001b[0;32mTrue\u001b[0m\u001b[0;34m)\u001b[0m\u001b[0;34m\u001b[0m\u001b[0;34m\u001b[0m\u001b[0m\n",
      "\u001b[0;32m/opt/anaconda3/lib/python3.7/site-packages/pandas/core/frame.py\u001b[0m in \u001b[0;36mdrop\u001b[0;34m(self, labels, axis, index, columns, level, inplace, errors)\u001b[0m\n\u001b[1;32m   4100\u001b[0m             \u001b[0mlevel\u001b[0m\u001b[0;34m=\u001b[0m\u001b[0mlevel\u001b[0m\u001b[0;34m,\u001b[0m\u001b[0;34m\u001b[0m\u001b[0;34m\u001b[0m\u001b[0m\n\u001b[1;32m   4101\u001b[0m             \u001b[0minplace\u001b[0m\u001b[0;34m=\u001b[0m\u001b[0minplace\u001b[0m\u001b[0;34m,\u001b[0m\u001b[0;34m\u001b[0m\u001b[0;34m\u001b[0m\u001b[0m\n\u001b[0;32m-> 4102\u001b[0;31m             \u001b[0merrors\u001b[0m\u001b[0;34m=\u001b[0m\u001b[0merrors\u001b[0m\u001b[0;34m,\u001b[0m\u001b[0;34m\u001b[0m\u001b[0;34m\u001b[0m\u001b[0m\n\u001b[0m\u001b[1;32m   4103\u001b[0m         )\n\u001b[1;32m   4104\u001b[0m \u001b[0;34m\u001b[0m\u001b[0m\n",
      "\u001b[0;32m/opt/anaconda3/lib/python3.7/site-packages/pandas/core/generic.py\u001b[0m in \u001b[0;36mdrop\u001b[0;34m(self, labels, axis, index, columns, level, inplace, errors)\u001b[0m\n\u001b[1;32m   3912\u001b[0m         \u001b[0;32mfor\u001b[0m \u001b[0maxis\u001b[0m\u001b[0;34m,\u001b[0m \u001b[0mlabels\u001b[0m \u001b[0;32min\u001b[0m \u001b[0maxes\u001b[0m\u001b[0;34m.\u001b[0m\u001b[0mitems\u001b[0m\u001b[0;34m(\u001b[0m\u001b[0;34m)\u001b[0m\u001b[0;34m:\u001b[0m\u001b[0;34m\u001b[0m\u001b[0;34m\u001b[0m\u001b[0m\n\u001b[1;32m   3913\u001b[0m             \u001b[0;32mif\u001b[0m \u001b[0mlabels\u001b[0m \u001b[0;32mis\u001b[0m \u001b[0;32mnot\u001b[0m \u001b[0;32mNone\u001b[0m\u001b[0;34m:\u001b[0m\u001b[0;34m\u001b[0m\u001b[0;34m\u001b[0m\u001b[0m\n\u001b[0;32m-> 3914\u001b[0;31m                 \u001b[0mobj\u001b[0m \u001b[0;34m=\u001b[0m \u001b[0mobj\u001b[0m\u001b[0;34m.\u001b[0m\u001b[0m_drop_axis\u001b[0m\u001b[0;34m(\u001b[0m\u001b[0mlabels\u001b[0m\u001b[0;34m,\u001b[0m \u001b[0maxis\u001b[0m\u001b[0;34m,\u001b[0m \u001b[0mlevel\u001b[0m\u001b[0;34m=\u001b[0m\u001b[0mlevel\u001b[0m\u001b[0;34m,\u001b[0m \u001b[0merrors\u001b[0m\u001b[0;34m=\u001b[0m\u001b[0merrors\u001b[0m\u001b[0;34m)\u001b[0m\u001b[0;34m\u001b[0m\u001b[0;34m\u001b[0m\u001b[0m\n\u001b[0m\u001b[1;32m   3915\u001b[0m \u001b[0;34m\u001b[0m\u001b[0m\n\u001b[1;32m   3916\u001b[0m         \u001b[0;32mif\u001b[0m \u001b[0minplace\u001b[0m\u001b[0;34m:\u001b[0m\u001b[0;34m\u001b[0m\u001b[0;34m\u001b[0m\u001b[0m\n",
      "\u001b[0;32m/opt/anaconda3/lib/python3.7/site-packages/pandas/core/generic.py\u001b[0m in \u001b[0;36m_drop_axis\u001b[0;34m(self, labels, axis, level, errors)\u001b[0m\n\u001b[1;32m   3944\u001b[0m                 \u001b[0mnew_axis\u001b[0m \u001b[0;34m=\u001b[0m \u001b[0maxis\u001b[0m\u001b[0;34m.\u001b[0m\u001b[0mdrop\u001b[0m\u001b[0;34m(\u001b[0m\u001b[0mlabels\u001b[0m\u001b[0;34m,\u001b[0m \u001b[0mlevel\u001b[0m\u001b[0;34m=\u001b[0m\u001b[0mlevel\u001b[0m\u001b[0;34m,\u001b[0m \u001b[0merrors\u001b[0m\u001b[0;34m=\u001b[0m\u001b[0merrors\u001b[0m\u001b[0;34m)\u001b[0m\u001b[0;34m\u001b[0m\u001b[0;34m\u001b[0m\u001b[0m\n\u001b[1;32m   3945\u001b[0m             \u001b[0;32melse\u001b[0m\u001b[0;34m:\u001b[0m\u001b[0;34m\u001b[0m\u001b[0;34m\u001b[0m\u001b[0m\n\u001b[0;32m-> 3946\u001b[0;31m                 \u001b[0mnew_axis\u001b[0m \u001b[0;34m=\u001b[0m \u001b[0maxis\u001b[0m\u001b[0;34m.\u001b[0m\u001b[0mdrop\u001b[0m\u001b[0;34m(\u001b[0m\u001b[0mlabels\u001b[0m\u001b[0;34m,\u001b[0m \u001b[0merrors\u001b[0m\u001b[0;34m=\u001b[0m\u001b[0merrors\u001b[0m\u001b[0;34m)\u001b[0m\u001b[0;34m\u001b[0m\u001b[0;34m\u001b[0m\u001b[0m\n\u001b[0m\u001b[1;32m   3947\u001b[0m             \u001b[0mresult\u001b[0m \u001b[0;34m=\u001b[0m \u001b[0mself\u001b[0m\u001b[0;34m.\u001b[0m\u001b[0mreindex\u001b[0m\u001b[0;34m(\u001b[0m\u001b[0;34m**\u001b[0m\u001b[0;34m{\u001b[0m\u001b[0maxis_name\u001b[0m\u001b[0;34m:\u001b[0m \u001b[0mnew_axis\u001b[0m\u001b[0;34m}\u001b[0m\u001b[0;34m)\u001b[0m\u001b[0;34m\u001b[0m\u001b[0;34m\u001b[0m\u001b[0m\n\u001b[1;32m   3948\u001b[0m \u001b[0;34m\u001b[0m\u001b[0m\n",
      "\u001b[0;32m/opt/anaconda3/lib/python3.7/site-packages/pandas/core/indexes/base.py\u001b[0m in \u001b[0;36mdrop\u001b[0;34m(self, labels, errors)\u001b[0m\n\u001b[1;32m   5338\u001b[0m         \u001b[0;32mif\u001b[0m \u001b[0mmask\u001b[0m\u001b[0;34m.\u001b[0m\u001b[0many\u001b[0m\u001b[0;34m(\u001b[0m\u001b[0;34m)\u001b[0m\u001b[0;34m:\u001b[0m\u001b[0;34m\u001b[0m\u001b[0;34m\u001b[0m\u001b[0m\n\u001b[1;32m   5339\u001b[0m             \u001b[0;32mif\u001b[0m \u001b[0merrors\u001b[0m \u001b[0;34m!=\u001b[0m \u001b[0;34m\"ignore\"\u001b[0m\u001b[0;34m:\u001b[0m\u001b[0;34m\u001b[0m\u001b[0;34m\u001b[0m\u001b[0m\n\u001b[0;32m-> 5340\u001b[0;31m                 \u001b[0;32mraise\u001b[0m \u001b[0mKeyError\u001b[0m\u001b[0;34m(\u001b[0m\u001b[0;34m\"{} not found in axis\"\u001b[0m\u001b[0;34m.\u001b[0m\u001b[0mformat\u001b[0m\u001b[0;34m(\u001b[0m\u001b[0mlabels\u001b[0m\u001b[0;34m[\u001b[0m\u001b[0mmask\u001b[0m\u001b[0;34m]\u001b[0m\u001b[0;34m)\u001b[0m\u001b[0;34m)\u001b[0m\u001b[0;34m\u001b[0m\u001b[0;34m\u001b[0m\u001b[0m\n\u001b[0m\u001b[1;32m   5341\u001b[0m             \u001b[0mindexer\u001b[0m \u001b[0;34m=\u001b[0m \u001b[0mindexer\u001b[0m\u001b[0;34m[\u001b[0m\u001b[0;34m~\u001b[0m\u001b[0mmask\u001b[0m\u001b[0;34m]\u001b[0m\u001b[0;34m\u001b[0m\u001b[0;34m\u001b[0m\u001b[0m\n\u001b[1;32m   5342\u001b[0m         \u001b[0;32mreturn\u001b[0m \u001b[0mself\u001b[0m\u001b[0;34m.\u001b[0m\u001b[0mdelete\u001b[0m\u001b[0;34m(\u001b[0m\u001b[0mindexer\u001b[0m\u001b[0;34m)\u001b[0m\u001b[0;34m\u001b[0m\u001b[0;34m\u001b[0m\u001b[0m\n",
      "\u001b[0;31mKeyError\u001b[0m: \"['index' 'endTime' 'id'] not found in axis\""
     ]
    }
   ],
   "source": [
    "## drop defunct/redundant columns\n",
    "final.drop(columns=['index', 'endTime', 'id', 'msPlayed', 'duration_ms'], inplace=True)"
   ]
  },
  {
   "cell_type": "code",
   "execution_count": 72,
   "metadata": {
    "scrolled": true
   },
   "outputs": [
    {
     "data": {
      "text/plain": [
       "count    5100.000000\n",
       "mean        1.936962\n",
       "std         1.638505\n",
       "min         0.000367\n",
       "25%         0.141525\n",
       "50%         1.952167\n",
       "75%         3.463733\n",
       "max         6.919117\n",
       "Name: minutesPlayed, dtype: float64"
      ]
     },
     "execution_count": 72,
     "metadata": {},
     "output_type": "execute_result"
    }
   ],
   "source": [
    "final[\"minutesPlayed\"].describe()"
   ]
  },
  {
   "cell_type": "markdown",
   "metadata": {},
   "source": [
    "For some reason, there's a song that was played for 25 minutes (I didn't know songs could be so long!). Let's keep the songs that were played for 0-8 minutes, since anything more than that would likely be an error."
   ]
  },
  {
   "cell_type": "code",
   "execution_count": 70,
   "metadata": {},
   "outputs": [],
   "source": [
    "mask = final[\"minutesPlayed\"] <= 8\n",
    "final = final[mask]"
   ]
  },
  {
   "cell_type": "code",
   "execution_count": 79,
   "metadata": {},
   "outputs": [
    {
     "data": {
      "text/html": [
       "<div>\n",
       "<style scoped>\n",
       "    .dataframe tbody tr th:only-of-type {\n",
       "        vertical-align: middle;\n",
       "    }\n",
       "\n",
       "    .dataframe tbody tr th {\n",
       "        vertical-align: top;\n",
       "    }\n",
       "\n",
       "    .dataframe thead th {\n",
       "        text-align: right;\n",
       "    }\n",
       "</style>\n",
       "<table border=\"1\" class=\"dataframe\">\n",
       "  <thead>\n",
       "    <tr style=\"text-align: right;\">\n",
       "      <th></th>\n",
       "      <th>artistName</th>\n",
       "      <th>trackName</th>\n",
       "      <th>song_id</th>\n",
       "      <th>energy</th>\n",
       "      <th>liveness</th>\n",
       "      <th>tempo</th>\n",
       "      <th>speechiness</th>\n",
       "      <th>acousticness</th>\n",
       "      <th>instrumentalness</th>\n",
       "      <th>danceability</th>\n",
       "      <th>loudness</th>\n",
       "      <th>valence</th>\n",
       "      <th>mode</th>\n",
       "      <th>key</th>\n",
       "      <th>minutesPlayed</th>\n",
       "      <th>datePlayed</th>\n",
       "      <th>duration_min</th>\n",
       "    </tr>\n",
       "  </thead>\n",
       "  <tbody>\n",
       "    <tr>\n",
       "      <td>1</td>\n",
       "      <td>CHANYEOL</td>\n",
       "      <td>Stay With Me</td>\n",
       "      <td>1POlsQls16ppLPVmr4FGLt</td>\n",
       "      <td>0.526</td>\n",
       "      <td>0.126</td>\n",
       "      <td>78.643</td>\n",
       "      <td>0.0484</td>\n",
       "      <td>0.42800</td>\n",
       "      <td>0.000000</td>\n",
       "      <td>0.314</td>\n",
       "      <td>-4.686</td>\n",
       "      <td>0.195</td>\n",
       "      <td>0</td>\n",
       "      <td>0</td>\n",
       "      <td>1.686167</td>\n",
       "      <td>2019-07-26</td>\n",
       "      <td>3.20735</td>\n",
       "    </tr>\n",
       "    <tr>\n",
       "      <td>2</td>\n",
       "      <td>(G)I-DLE</td>\n",
       "      <td>Senorita</td>\n",
       "      <td>0q6boCcLaWYPIy2vOsksFg</td>\n",
       "      <td>0.808</td>\n",
       "      <td>0.331</td>\n",
       "      <td>120.021</td>\n",
       "      <td>0.0362</td>\n",
       "      <td>0.01590</td>\n",
       "      <td>0.000043</td>\n",
       "      <td>0.782</td>\n",
       "      <td>-3.139</td>\n",
       "      <td>0.420</td>\n",
       "      <td>1</td>\n",
       "      <td>0</td>\n",
       "      <td>3.293600</td>\n",
       "      <td>2019-07-26</td>\n",
       "      <td>3.2936</td>\n",
       "    </tr>\n",
       "    <tr>\n",
       "      <td>3</td>\n",
       "      <td>BLACKPINK</td>\n",
       "      <td>BOOMBAYAH</td>\n",
       "      <td>3yHQKddM8SVCRnuPSo3HPN</td>\n",
       "      <td>0.836</td>\n",
       "      <td>0.507</td>\n",
       "      <td>124.969</td>\n",
       "      <td>0.0549</td>\n",
       "      <td>0.00264</td>\n",
       "      <td>0.000001</td>\n",
       "      <td>0.658</td>\n",
       "      <td>-3.282</td>\n",
       "      <td>0.387</td>\n",
       "      <td>0</td>\n",
       "      <td>5</td>\n",
       "      <td>4.014133</td>\n",
       "      <td>2019-07-26</td>\n",
       "      <td>4.01415</td>\n",
       "    </tr>\n",
       "    <tr>\n",
       "      <td>4</td>\n",
       "      <td>EXID</td>\n",
       "      <td>Up &amp; Down</td>\n",
       "      <td>6BKOhvRPY54uvfqWwg7MKi</td>\n",
       "      <td>0.812</td>\n",
       "      <td>0.229</td>\n",
       "      <td>112.018</td>\n",
       "      <td>0.0351</td>\n",
       "      <td>0.00189</td>\n",
       "      <td>0.000002</td>\n",
       "      <td>0.714</td>\n",
       "      <td>-2.703</td>\n",
       "      <td>0.377</td>\n",
       "      <td>1</td>\n",
       "      <td>7</td>\n",
       "      <td>2.425650</td>\n",
       "      <td>2019-07-26</td>\n",
       "      <td>3.1647</td>\n",
       "    </tr>\n",
       "    <tr>\n",
       "      <td>5</td>\n",
       "      <td>TWICE</td>\n",
       "      <td>YES or YES</td>\n",
       "      <td>0Ll92eLIHWY5gey1ISNMPi</td>\n",
       "      <td>0.913</td>\n",
       "      <td>0.166</td>\n",
       "      <td>137.982</td>\n",
       "      <td>0.0374</td>\n",
       "      <td>0.05140</td>\n",
       "      <td>0.000004</td>\n",
       "      <td>0.702</td>\n",
       "      <td>-2.977</td>\n",
       "      <td>0.735</td>\n",
       "      <td>1</td>\n",
       "      <td>11</td>\n",
       "      <td>0.017733</td>\n",
       "      <td>2019-07-26</td>\n",
       "      <td>3.96133</td>\n",
       "    </tr>\n",
       "  </tbody>\n",
       "</table>\n",
       "</div>"
      ],
      "text/plain": [
       "  artistName     trackName                 song_id  energy  liveness    tempo  \\\n",
       "1   CHANYEOL  Stay With Me  1POlsQls16ppLPVmr4FGLt   0.526     0.126   78.643   \n",
       "2   (G)I-DLE      Senorita  0q6boCcLaWYPIy2vOsksFg   0.808     0.331  120.021   \n",
       "3  BLACKPINK     BOOMBAYAH  3yHQKddM8SVCRnuPSo3HPN   0.836     0.507  124.969   \n",
       "4       EXID     Up & Down  6BKOhvRPY54uvfqWwg7MKi   0.812     0.229  112.018   \n",
       "5      TWICE    YES or YES  0Ll92eLIHWY5gey1ISNMPi   0.913     0.166  137.982   \n",
       "\n",
       "   speechiness  acousticness  instrumentalness  danceability  loudness  \\\n",
       "1       0.0484       0.42800          0.000000         0.314    -4.686   \n",
       "2       0.0362       0.01590          0.000043         0.782    -3.139   \n",
       "3       0.0549       0.00264          0.000001         0.658    -3.282   \n",
       "4       0.0351       0.00189          0.000002         0.714    -2.703   \n",
       "5       0.0374       0.05140          0.000004         0.702    -2.977   \n",
       "\n",
       "   valence mode key  minutesPlayed  datePlayed duration_min  \n",
       "1    0.195    0   0       1.686167  2019-07-26      3.20735  \n",
       "2    0.420    1   0       3.293600  2019-07-26       3.2936  \n",
       "3    0.387    0   5       4.014133  2019-07-26      4.01415  \n",
       "4    0.377    1   7       2.425650  2019-07-26       3.1647  \n",
       "5    0.735    1  11       0.017733  2019-07-26      3.96133  "
      ]
     },
     "execution_count": 79,
     "metadata": {},
     "output_type": "execute_result"
    }
   ],
   "source": [
    "final.head()"
   ]
  },
  {
   "cell_type": "markdown",
   "metadata": {},
   "source": [
    "## Data Visualization for Streaming History\n",
    "\n",
    "Now that I have a data frame containing my history for the previous year and the qualities related to each song that I've streamed, let's visualize some patterns in my streaming history."
   ]
  },
  {
   "cell_type": "markdown",
   "metadata": {},
   "source": [
    "### Time Played for Songs I Streamed\n",
    "\n",
    "Is a Spotify subscription really worth it in my case? A big draw of using Spotify is its algorithm that recommends songs to me. So, to answer the question, I will break down the problem into two parts:\n",
    "\n",
    "1. Do I like the recommendations that I get?\n",
    "2. How often do I actually use Spotify?\n",
    "\n",
    "To answer the first question, I will use the variable \"minutesPlayed\" as a proxy. I usually skip over songs that I don't like, so if a song was recommended to me and I don't like it, I'll usually skip it."
   ]
  },
  {
   "cell_type": "code",
   "execution_count": 115,
   "metadata": {
    "scrolled": true
   },
   "outputs": [
    {
     "data": {
      "image/png": "[encoded data removed]",
      "text/plain": [
       "<Figure size 720x252 with 2 Axes>"
      ]
     },
     "metadata": {},
     "output_type": "display_data"
    }
   ],
   "source": [
    "fig, ax = plt.subplots(nrows=1, ncols=2, figsize = (10,3.5))\n",
    "plt.style.use('ggplot')\n",
    "ax[0].hist(final[\"minutesPlayed\"], color = \"lightcoral\", kd)\n",
    "ax[0].set_xlabel('Time Played (Minutes)')\n",
    "ax[0].set_ylabel('Frequency')\n",
    "ax[0].set_title('Distribution of Time Played')\n",
    "\n",
    "\n",
    "ax[1].hist(final[\"duration_min\"], color = \"plum\")\n",
    "ax[1].set_xlabel('Song Duration (Minutes)')\n",
    "ax[1].set_ylabel('Frequency')\n",
    "ax[1].set_title('Distribution of Song Durations');"
   ]
  },
  {
   "cell_type": "markdown",
   "metadata": {},
   "source": [
    "I'm actually quite surprised to see how different the distribution of minutes I streamed a song for is from the distribution of song durations. The latter is roughly normally distributed while the former is right skewed, which goes to show how often I skip over songs. Of the 5000 songs that I streamed in the past year, I listened to about 2000 of them for less than 30 seconds!"
   ]
  },
  {
   "cell_type": "code",
   "execution_count": 108,
   "metadata": {
    "scrolled": true
   },
   "outputs": [
    {
     "data": {
      "image/png": "[encoded data removed]",
      "text/plain": [
       "<Figure size 432x288 with 1 Axes>"
      ]
     },
     "metadata": {},
     "output_type": "display_data"
    }
   ],
   "source": [
    "## get the minutes played for songs I played for less than a minute\n",
    "mask = final[\"minutesPlayed\"]<=1\n",
    "tmp = final[\"minutesPlayed\"][mask]\n",
    "\n",
    "plt.hist(tmp)\n",
    "plt.title(\"Distribution of Time Streamed\")\n",
    "plt.xlabel('Time Played (Minutes)')\n",
    "plt.ylabel('Frequency');"
   ]
  },
  {
   "cell_type": "markdown",
   "metadata": {},
   "source": [
    "Looking just at the songs that I played for less than a minute, it appears that the vast majority of them were skipped after playing for less than 6 seconds! \n",
    "\n",
    "Perhaps I should reconsider my Spotify subscription! Skipping about 40% of the songs recommended sounds a bit high to me, and I dislike these recommendations so much that I usually decide to skip in the first 6 seconds of the song. That being said, I can be somewhat picky with music (as you can probably imagine), so it's most likely not the algorithm's fault."
   ]
  },
  {
   "cell_type": "markdown",
   "metadata": {},
   "source": [
    "### Trends Throughout Time"
   ]
  },
  {
   "cell_type": "code",
   "execution_count": 131,
   "metadata": {},
   "outputs": [],
   "source": [
    "aggregate_df = final.groupby('datePlayed').agg({\n",
    "    'energy': np.mean,\n",
    "    'liveness': np.mean,\n",
    "    'tempo': np.mean,\n",
    "    'speechiness': np.mean,\n",
    "    'acousticness': np.mean,\n",
    "    'instrumentalness': np.mean,\n",
    "    'danceability': np.mean,\n",
    "    'loudness': np.mean,\n",
    "    'valence': [np.mean, np.std],\n",
    "    'minutesPlayed': np.sum\n",
    "        })\n",
    "\n",
    "## rename column names to the following format: feature_aggregate function\n",
    "aggregate_df.columns = ['_'.join(name) for name in aggregate_df.columns]\n",
    "aggregate_df.reset_index(inplace=True)"
   ]
  },
  {
   "cell_type": "code",
   "execution_count": 143,
   "metadata": {},
   "outputs": [
    {
     "data": {
      "text/html": [
       "<div>\n",
       "<style scoped>\n",
       "    .dataframe tbody tr th:only-of-type {\n",
       "        vertical-align: middle;\n",
       "    }\n",
       "\n",
       "    .dataframe tbody tr th {\n",
       "        vertical-align: top;\n",
       "    }\n",
       "\n",
       "    .dataframe thead th {\n",
       "        text-align: right;\n",
       "    }\n",
       "</style>\n",
       "<table border=\"1\" class=\"dataframe\">\n",
       "  <thead>\n",
       "    <tr style=\"text-align: right;\">\n",
       "      <th></th>\n",
       "      <th>datePlayed</th>\n",
       "      <th>energy_mean</th>\n",
       "      <th>liveness_mean</th>\n",
       "      <th>tempo_mean</th>\n",
       "      <th>speechiness_mean</th>\n",
       "      <th>acousticness_mean</th>\n",
       "      <th>instrumentalness_mean</th>\n",
       "      <th>danceability_mean</th>\n",
       "      <th>loudness_mean</th>\n",
       "      <th>valence_mean</th>\n",
       "      <th>valence_std</th>\n",
       "      <th>minutesPlayed_sum</th>\n",
       "    </tr>\n",
       "  </thead>\n",
       "  <tbody>\n",
       "    <tr>\n",
       "      <td>0</td>\n",
       "      <td>2019-07-26</td>\n",
       "      <td>0.825902</td>\n",
       "      <td>0.183923</td>\n",
       "      <td>124.182213</td>\n",
       "      <td>0.071423</td>\n",
       "      <td>0.138269</td>\n",
       "      <td>0.000515</td>\n",
       "      <td>0.699393</td>\n",
       "      <td>-3.322475</td>\n",
       "      <td>0.581016</td>\n",
       "      <td>0.216436</td>\n",
       "      <td>81.651333</td>\n",
       "    </tr>\n",
       "    <tr>\n",
       "      <td>1</td>\n",
       "      <td>2019-07-27</td>\n",
       "      <td>0.682670</td>\n",
       "      <td>0.199070</td>\n",
       "      <td>130.041522</td>\n",
       "      <td>0.089304</td>\n",
       "      <td>0.266054</td>\n",
       "      <td>0.043547</td>\n",
       "      <td>0.606043</td>\n",
       "      <td>-5.659391</td>\n",
       "      <td>0.495174</td>\n",
       "      <td>0.194936</td>\n",
       "      <td>48.240333</td>\n",
       "    </tr>\n",
       "    <tr>\n",
       "      <td>2</td>\n",
       "      <td>2019-07-28</td>\n",
       "      <td>0.839118</td>\n",
       "      <td>0.178918</td>\n",
       "      <td>123.047706</td>\n",
       "      <td>0.068676</td>\n",
       "      <td>0.117122</td>\n",
       "      <td>0.000682</td>\n",
       "      <td>0.717235</td>\n",
       "      <td>-3.142824</td>\n",
       "      <td>0.598941</td>\n",
       "      <td>0.210349</td>\n",
       "      <td>36.503783</td>\n",
       "    </tr>\n",
       "    <tr>\n",
       "      <td>3</td>\n",
       "      <td>2019-07-29</td>\n",
       "      <td>0.855053</td>\n",
       "      <td>0.209914</td>\n",
       "      <td>127.664719</td>\n",
       "      <td>0.142035</td>\n",
       "      <td>0.087242</td>\n",
       "      <td>0.055553</td>\n",
       "      <td>0.684351</td>\n",
       "      <td>-3.432333</td>\n",
       "      <td>0.534298</td>\n",
       "      <td>0.199184</td>\n",
       "      <td>92.692833</td>\n",
       "    </tr>\n",
       "    <tr>\n",
       "      <td>4</td>\n",
       "      <td>2019-07-30</td>\n",
       "      <td>0.841174</td>\n",
       "      <td>0.197309</td>\n",
       "      <td>125.604609</td>\n",
       "      <td>0.072365</td>\n",
       "      <td>0.123319</td>\n",
       "      <td>0.000343</td>\n",
       "      <td>0.710565</td>\n",
       "      <td>-3.028870</td>\n",
       "      <td>0.584826</td>\n",
       "      <td>0.201651</td>\n",
       "      <td>24.517983</td>\n",
       "    </tr>\n",
       "  </tbody>\n",
       "</table>\n",
       "</div>"
      ],
      "text/plain": [
       "   datePlayed  energy_mean  liveness_mean  tempo_mean  speechiness_mean  \\\n",
       "0  2019-07-26     0.825902       0.183923  124.182213          0.071423   \n",
       "1  2019-07-27     0.682670       0.199070  130.041522          0.089304   \n",
       "2  2019-07-28     0.839118       0.178918  123.047706          0.068676   \n",
       "3  2019-07-29     0.855053       0.209914  127.664719          0.142035   \n",
       "4  2019-07-30     0.841174       0.197309  125.604609          0.072365   \n",
       "\n",
       "   acousticness_mean  instrumentalness_mean  danceability_mean  loudness_mean  \\\n",
       "0           0.138269               0.000515           0.699393      -3.322475   \n",
       "1           0.266054               0.043547           0.606043      -5.659391   \n",
       "2           0.117122               0.000682           0.717235      -3.142824   \n",
       "3           0.087242               0.055553           0.684351      -3.432333   \n",
       "4           0.123319               0.000343           0.710565      -3.028870   \n",
       "\n",
       "   valence_mean  valence_std  minutesPlayed_sum  \n",
       "0      0.581016     0.216436          81.651333  \n",
       "1      0.495174     0.194936          48.240333  \n",
       "2      0.598941     0.210349          36.503783  \n",
       "3      0.534298     0.199184          92.692833  \n",
       "4      0.584826     0.201651          24.517983  "
      ]
     },
     "execution_count": 143,
     "metadata": {},
     "output_type": "execute_result"
    }
   ],
   "source": [
    "aggregate_df.head()"
   ]
  },
  {
   "cell_type": "markdown",
   "metadata": {},
   "source": [
    "There are two features I'm particularly interested in looking at. In the aggregated data frame, I have the total daily minutes played, as well as the average \"valence\" of the songs I played during that day. According to Spotify, valence is\ta feature that describes \"the musical positiveness conveyed by a track\". Valence ranges from 0-1, with 1 being more upbeat and 0 being more sad. By looking at valence over time, I can see how my mood changed throughout the past year."
   ]
  },
  {
   "cell_type": "code",
   "execution_count": 153,
   "metadata": {},
   "outputs": [],
   "source": [
    "aggregate_df[\"date\"] = pd.to_datetime(aggregate_df['datePlayed'], format='%Y-%m-%d')\n",
    "#aggregate_df[\"date\"] = aggregate_df['datePlayed'].apply(lambda x:x[:7])"
   ]
  },
  {
   "cell_type": "code",
   "execution_count": 156,
   "metadata": {},
   "outputs": [
    {
     "data": {
      "text/plain": [
       "[<matplotlib.lines.Line2D at 0x7ffbde410810>]"
      ]
     },
     "execution_count": 156,
     "metadata": {},
     "output_type": "execute_result"
    },
    {
     "data": {
      "image/png": "[encoded data removed]",
      "text/plain": [
       "<Figure size 432x288 with 1 Axes>"
      ]
     },
     "metadata": {},
     "output_type": "display_data"
    }
   ],
   "source": [
    "plt.plot(aggregate_df[\"date\"], aggregate_df[\"minutesPlayed_sum\"])"
   ]
  },
  {
   "cell_type": "code",
   "execution_count": 155,
   "metadata": {},
   "outputs": [
    {
     "data": {
      "text/plain": [
       "[<matplotlib.lines.Line2D at 0x7ffbde056e50>]"
      ]
     },
     "execution_count": 155,
     "metadata": {},
     "output_type": "execute_result"
    },
    {
     "data": {
      "image/png": "[encoded data removed]",
      "text/plain": [
       "<Figure size 432x288 with 1 Axes>"
      ]
     },
     "metadata": {},
     "output_type": "display_data"
    }
   ],
   "source": [
    "plt.plot(aggregate_df[\"date\"], aggregate_df[\"valence_mean\"])"
   ]
  },
  {
   "cell_type": "markdown",
   "metadata": {},
   "source": [
    "### Bonus: Using Machine Learning to Generate Better Recommendations\n",
    "Since I noticed the Spotify algorithm isn't really working for me, I'd like to try to build a model that can better feel out my tastes. I have low expectations for this since Spotify has a dedicated data science team full of more experienced data scientists, but let's see how it goes."
   ]
  }
 ],
 "metadata": {
  "kernelspec": {
   "display_name": "Python 3",
   "language": "python",
   "name": "python3"
  },
  "language_info": {
   "codemirror_mode": {
    "name": "ipython",
    "version": 3
   },
   "file_extension": ".py",
   "mimetype": "text/x-python",
   "name": "python",
   "nbconvert_exporter": "python",
   "pygments_lexer": "ipython3",
   "version": "3.7.4"
  }
 },
 "nbformat": 4,
 "nbformat_minor": 2
}
