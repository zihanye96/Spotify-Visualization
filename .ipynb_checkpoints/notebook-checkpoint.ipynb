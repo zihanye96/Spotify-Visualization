{
 "cells": [
  {
   "cell_type": "markdown",
   "metadata": {},
   "source": [
    "# Visualizing Spotify Streaming History"
   ]
  },
  {
   "cell_type": "markdown",
   "metadata": {},
   "source": [
    "## Setting Up\n",
    "\n",
    "I've already downloaded a JSON file from Spotify containing my streaming history (you can download yours [here](https://www.spotify.com/ca-en/account/privacy/)).\n",
    "\n",
    "In this section, I will create two data frames: one for my streaming history (songs I've streamed and when I streamed them) and one for my playlists (information about each song in my playlists). \n",
    "\n",
    "For the streaming history data frame, I will load in the JSON file, convert it into a Pandas data frame, and use the Spotify API to get another data frame containing features (energy, danceability, loudness, etc.) for each song in my streaming history. I will join the two data frames to get a final data frame that I will use for plotting.\n",
    "\n",
    "For the playlist data frame, I will use the API to get the playlist ID, the tracks in each playlist, and the features for each song in my playlist."
   ]
  },
  {
   "cell_type": "code",
   "execution_count": 1,
   "metadata": {},
   "outputs": [],
   "source": [
    "## load required packages\n",
    "import json\n",
    "from spotipy.oauth2 import SpotifyClientCredentials\n",
    "import spotipy\n",
    "import spotipy.util as util\n",
    "\n",
    "import pandas as pd\n",
    "import numpy as np\n",
    "import random\n",
    "import matplotlib.pyplot as plt\n",
    "import matplotlib as mpl\n",
    "\n",
    "import plotly.offline as py\n",
    "from plotly.subplots import make_subplots\n",
    "import plotly.graph_objects as go\n",
    "\n",
    "import calmap\n",
    "from matplotlib.pyplot import figure\n",
    "\n",
    "from datetime import datetime\n",
    "\n",
    "from sklearn.model_selection import train_test_split\n",
    "from xgboost import XGBClassifier\n",
    "import tensorflow as tf\n",
    "from tensorflow import keras\n",
    "from tensorflow.keras import layers\n",
    "from sklearn.metrics import accuracy_score"
   ]
  },
  {
   "cell_type": "code",
   "execution_count": 2,
   "metadata": {},
   "outputs": [
    {
     "data": {
      "text/html": [
       "        <script type=\"text/javascript\">\n",
       "        window.PlotlyConfig = {MathJaxConfig: 'local'};\n",
       "        if (window.MathJax) {MathJax.Hub.Config({SVG: {font: \"STIX-Web\"}});}\n",
       "        if (typeof require !== 'undefined') {\n",
       "        require.undef(\"plotly\");\n",
       "        requirejs.config({\n",
       "            paths: {\n",
       "                'plotly': ['https://cdn.plot.ly/plotly-latest.min']\n",
       "            }\n",
       "        });\n",
       "        require(['plotly'], function(Plotly) {\n",
       "            window._Plotly = Plotly;\n",
       "        });\n",
       "        }\n",
       "        </script>\n",
       "        "
      ]
     },
     "metadata": {},
     "output_type": "display_data"
    }
   ],
   "source": [
    "## initialize plotly\n",
    "import plotly.offline as py\n",
    "py.init_notebook_mode(connected=True)"
   ]
  },
  {
   "cell_type": "code",
   "execution_count": 3,
   "metadata": {},
   "outputs": [],
   "source": [
    "## set up access to API\n",
    "client_id ='3ee7d37516aa4d01ad6064f6ce05e5e1' \n",
    "client_secret = '68a78f783ce248c783ea1b425f95d88b'\n",
    "client_credentials_manager = SpotifyClientCredentials(client_id = client_id, client_secret = client_secret)\n",
    "sp = spotipy.Spotify(client_credentials_manager=client_credentials_manager)\n",
    "sp.trace = False"
   ]
  },
  {
   "cell_type": "markdown",
   "metadata": {},
   "source": [
    "### Streaming History "
   ]
  },
  {
   "cell_type": "code",
   "execution_count": 4,
   "metadata": {},
   "outputs": [
    {
     "data": {
      "text/plain": [
       "[{'endTime': '2020-07-26 03:57',\n",
       "  'artistName': '朱主愛',\n",
       "  'trackName': '藏不住的心跳 (《我只喜歡你》影視劇片頭曲)',\n",
       "  'msPlayed': 71594},\n",
       " {'endTime': '2020-07-26 03:59',\n",
       "  'artistName': 'SBGB',\n",
       "  'trackName': 'BANANA CHACHA Acoustic',\n",
       "  'msPlayed': 4800},\n",
       " {'endTime': '2020-07-26 03:59',\n",
       "  'artistName': 'Huh Gak',\n",
       "  'trackName': 'Let you go (Duet. Jeong Eun Ji)',\n",
       "  'msPlayed': 92821},\n",
       " {'endTime': '2020-07-26 03:59',\n",
       "  'artistName': 'Stella Jang',\n",
       "  'trackName': 'YOLO',\n",
       "  'msPlayed': 8682},\n",
       " {'endTime': '2020-07-26 04:01',\n",
       "  'artistName': '鞠婧禕',\n",
       "  'trackName': '嘆雲兮(電視劇《芸汐傳》片尾曲)',\n",
       "  'msPlayed': 101034}]"
      ]
     },
     "execution_count": 4,
     "metadata": {},
     "output_type": "execute_result"
    }
   ],
   "source": [
    "## load in json file of streaming history\n",
    "with open('MyData/StreamingHistory0.json', encoding='utf8') as f:\n",
    "    song_data = json.load(f)\n",
    "    \n",
    "song_data[-5:]"
   ]
  },
  {
   "cell_type": "code",
   "execution_count": 5,
   "metadata": {},
   "outputs": [
    {
     "data": {
      "text/html": [
       "<div>\n",
       "<style scoped>\n",
       "    .dataframe tbody tr th:only-of-type {\n",
       "        vertical-align: middle;\n",
       "    }\n",
       "\n",
       "    .dataframe tbody tr th {\n",
       "        vertical-align: top;\n",
       "    }\n",
       "\n",
       "    .dataframe thead th {\n",
       "        text-align: right;\n",
       "    }\n",
       "</style>\n",
       "<table border=\"1\" class=\"dataframe\">\n",
       "  <thead>\n",
       "    <tr style=\"text-align: right;\">\n",
       "      <th></th>\n",
       "      <th>endTime</th>\n",
       "      <th>artistName</th>\n",
       "      <th>trackName</th>\n",
       "      <th>msPlayed</th>\n",
       "    </tr>\n",
       "  </thead>\n",
       "  <tbody>\n",
       "    <tr>\n",
       "      <td>0</td>\n",
       "      <td>2018-03-17 04:30</td>\n",
       "      <td>Chef'Special</td>\n",
       "      <td>In Your Arms</td>\n",
       "      <td>215036</td>\n",
       "    </tr>\n",
       "    <tr>\n",
       "      <td>1</td>\n",
       "      <td>2019-07-26 12:30</td>\n",
       "      <td>CHANYEOL</td>\n",
       "      <td>Stay With Me</td>\n",
       "      <td>101170</td>\n",
       "    </tr>\n",
       "    <tr>\n",
       "      <td>2</td>\n",
       "      <td>2019-07-26 12:34</td>\n",
       "      <td>(G)I-DLE</td>\n",
       "      <td>Senorita</td>\n",
       "      <td>197616</td>\n",
       "    </tr>\n",
       "    <tr>\n",
       "      <td>3</td>\n",
       "      <td>2019-07-26 12:38</td>\n",
       "      <td>BLACKPINK</td>\n",
       "      <td>BOOMBAYAH</td>\n",
       "      <td>240848</td>\n",
       "    </tr>\n",
       "    <tr>\n",
       "      <td>4</td>\n",
       "      <td>2019-07-26 12:40</td>\n",
       "      <td>EXID</td>\n",
       "      <td>Up &amp; Down</td>\n",
       "      <td>145539</td>\n",
       "    </tr>\n",
       "  </tbody>\n",
       "</table>\n",
       "</div>"
      ],
      "text/plain": [
       "            endTime    artistName     trackName  msPlayed\n",
       "0  2018-03-17 04:30  Chef'Special  In Your Arms    215036\n",
       "1  2019-07-26 12:30      CHANYEOL  Stay With Me    101170\n",
       "2  2019-07-26 12:34      (G)I-DLE      Senorita    197616\n",
       "3  2019-07-26 12:38     BLACKPINK     BOOMBAYAH    240848\n",
       "4  2019-07-26 12:40          EXID     Up & Down    145539"
      ]
     },
     "execution_count": 5,
     "metadata": {},
     "output_type": "execute_result"
    }
   ],
   "source": [
    "## convert to dataframe\n",
    "df = pd.DataFrame(song_data)\n",
    "df.head()"
   ]
  },
  {
   "cell_type": "code",
   "execution_count": 6,
   "metadata": {},
   "outputs": [],
   "source": [
    "## get track id of first search result of artist + song title\n",
    "def get_id(artist, name):\n",
    "    query = artist + \" \" + name\n",
    "    result = sp.search(q=query, limit=1)\n",
    "    tmp = \"\"\n",
    "    for i, t in enumerate(result['tracks']['items']):\n",
    "        tmp = t[\"id\"]\n",
    "    return(tmp)\n",
    "\n",
    "df[\"id\"] = df.apply(lambda x: get_id(x[\"artistName\"], x[\"trackName\"],), axis=1)"
   ]
  },
  {
   "cell_type": "code",
   "execution_count": 7,
   "metadata": {},
   "outputs": [
    {
     "data": {
      "text/html": [
       "<div>\n",
       "<style scoped>\n",
       "    .dataframe tbody tr th:only-of-type {\n",
       "        vertical-align: middle;\n",
       "    }\n",
       "\n",
       "    .dataframe tbody tr th {\n",
       "        vertical-align: top;\n",
       "    }\n",
       "\n",
       "    .dataframe thead th {\n",
       "        text-align: right;\n",
       "    }\n",
       "</style>\n",
       "<table border=\"1\" class=\"dataframe\">\n",
       "  <thead>\n",
       "    <tr style=\"text-align: right;\">\n",
       "      <th></th>\n",
       "      <th>endTime</th>\n",
       "      <th>artistName</th>\n",
       "      <th>trackName</th>\n",
       "      <th>msPlayed</th>\n",
       "      <th>id</th>\n",
       "    </tr>\n",
       "  </thead>\n",
       "  <tbody>\n",
       "    <tr>\n",
       "      <td>0</td>\n",
       "      <td>2018-03-17 04:30</td>\n",
       "      <td>Chef'Special</td>\n",
       "      <td>In Your Arms</td>\n",
       "      <td>215036</td>\n",
       "      <td>3wJmcmAh2YAfDSKQR8o1XS</td>\n",
       "    </tr>\n",
       "    <tr>\n",
       "      <td>1</td>\n",
       "      <td>2019-07-26 12:30</td>\n",
       "      <td>CHANYEOL</td>\n",
       "      <td>Stay With Me</td>\n",
       "      <td>101170</td>\n",
       "      <td>1POlsQls16ppLPVmr4FGLt</td>\n",
       "    </tr>\n",
       "    <tr>\n",
       "      <td>2</td>\n",
       "      <td>2019-07-26 12:34</td>\n",
       "      <td>(G)I-DLE</td>\n",
       "      <td>Senorita</td>\n",
       "      <td>197616</td>\n",
       "      <td>0q6boCcLaWYPIy2vOsksFg</td>\n",
       "    </tr>\n",
       "    <tr>\n",
       "      <td>3</td>\n",
       "      <td>2019-07-26 12:38</td>\n",
       "      <td>BLACKPINK</td>\n",
       "      <td>BOOMBAYAH</td>\n",
       "      <td>240848</td>\n",
       "      <td>3yHQKddM8SVCRnuPSo3HPN</td>\n",
       "    </tr>\n",
       "    <tr>\n",
       "      <td>4</td>\n",
       "      <td>2019-07-26 12:40</td>\n",
       "      <td>EXID</td>\n",
       "      <td>Up &amp; Down</td>\n",
       "      <td>145539</td>\n",
       "      <td>6BKOhvRPY54uvfqWwg7MKi</td>\n",
       "    </tr>\n",
       "  </tbody>\n",
       "</table>\n",
       "</div>"
      ],
      "text/plain": [
       "            endTime    artistName     trackName  msPlayed  \\\n",
       "0  2018-03-17 04:30  Chef'Special  In Your Arms    215036   \n",
       "1  2019-07-26 12:30      CHANYEOL  Stay With Me    101170   \n",
       "2  2019-07-26 12:34      (G)I-DLE      Senorita    197616   \n",
       "3  2019-07-26 12:38     BLACKPINK     BOOMBAYAH    240848   \n",
       "4  2019-07-26 12:40          EXID     Up & Down    145539   \n",
       "\n",
       "                       id  \n",
       "0  3wJmcmAh2YAfDSKQR8o1XS  \n",
       "1  1POlsQls16ppLPVmr4FGLt  \n",
       "2  0q6boCcLaWYPIy2vOsksFg  \n",
       "3  3yHQKddM8SVCRnuPSo3HPN  \n",
       "4  6BKOhvRPY54uvfqWwg7MKi  "
      ]
     },
     "execution_count": 7,
     "metadata": {},
     "output_type": "execute_result"
    }
   ],
   "source": [
    "df.head()"
   ]
  },
  {
   "cell_type": "code",
   "execution_count": 8,
   "metadata": {},
   "outputs": [],
   "source": [
    "## get features for each track\n",
    "features_df = pd.DataFrame(columns=[\"song_id\",\"energy\", \"BPM\", \"speechiness\", \"acousticness\", \n",
    "                                    \"instrumentalness\",\"danceability\", \"duration_ms\",\"valence\"])\n",
    "ids = list(df[\"id\"].unique())\n",
    "\n",
    "for song in ids:\n",
    "    features = sp.audio_features(tracks = [song])[0]\n",
    "    if features is not None:\n",
    "        features_df = features_df.append({\"song_id\":song,\n",
    "                                          \"energy\":features['energy'], \n",
    "                                          \"BPM\":features['tempo'],\n",
    "                                          \"speechiness\":features['speechiness'],\n",
    "                                          \"acousticness\":features['acousticness'],\n",
    "                                          \"instrumentalness\":features['instrumentalness'],\n",
    "                                          \"danceability\":features['danceability'],\n",
    "                                          \"duration_ms\":features['duration_ms'],\n",
    "                                          \"valence\":features['valence'],\n",
    "                                         },ignore_index=True)\n",
    "    else:\n",
    "        pass"
   ]
  },
  {
   "cell_type": "code",
   "execution_count": 9,
   "metadata": {},
   "outputs": [
    {
     "data": {
      "text/html": [
       "<div>\n",
       "<style scoped>\n",
       "    .dataframe tbody tr th:only-of-type {\n",
       "        vertical-align: middle;\n",
       "    }\n",
       "\n",
       "    .dataframe tbody tr th {\n",
       "        vertical-align: top;\n",
       "    }\n",
       "\n",
       "    .dataframe thead th {\n",
       "        text-align: right;\n",
       "    }\n",
       "</style>\n",
       "<table border=\"1\" class=\"dataframe\">\n",
       "  <thead>\n",
       "    <tr style=\"text-align: right;\">\n",
       "      <th></th>\n",
       "      <th>endTime</th>\n",
       "      <th>artistName</th>\n",
       "      <th>trackName</th>\n",
       "      <th>msPlayed</th>\n",
       "      <th>id</th>\n",
       "      <th>song_id</th>\n",
       "      <th>energy</th>\n",
       "      <th>BPM</th>\n",
       "      <th>speechiness</th>\n",
       "      <th>acousticness</th>\n",
       "      <th>instrumentalness</th>\n",
       "      <th>danceability</th>\n",
       "      <th>duration_ms</th>\n",
       "      <th>valence</th>\n",
       "    </tr>\n",
       "  </thead>\n",
       "  <tbody>\n",
       "    <tr>\n",
       "      <td>0</td>\n",
       "      <td>2018-03-17 04:30</td>\n",
       "      <td>Chef'Special</td>\n",
       "      <td>In Your Arms</td>\n",
       "      <td>215036</td>\n",
       "      <td>3wJmcmAh2YAfDSKQR8o1XS</td>\n",
       "      <td>3wJmcmAh2YAfDSKQR8o1XS</td>\n",
       "      <td>0.406</td>\n",
       "      <td>92.964</td>\n",
       "      <td>0.0501</td>\n",
       "      <td>0.64600</td>\n",
       "      <td>0.000013</td>\n",
       "      <td>0.669</td>\n",
       "      <td>215269</td>\n",
       "      <td>0.362</td>\n",
       "    </tr>\n",
       "    <tr>\n",
       "      <td>1</td>\n",
       "      <td>2019-07-26 12:30</td>\n",
       "      <td>CHANYEOL</td>\n",
       "      <td>Stay With Me</td>\n",
       "      <td>101170</td>\n",
       "      <td>1POlsQls16ppLPVmr4FGLt</td>\n",
       "      <td>1POlsQls16ppLPVmr4FGLt</td>\n",
       "      <td>0.526</td>\n",
       "      <td>78.643</td>\n",
       "      <td>0.0484</td>\n",
       "      <td>0.42800</td>\n",
       "      <td>0.000000</td>\n",
       "      <td>0.314</td>\n",
       "      <td>192441</td>\n",
       "      <td>0.195</td>\n",
       "    </tr>\n",
       "    <tr>\n",
       "      <td>2</td>\n",
       "      <td>2019-07-26 12:34</td>\n",
       "      <td>(G)I-DLE</td>\n",
       "      <td>Senorita</td>\n",
       "      <td>197616</td>\n",
       "      <td>0q6boCcLaWYPIy2vOsksFg</td>\n",
       "      <td>0q6boCcLaWYPIy2vOsksFg</td>\n",
       "      <td>0.808</td>\n",
       "      <td>120.021</td>\n",
       "      <td>0.0362</td>\n",
       "      <td>0.01590</td>\n",
       "      <td>0.000043</td>\n",
       "      <td>0.782</td>\n",
       "      <td>197616</td>\n",
       "      <td>0.420</td>\n",
       "    </tr>\n",
       "    <tr>\n",
       "      <td>3</td>\n",
       "      <td>2019-07-26 12:38</td>\n",
       "      <td>BLACKPINK</td>\n",
       "      <td>BOOMBAYAH</td>\n",
       "      <td>240848</td>\n",
       "      <td>3yHQKddM8SVCRnuPSo3HPN</td>\n",
       "      <td>3yHQKddM8SVCRnuPSo3HPN</td>\n",
       "      <td>0.836</td>\n",
       "      <td>124.969</td>\n",
       "      <td>0.0549</td>\n",
       "      <td>0.00264</td>\n",
       "      <td>0.000001</td>\n",
       "      <td>0.658</td>\n",
       "      <td>240849</td>\n",
       "      <td>0.387</td>\n",
       "    </tr>\n",
       "    <tr>\n",
       "      <td>4</td>\n",
       "      <td>2019-07-26 12:40</td>\n",
       "      <td>EXID</td>\n",
       "      <td>Up &amp; Down</td>\n",
       "      <td>145539</td>\n",
       "      <td>6BKOhvRPY54uvfqWwg7MKi</td>\n",
       "      <td>6BKOhvRPY54uvfqWwg7MKi</td>\n",
       "      <td>0.812</td>\n",
       "      <td>112.018</td>\n",
       "      <td>0.0351</td>\n",
       "      <td>0.00189</td>\n",
       "      <td>0.000002</td>\n",
       "      <td>0.714</td>\n",
       "      <td>189882</td>\n",
       "      <td>0.377</td>\n",
       "    </tr>\n",
       "  </tbody>\n",
       "</table>\n",
       "</div>"
      ],
      "text/plain": [
       "            endTime    artistName     trackName  msPlayed  \\\n",
       "0  2018-03-17 04:30  Chef'Special  In Your Arms    215036   \n",
       "1  2019-07-26 12:30      CHANYEOL  Stay With Me    101170   \n",
       "2  2019-07-26 12:34      (G)I-DLE      Senorita    197616   \n",
       "3  2019-07-26 12:38     BLACKPINK     BOOMBAYAH    240848   \n",
       "4  2019-07-26 12:40          EXID     Up & Down    145539   \n",
       "\n",
       "                       id                 song_id  energy      BPM  \\\n",
       "0  3wJmcmAh2YAfDSKQR8o1XS  3wJmcmAh2YAfDSKQR8o1XS   0.406   92.964   \n",
       "1  1POlsQls16ppLPVmr4FGLt  1POlsQls16ppLPVmr4FGLt   0.526   78.643   \n",
       "2  0q6boCcLaWYPIy2vOsksFg  0q6boCcLaWYPIy2vOsksFg   0.808  120.021   \n",
       "3  3yHQKddM8SVCRnuPSo3HPN  3yHQKddM8SVCRnuPSo3HPN   0.836  124.969   \n",
       "4  6BKOhvRPY54uvfqWwg7MKi  6BKOhvRPY54uvfqWwg7MKi   0.812  112.018   \n",
       "\n",
       "   speechiness  acousticness  instrumentalness  danceability duration_ms  \\\n",
       "0       0.0501       0.64600          0.000013         0.669      215269   \n",
       "1       0.0484       0.42800          0.000000         0.314      192441   \n",
       "2       0.0362       0.01590          0.000043         0.782      197616   \n",
       "3       0.0549       0.00264          0.000001         0.658      240849   \n",
       "4       0.0351       0.00189          0.000002         0.714      189882   \n",
       "\n",
       "   valence  \n",
       "0    0.362  \n",
       "1    0.195  \n",
       "2    0.420  \n",
       "3    0.387  \n",
       "4    0.377  "
      ]
     },
     "execution_count": 9,
     "metadata": {},
     "output_type": "execute_result"
    }
   ],
   "source": [
    "## merge tracks with their features\n",
    "streaming_df = pd.merge(df, features_df, how=\"left\", left_on= \"id\", right_on=\"song_id\")\n",
    "streaming_df.head()"
   ]
  },
  {
   "cell_type": "markdown",
   "metadata": {},
   "source": [
    "### Playlists"
   ]
  },
  {
   "cell_type": "code",
   "execution_count": 10,
   "metadata": {
    "scrolled": true
   },
   "outputs": [
    {
     "data": {
      "text/html": [
       "<div>\n",
       "<style scoped>\n",
       "    .dataframe tbody tr th:only-of-type {\n",
       "        vertical-align: middle;\n",
       "    }\n",
       "\n",
       "    .dataframe tbody tr th {\n",
       "        vertical-align: top;\n",
       "    }\n",
       "\n",
       "    .dataframe thead th {\n",
       "        text-align: right;\n",
       "    }\n",
       "</style>\n",
       "<table border=\"1\" class=\"dataframe\">\n",
       "  <thead>\n",
       "    <tr style=\"text-align: right;\">\n",
       "      <th></th>\n",
       "      <th>id</th>\n",
       "      <th>name</th>\n",
       "    </tr>\n",
       "  </thead>\n",
       "  <tbody>\n",
       "    <tr>\n",
       "      <td>0</td>\n",
       "      <td>09N2ntwDDNljUVqiXcS1YH</td>\n",
       "      <td>Master of None</td>\n",
       "    </tr>\n",
       "    <tr>\n",
       "      <td>1</td>\n",
       "      <td>1SSjgKxeONpYwGGJZFo8jp</td>\n",
       "      <td>Berkeley</td>\n",
       "    </tr>\n",
       "    <tr>\n",
       "      <td>2</td>\n",
       "      <td>4kW2n5dQ0MMPvlD9BSXZKS</td>\n",
       "      <td>In The Mood For Love</td>\n",
       "    </tr>\n",
       "    <tr>\n",
       "      <td>3</td>\n",
       "      <td>0T3ng7unoRlcvkIrlVhj71</td>\n",
       "      <td>K-Pop Bops</td>\n",
       "    </tr>\n",
       "    <tr>\n",
       "      <td>4</td>\n",
       "      <td>1bNqOL1HLAZVE41p99Wjk5</td>\n",
       "      <td>Limbo</td>\n",
       "    </tr>\n",
       "  </tbody>\n",
       "</table>\n",
       "</div>"
      ],
      "text/plain": [
       "                       id                  name\n",
       "0  09N2ntwDDNljUVqiXcS1YH        Master of None\n",
       "1  1SSjgKxeONpYwGGJZFo8jp              Berkeley\n",
       "2  4kW2n5dQ0MMPvlD9BSXZKS  In The Mood For Love\n",
       "3  0T3ng7unoRlcvkIrlVhj71            K-Pop Bops\n",
       "4  1bNqOL1HLAZVE41p99Wjk5                 Limbo"
      ]
     },
     "execution_count": 10,
     "metadata": {},
     "output_type": "execute_result"
    }
   ],
   "source": [
    "playlists = sp.user_playlists(\"zihanye96\")\n",
    "\n",
    "playlist_info =  pd.DataFrame(columns=[\"id\",\"name\"])\n",
    "\n",
    "while playlists:\n",
    "    for i, playlist in enumerate(playlists['items']): \n",
    "        playlist_id = playlist['id'] \n",
    "        name = playlist['name'] \n",
    "        playlist_info = playlist_info.append({'id': playlist_id, 'name': name}, ignore_index=True)\n",
    "    \n",
    "    if playlists['next']:\n",
    "        playlists = sp.next(playlists)\n",
    "    \n",
    "    else:\n",
    "        playlists = None\n",
    "\n",
    "playlist_info.head(5)"
   ]
  },
  {
   "cell_type": "code",
   "execution_count": 11,
   "metadata": {},
   "outputs": [],
   "source": [
    "playlist_tracks =  pd.DataFrame(columns=[\"playlist_id\", \"track_id\",\"trackName\", \"artistName\", \"popularity\"])\n",
    "\n",
    "\n",
    "for playlist_id in playlist_info[\"id\"]:\n",
    "    \n",
    "    tracks = sp.user_playlist_tracks(user = \"zihanye96\", playlist_id = playlist_id, fields = \"items\")\n",
    "    items = tracks[\"items\"]\n",
    "    for item in items:\n",
    "        playlist_tracks = playlist_tracks.append({\"playlist_id\" : playlist_id,\n",
    "                                           \"track_id\":item['track']['id'],\n",
    "                                           \"trackName\":item['track']['name'],\n",
    "                                           \"artistName\":item['track']['artists'][0]['name'],\n",
    "                                           \"popularity\": item['track']['popularity']\n",
    "                                          }, ignore_index=True)"
   ]
  },
  {
   "cell_type": "code",
   "execution_count": 12,
   "metadata": {
    "scrolled": true
   },
   "outputs": [
    {
     "data": {
      "text/html": [
       "<div>\n",
       "<style scoped>\n",
       "    .dataframe tbody tr th:only-of-type {\n",
       "        vertical-align: middle;\n",
       "    }\n",
       "\n",
       "    .dataframe tbody tr th {\n",
       "        vertical-align: top;\n",
       "    }\n",
       "\n",
       "    .dataframe thead th {\n",
       "        text-align: right;\n",
       "    }\n",
       "</style>\n",
       "<table border=\"1\" class=\"dataframe\">\n",
       "  <thead>\n",
       "    <tr style=\"text-align: right;\">\n",
       "      <th></th>\n",
       "      <th>playlist_id</th>\n",
       "      <th>track_id</th>\n",
       "      <th>trackName</th>\n",
       "      <th>artistName</th>\n",
       "      <th>popularity</th>\n",
       "    </tr>\n",
       "  </thead>\n",
       "  <tbody>\n",
       "    <tr>\n",
       "      <td>0</td>\n",
       "      <td>09N2ntwDDNljUVqiXcS1YH</td>\n",
       "      <td>06RXsjrMsJs91da6kpWxmI</td>\n",
       "      <td>房間 (電影《超時空同居》插曲)</td>\n",
       "      <td>劉瑞琦</td>\n",
       "      <td>58</td>\n",
       "    </tr>\n",
       "    <tr>\n",
       "      <td>1</td>\n",
       "      <td>09N2ntwDDNljUVqiXcS1YH</td>\n",
       "      <td>5qS5oI1cz7Jj8Z5U6d4mNU</td>\n",
       "      <td>Take It One Day at a Time (Acoustic)</td>\n",
       "      <td>Jennifer Chung</td>\n",
       "      <td>30</td>\n",
       "    </tr>\n",
       "    <tr>\n",
       "      <td>2</td>\n",
       "      <td>09N2ntwDDNljUVqiXcS1YH</td>\n",
       "      <td>6XkGoC4BvoCyJfyc5RXiHM</td>\n",
       "      <td>不是因為天氣晴朗才愛你</td>\n",
       "      <td>理想混蛋</td>\n",
       "      <td>39</td>\n",
       "    </tr>\n",
       "    <tr>\n",
       "      <td>3</td>\n",
       "      <td>09N2ntwDDNljUVqiXcS1YH</td>\n",
       "      <td>1L2nKKbjV9Zn2SUuTIoXn6</td>\n",
       "      <td>东西</td>\n",
       "      <td>林俊呈</td>\n",
       "      <td>40</td>\n",
       "    </tr>\n",
       "    <tr>\n",
       "      <td>4</td>\n",
       "      <td>09N2ntwDDNljUVqiXcS1YH</td>\n",
       "      <td>683i1XBgGd0rApQypI9QLp</td>\n",
       "      <td>You &amp; Me Song - Acoustic</td>\n",
       "      <td>The Macarons Project</td>\n",
       "      <td>38</td>\n",
       "    </tr>\n",
       "  </tbody>\n",
       "</table>\n",
       "</div>"
      ],
      "text/plain": [
       "              playlist_id                track_id  \\\n",
       "0  09N2ntwDDNljUVqiXcS1YH  06RXsjrMsJs91da6kpWxmI   \n",
       "1  09N2ntwDDNljUVqiXcS1YH  5qS5oI1cz7Jj8Z5U6d4mNU   \n",
       "2  09N2ntwDDNljUVqiXcS1YH  6XkGoC4BvoCyJfyc5RXiHM   \n",
       "3  09N2ntwDDNljUVqiXcS1YH  1L2nKKbjV9Zn2SUuTIoXn6   \n",
       "4  09N2ntwDDNljUVqiXcS1YH  683i1XBgGd0rApQypI9QLp   \n",
       "\n",
       "                              trackName            artistName popularity  \n",
       "0                      房間 (電影《超時空同居》插曲)                   劉瑞琦         58  \n",
       "1  Take It One Day at a Time (Acoustic)        Jennifer Chung         30  \n",
       "2                           不是因為天氣晴朗才愛你                  理想混蛋         39  \n",
       "3                                    东西                   林俊呈         40  \n",
       "4              You & Me Song - Acoustic  The Macarons Project         38  "
      ]
     },
     "execution_count": 12,
     "metadata": {},
     "output_type": "execute_result"
    }
   ],
   "source": [
    "playlist_tracks.head(5)"
   ]
  },
  {
   "cell_type": "code",
   "execution_count": 13,
   "metadata": {
    "scrolled": true
   },
   "outputs": [
    {
     "data": {
      "text/html": [
       "<div>\n",
       "<style scoped>\n",
       "    .dataframe tbody tr th:only-of-type {\n",
       "        vertical-align: middle;\n",
       "    }\n",
       "\n",
       "    .dataframe tbody tr th {\n",
       "        vertical-align: top;\n",
       "    }\n",
       "\n",
       "    .dataframe thead th {\n",
       "        text-align: right;\n",
       "    }\n",
       "</style>\n",
       "<table border=\"1\" class=\"dataframe\">\n",
       "  <thead>\n",
       "    <tr style=\"text-align: right;\">\n",
       "      <th></th>\n",
       "      <th>playlist_id</th>\n",
       "      <th>track_id</th>\n",
       "      <th>trackName</th>\n",
       "      <th>artistName</th>\n",
       "      <th>popularity</th>\n",
       "    </tr>\n",
       "  </thead>\n",
       "  <tbody>\n",
       "    <tr>\n",
       "      <td>0</td>\n",
       "      <td>09N2ntwDDNljUVqiXcS1YH</td>\n",
       "      <td>06RXsjrMsJs91da6kpWxmI</td>\n",
       "      <td>房間 (電影《超時空同居》插曲)</td>\n",
       "      <td>劉瑞琦</td>\n",
       "      <td>58</td>\n",
       "    </tr>\n",
       "    <tr>\n",
       "      <td>1</td>\n",
       "      <td>09N2ntwDDNljUVqiXcS1YH</td>\n",
       "      <td>5qS5oI1cz7Jj8Z5U6d4mNU</td>\n",
       "      <td>Take It One Day at a Time (Acoustic)</td>\n",
       "      <td>Jennifer Chung</td>\n",
       "      <td>30</td>\n",
       "    </tr>\n",
       "    <tr>\n",
       "      <td>2</td>\n",
       "      <td>09N2ntwDDNljUVqiXcS1YH</td>\n",
       "      <td>6XkGoC4BvoCyJfyc5RXiHM</td>\n",
       "      <td>不是因為天氣晴朗才愛你</td>\n",
       "      <td>理想混蛋</td>\n",
       "      <td>39</td>\n",
       "    </tr>\n",
       "    <tr>\n",
       "      <td>3</td>\n",
       "      <td>09N2ntwDDNljUVqiXcS1YH</td>\n",
       "      <td>1L2nKKbjV9Zn2SUuTIoXn6</td>\n",
       "      <td>东西</td>\n",
       "      <td>林俊呈</td>\n",
       "      <td>40</td>\n",
       "    </tr>\n",
       "    <tr>\n",
       "      <td>4</td>\n",
       "      <td>09N2ntwDDNljUVqiXcS1YH</td>\n",
       "      <td>683i1XBgGd0rApQypI9QLp</td>\n",
       "      <td>You &amp; Me Song - Acoustic</td>\n",
       "      <td>The Macarons Project</td>\n",
       "      <td>38</td>\n",
       "    </tr>\n",
       "  </tbody>\n",
       "</table>\n",
       "</div>"
      ],
      "text/plain": [
       "              playlist_id                track_id  \\\n",
       "0  09N2ntwDDNljUVqiXcS1YH  06RXsjrMsJs91da6kpWxmI   \n",
       "1  09N2ntwDDNljUVqiXcS1YH  5qS5oI1cz7Jj8Z5U6d4mNU   \n",
       "2  09N2ntwDDNljUVqiXcS1YH  6XkGoC4BvoCyJfyc5RXiHM   \n",
       "3  09N2ntwDDNljUVqiXcS1YH  1L2nKKbjV9Zn2SUuTIoXn6   \n",
       "4  09N2ntwDDNljUVqiXcS1YH  683i1XBgGd0rApQypI9QLp   \n",
       "\n",
       "                              trackName            artistName popularity  \n",
       "0                      房間 (電影《超時空同居》插曲)                   劉瑞琦         58  \n",
       "1  Take It One Day at a Time (Acoustic)        Jennifer Chung         30  \n",
       "2                           不是因為天氣晴朗才愛你                  理想混蛋         39  \n",
       "3                                    东西                   林俊呈         40  \n",
       "4              You & Me Song - Acoustic  The Macarons Project         38  "
      ]
     },
     "execution_count": 13,
     "metadata": {},
     "output_type": "execute_result"
    }
   ],
   "source": [
    "mask = ~playlist_tracks[\"track_id\"].isnull()\n",
    "playlist_tracks = playlist_tracks[mask]\n",
    "playlist_tracks.head(5)"
   ]
  },
  {
   "cell_type": "code",
   "execution_count": 14,
   "metadata": {},
   "outputs": [],
   "source": [
    "## get features for each track\n",
    "features_df = pd.DataFrame(columns=[\"song_id\",\"energy\", \"BPM\", \"speechiness\", \"acousticness\", \n",
    "                                    \"instrumentalness\",\"danceability\", \"duration_ms\",\"valence\"])\n",
    "ids = list(playlist_tracks[\"track_id\"].unique())\n",
    "\n",
    "for song in ids:\n",
    "    features = sp.audio_features(tracks = [song])[0]\n",
    "    if features is not None:\n",
    "        features_df = features_df.append({\"song_id\":song,\n",
    "                                          \"energy\":features['energy'], \n",
    "                                          \"BPM\":features['tempo'],\n",
    "                                          \"speechiness\":features['speechiness'],\n",
    "                                          \"acousticness\":features['acousticness'],\n",
    "                                          \"instrumentalness\":features['instrumentalness'],\n",
    "                                          \"danceability\":features['danceability'],\n",
    "                                          \"duration_ms\":features['duration_ms'],\n",
    "                                          \"valence\":features['valence'],\n",
    "                                         },ignore_index=True)\n",
    "    else:\n",
    "        pass"
   ]
  },
  {
   "cell_type": "markdown",
   "metadata": {},
   "source": [
    "Now that we have a data frame containing playlist id and name, a data frame containing playlist id and song id for each song in a playlist, and a data frame containing the features of the songs, let's combine them into one dataframe."
   ]
  },
  {
   "cell_type": "code",
   "execution_count": 15,
   "metadata": {
    "scrolled": true
   },
   "outputs": [],
   "source": [
    "## join the data frames together and drop redundant columns\n",
    "playlist_df = playlist_info.merge(playlist_tracks, how=\"left\", left_on= \"id\", right_on=\"playlist_id\").merge(\n",
    "    features_df, how=\"left\", left_on= \"track_id\", right_on=\"song_id\")\n",
    "\n",
    "playlist_df.drop(columns=['id', 'song_id'], inplace=True)"
   ]
  },
  {
   "cell_type": "code",
   "execution_count": 16,
   "metadata": {
    "scrolled": true
   },
   "outputs": [
    {
     "data": {
      "text/html": [
       "<div>\n",
       "<style scoped>\n",
       "    .dataframe tbody tr th:only-of-type {\n",
       "        vertical-align: middle;\n",
       "    }\n",
       "\n",
       "    .dataframe tbody tr th {\n",
       "        vertical-align: top;\n",
       "    }\n",
       "\n",
       "    .dataframe thead th {\n",
       "        text-align: right;\n",
       "    }\n",
       "</style>\n",
       "<table border=\"1\" class=\"dataframe\">\n",
       "  <thead>\n",
       "    <tr style=\"text-align: right;\">\n",
       "      <th></th>\n",
       "      <th>name</th>\n",
       "      <th>playlist_id</th>\n",
       "      <th>track_id</th>\n",
       "      <th>trackName</th>\n",
       "      <th>artistName</th>\n",
       "      <th>popularity</th>\n",
       "      <th>energy</th>\n",
       "      <th>BPM</th>\n",
       "      <th>speechiness</th>\n",
       "      <th>acousticness</th>\n",
       "      <th>instrumentalness</th>\n",
       "      <th>danceability</th>\n",
       "      <th>duration_ms</th>\n",
       "      <th>valence</th>\n",
       "    </tr>\n",
       "  </thead>\n",
       "  <tbody>\n",
       "    <tr>\n",
       "      <td>0</td>\n",
       "      <td>Master of None</td>\n",
       "      <td>09N2ntwDDNljUVqiXcS1YH</td>\n",
       "      <td>06RXsjrMsJs91da6kpWxmI</td>\n",
       "      <td>房間 (電影《超時空同居》插曲)</td>\n",
       "      <td>劉瑞琦</td>\n",
       "      <td>58</td>\n",
       "      <td>0.440</td>\n",
       "      <td>129.643</td>\n",
       "      <td>0.0462</td>\n",
       "      <td>0.699</td>\n",
       "      <td>0</td>\n",
       "      <td>0.466</td>\n",
       "      <td>241905</td>\n",
       "      <td>0.318</td>\n",
       "    </tr>\n",
       "    <tr>\n",
       "      <td>1</td>\n",
       "      <td>Master of None</td>\n",
       "      <td>09N2ntwDDNljUVqiXcS1YH</td>\n",
       "      <td>5qS5oI1cz7Jj8Z5U6d4mNU</td>\n",
       "      <td>Take It One Day at a Time (Acoustic)</td>\n",
       "      <td>Jennifer Chung</td>\n",
       "      <td>30</td>\n",
       "      <td>0.139</td>\n",
       "      <td>80.036</td>\n",
       "      <td>0.0370</td>\n",
       "      <td>0.940</td>\n",
       "      <td>2.25e-06</td>\n",
       "      <td>0.393</td>\n",
       "      <td>385024</td>\n",
       "      <td>0.253</td>\n",
       "    </tr>\n",
       "    <tr>\n",
       "      <td>2</td>\n",
       "      <td>Master of None</td>\n",
       "      <td>09N2ntwDDNljUVqiXcS1YH</td>\n",
       "      <td>6XkGoC4BvoCyJfyc5RXiHM</td>\n",
       "      <td>不是因為天氣晴朗才愛你</td>\n",
       "      <td>理想混蛋</td>\n",
       "      <td>39</td>\n",
       "      <td>0.271</td>\n",
       "      <td>135.781</td>\n",
       "      <td>0.0347</td>\n",
       "      <td>0.753</td>\n",
       "      <td>1.23e-06</td>\n",
       "      <td>0.506</td>\n",
       "      <td>240754</td>\n",
       "      <td>0.399</td>\n",
       "    </tr>\n",
       "    <tr>\n",
       "      <td>3</td>\n",
       "      <td>Master of None</td>\n",
       "      <td>09N2ntwDDNljUVqiXcS1YH</td>\n",
       "      <td>1L2nKKbjV9Zn2SUuTIoXn6</td>\n",
       "      <td>东西</td>\n",
       "      <td>林俊呈</td>\n",
       "      <td>40</td>\n",
       "      <td>0.458</td>\n",
       "      <td>167.987</td>\n",
       "      <td>0.0301</td>\n",
       "      <td>0.379</td>\n",
       "      <td>0</td>\n",
       "      <td>0.676</td>\n",
       "      <td>162363</td>\n",
       "      <td>0.817</td>\n",
       "    </tr>\n",
       "    <tr>\n",
       "      <td>4</td>\n",
       "      <td>Master of None</td>\n",
       "      <td>09N2ntwDDNljUVqiXcS1YH</td>\n",
       "      <td>683i1XBgGd0rApQypI9QLp</td>\n",
       "      <td>You &amp; Me Song - Acoustic</td>\n",
       "      <td>The Macarons Project</td>\n",
       "      <td>38</td>\n",
       "      <td>0.105</td>\n",
       "      <td>109.477</td>\n",
       "      <td>0.0365</td>\n",
       "      <td>0.882</td>\n",
       "      <td>6.65e-05</td>\n",
       "      <td>0.587</td>\n",
       "      <td>170007</td>\n",
       "      <td>0.337</td>\n",
       "    </tr>\n",
       "  </tbody>\n",
       "</table>\n",
       "</div>"
      ],
      "text/plain": [
       "             name             playlist_id                track_id  \\\n",
       "0  Master of None  09N2ntwDDNljUVqiXcS1YH  06RXsjrMsJs91da6kpWxmI   \n",
       "1  Master of None  09N2ntwDDNljUVqiXcS1YH  5qS5oI1cz7Jj8Z5U6d4mNU   \n",
       "2  Master of None  09N2ntwDDNljUVqiXcS1YH  6XkGoC4BvoCyJfyc5RXiHM   \n",
       "3  Master of None  09N2ntwDDNljUVqiXcS1YH  1L2nKKbjV9Zn2SUuTIoXn6   \n",
       "4  Master of None  09N2ntwDDNljUVqiXcS1YH  683i1XBgGd0rApQypI9QLp   \n",
       "\n",
       "                              trackName            artistName popularity  \\\n",
       "0                      房間 (電影《超時空同居》插曲)                   劉瑞琦         58   \n",
       "1  Take It One Day at a Time (Acoustic)        Jennifer Chung         30   \n",
       "2                           不是因為天氣晴朗才愛你                  理想混蛋         39   \n",
       "3                                    东西                   林俊呈         40   \n",
       "4              You & Me Song - Acoustic  The Macarons Project         38   \n",
       "\n",
       "   energy      BPM  speechiness  acousticness instrumentalness  danceability  \\\n",
       "0   0.440  129.643       0.0462         0.699                0         0.466   \n",
       "1   0.139   80.036       0.0370         0.940         2.25e-06         0.393   \n",
       "2   0.271  135.781       0.0347         0.753         1.23e-06         0.506   \n",
       "3   0.458  167.987       0.0301         0.379                0         0.676   \n",
       "4   0.105  109.477       0.0365         0.882         6.65e-05         0.587   \n",
       "\n",
       "  duration_ms  valence  \n",
       "0      241905    0.318  \n",
       "1      385024    0.253  \n",
       "2      240754    0.399  \n",
       "3      162363    0.817  \n",
       "4      170007    0.337  "
      ]
     },
     "execution_count": 16,
     "metadata": {},
     "output_type": "execute_result"
    }
   ],
   "source": [
    "playlist_df.head(5)"
   ]
  },
  {
   "cell_type": "markdown",
   "metadata": {},
   "source": [
    "## Data Cleaning\n",
    "\n",
    "Overall, the data quality is very good, with very few missing values. Here are a few things that I'll do to the data frame with information on my streaming history: \n",
    "\n",
    "1. Delete any song that wasn't actually streamed (i.e. msPlayed = 0).\n",
    "2. Convert the feature \"msPlayed\" (milliseconds played) into minutes\n",
    "3. Convert the feature \"duration_ms\" (length of song in milliseconds) into minutes\n",
    "4. Convert the feature \"endTime\" (the timestamp when I stopped playing the song) into YYYY-MM-DD format, since I don't plan to do anything with the hour or second information.\n",
    "\n"
   ]
  },
  {
   "cell_type": "code",
   "execution_count": 17,
   "metadata": {},
   "outputs": [],
   "source": [
    "## there was a song from 2018 in my streaming history, so I deleted it to keep the time period to 2019-2020\n",
    "streaming_df = streaming_df.iloc[1:,]"
   ]
  },
  {
   "cell_type": "code",
   "execution_count": 18,
   "metadata": {},
   "outputs": [],
   "source": [
    "## delete entries where the song was skipped (i.e. msPlayed = 0)\n",
    "mask = streaming_df[\"msPlayed\"] != 0\n",
    "streaming_df = streaming_df[mask].reset_index()"
   ]
  },
  {
   "cell_type": "code",
   "execution_count": 19,
   "metadata": {},
   "outputs": [],
   "source": [
    "## convert ms to minutes\n",
    "streaming_df[\"minutesPlayed\"] = streaming_df[\"msPlayed\"]/60000\n",
    "streaming_df[\"duration_min\"] = streaming_df[\"duration_ms\"]/60000"
   ]
  },
  {
   "cell_type": "code",
   "execution_count": 20,
   "metadata": {},
   "outputs": [],
   "source": [
    "## get a feature representing the date that the song was played\n",
    "def get_date(date):\n",
    "    \n",
    "    date = datetime.strptime(date, '%Y-%m-%d %H:%M')\n",
    "    return date.strftime(\"%Y-%m-%d\")\n",
    "    \n",
    "streaming_df[\"datePlayed\"] = streaming_df[\"endTime\"].apply(get_date)"
   ]
  },
  {
   "cell_type": "code",
   "execution_count": 21,
   "metadata": {},
   "outputs": [],
   "source": [
    "## drop defunct/redundant columns\n",
    "streaming_df.drop(columns=['index', 'endTime', 'id', 'msPlayed', 'duration_ms'], inplace=True)"
   ]
  },
  {
   "cell_type": "code",
   "execution_count": 22,
   "metadata": {
    "scrolled": true
   },
   "outputs": [
    {
     "data": {
      "text/plain": [
       "count    5107.000000\n",
       "mean        1.953301\n",
       "std         1.711523\n",
       "min         0.000367\n",
       "25%         0.142667\n",
       "50%         1.958667\n",
       "75%         3.463733\n",
       "max        25.022567\n",
       "Name: minutesPlayed, dtype: float64"
      ]
     },
     "execution_count": 22,
     "metadata": {},
     "output_type": "execute_result"
    }
   ],
   "source": [
    "streaming_df[\"minutesPlayed\"].describe()"
   ]
  },
  {
   "cell_type": "markdown",
   "metadata": {},
   "source": [
    "For some reason, there's a song that was played for 25 minutes (I didn't know songs could be so long!). Let's keep the songs that were played for 0-8 minutes, since anything more than that would likely be an error."
   ]
  },
  {
   "cell_type": "code",
   "execution_count": 23,
   "metadata": {},
   "outputs": [],
   "source": [
    "mask = streaming_df[\"minutesPlayed\"] <= 8\n",
    "streaming_df = streaming_df[mask]"
   ]
  },
  {
   "cell_type": "code",
   "execution_count": 24,
   "metadata": {},
   "outputs": [],
   "source": [
    "## create a feature representing the month that the song was streamed\n",
    "streaming_df[\"month\"] = streaming_df['datePlayed'].apply(lambda x:x[:7])\n",
    "\n",
    "## transform \"dateplayed\" from string to datetime\n",
    "streaming_df[\"datePlayed\"] = streaming_df[\"datePlayed\"].apply(lambda x: datetime.strptime(x, '%Y-%m-%d'))\n"
   ]
  },
  {
   "cell_type": "code",
   "execution_count": 25,
   "metadata": {
    "scrolled": true
   },
   "outputs": [
    {
     "data": {
      "text/html": [
       "<div>\n",
       "<style scoped>\n",
       "    .dataframe tbody tr th:only-of-type {\n",
       "        vertical-align: middle;\n",
       "    }\n",
       "\n",
       "    .dataframe tbody tr th {\n",
       "        vertical-align: top;\n",
       "    }\n",
       "\n",
       "    .dataframe thead th {\n",
       "        text-align: right;\n",
       "    }\n",
       "</style>\n",
       "<table border=\"1\" class=\"dataframe\">\n",
       "  <thead>\n",
       "    <tr style=\"text-align: right;\">\n",
       "      <th></th>\n",
       "      <th>artistName</th>\n",
       "      <th>trackName</th>\n",
       "      <th>song_id</th>\n",
       "      <th>energy</th>\n",
       "      <th>BPM</th>\n",
       "      <th>speechiness</th>\n",
       "      <th>acousticness</th>\n",
       "      <th>instrumentalness</th>\n",
       "      <th>danceability</th>\n",
       "      <th>valence</th>\n",
       "      <th>minutesPlayed</th>\n",
       "      <th>duration_min</th>\n",
       "      <th>datePlayed</th>\n",
       "      <th>month</th>\n",
       "    </tr>\n",
       "  </thead>\n",
       "  <tbody>\n",
       "    <tr>\n",
       "      <td>0</td>\n",
       "      <td>CHANYEOL</td>\n",
       "      <td>Stay With Me</td>\n",
       "      <td>1POlsQls16ppLPVmr4FGLt</td>\n",
       "      <td>0.526</td>\n",
       "      <td>78.643</td>\n",
       "      <td>0.0484</td>\n",
       "      <td>0.42800</td>\n",
       "      <td>0.000000</td>\n",
       "      <td>0.314</td>\n",
       "      <td>0.195</td>\n",
       "      <td>1.686167</td>\n",
       "      <td>3.20735</td>\n",
       "      <td>2019-07-26</td>\n",
       "      <td>2019-07</td>\n",
       "    </tr>\n",
       "    <tr>\n",
       "      <td>1</td>\n",
       "      <td>(G)I-DLE</td>\n",
       "      <td>Senorita</td>\n",
       "      <td>0q6boCcLaWYPIy2vOsksFg</td>\n",
       "      <td>0.808</td>\n",
       "      <td>120.021</td>\n",
       "      <td>0.0362</td>\n",
       "      <td>0.01590</td>\n",
       "      <td>0.000043</td>\n",
       "      <td>0.782</td>\n",
       "      <td>0.420</td>\n",
       "      <td>3.293600</td>\n",
       "      <td>3.2936</td>\n",
       "      <td>2019-07-26</td>\n",
       "      <td>2019-07</td>\n",
       "    </tr>\n",
       "    <tr>\n",
       "      <td>2</td>\n",
       "      <td>BLACKPINK</td>\n",
       "      <td>BOOMBAYAH</td>\n",
       "      <td>3yHQKddM8SVCRnuPSo3HPN</td>\n",
       "      <td>0.836</td>\n",
       "      <td>124.969</td>\n",
       "      <td>0.0549</td>\n",
       "      <td>0.00264</td>\n",
       "      <td>0.000001</td>\n",
       "      <td>0.658</td>\n",
       "      <td>0.387</td>\n",
       "      <td>4.014133</td>\n",
       "      <td>4.01415</td>\n",
       "      <td>2019-07-26</td>\n",
       "      <td>2019-07</td>\n",
       "    </tr>\n",
       "    <tr>\n",
       "      <td>3</td>\n",
       "      <td>EXID</td>\n",
       "      <td>Up &amp; Down</td>\n",
       "      <td>6BKOhvRPY54uvfqWwg7MKi</td>\n",
       "      <td>0.812</td>\n",
       "      <td>112.018</td>\n",
       "      <td>0.0351</td>\n",
       "      <td>0.00189</td>\n",
       "      <td>0.000002</td>\n",
       "      <td>0.714</td>\n",
       "      <td>0.377</td>\n",
       "      <td>2.425650</td>\n",
       "      <td>3.1647</td>\n",
       "      <td>2019-07-26</td>\n",
       "      <td>2019-07</td>\n",
       "    </tr>\n",
       "    <tr>\n",
       "      <td>4</td>\n",
       "      <td>TWICE</td>\n",
       "      <td>YES or YES</td>\n",
       "      <td>0Ll92eLIHWY5gey1ISNMPi</td>\n",
       "      <td>0.913</td>\n",
       "      <td>137.982</td>\n",
       "      <td>0.0374</td>\n",
       "      <td>0.05140</td>\n",
       "      <td>0.000004</td>\n",
       "      <td>0.702</td>\n",
       "      <td>0.735</td>\n",
       "      <td>0.017733</td>\n",
       "      <td>3.96133</td>\n",
       "      <td>2019-07-26</td>\n",
       "      <td>2019-07</td>\n",
       "    </tr>\n",
       "  </tbody>\n",
       "</table>\n",
       "</div>"
      ],
      "text/plain": [
       "  artistName     trackName                 song_id  energy      BPM  \\\n",
       "0   CHANYEOL  Stay With Me  1POlsQls16ppLPVmr4FGLt   0.526   78.643   \n",
       "1   (G)I-DLE      Senorita  0q6boCcLaWYPIy2vOsksFg   0.808  120.021   \n",
       "2  BLACKPINK     BOOMBAYAH  3yHQKddM8SVCRnuPSo3HPN   0.836  124.969   \n",
       "3       EXID     Up & Down  6BKOhvRPY54uvfqWwg7MKi   0.812  112.018   \n",
       "4      TWICE    YES or YES  0Ll92eLIHWY5gey1ISNMPi   0.913  137.982   \n",
       "\n",
       "   speechiness  acousticness  instrumentalness  danceability  valence  \\\n",
       "0       0.0484       0.42800          0.000000         0.314    0.195   \n",
       "1       0.0362       0.01590          0.000043         0.782    0.420   \n",
       "2       0.0549       0.00264          0.000001         0.658    0.387   \n",
       "3       0.0351       0.00189          0.000002         0.714    0.377   \n",
       "4       0.0374       0.05140          0.000004         0.702    0.735   \n",
       "\n",
       "   minutesPlayed duration_min datePlayed    month  \n",
       "0       1.686167      3.20735 2019-07-26  2019-07  \n",
       "1       3.293600       3.2936 2019-07-26  2019-07  \n",
       "2       4.014133      4.01415 2019-07-26  2019-07  \n",
       "3       2.425650       3.1647 2019-07-26  2019-07  \n",
       "4       0.017733      3.96133 2019-07-26  2019-07  "
      ]
     },
     "execution_count": 25,
     "metadata": {},
     "output_type": "execute_result"
    }
   ],
   "source": [
    "streaming_df.head()"
   ]
  },
  {
   "cell_type": "markdown",
   "metadata": {},
   "source": [
    "For the playlist dataframe, the only thing I need to do is coerce the type of data from object to float for certain features."
   ]
  },
  {
   "cell_type": "code",
   "execution_count": 26,
   "metadata": {
    "scrolled": true
   },
   "outputs": [
    {
     "data": {
      "text/plain": [
       "name                 object\n",
       "playlist_id          object\n",
       "track_id             object\n",
       "trackName            object\n",
       "artistName           object\n",
       "popularity           object\n",
       "energy              float64\n",
       "BPM                 float64\n",
       "speechiness         float64\n",
       "acousticness        float64\n",
       "instrumentalness     object\n",
       "danceability        float64\n",
       "duration_ms          object\n",
       "valence             float64\n",
       "dtype: object"
      ]
     },
     "execution_count": 26,
     "metadata": {},
     "output_type": "execute_result"
    }
   ],
   "source": [
    "playlist_df.dtypes"
   ]
  },
  {
   "cell_type": "code",
   "execution_count": 27,
   "metadata": {},
   "outputs": [],
   "source": [
    "playlist_df[\"popularity\"] = playlist_df[\"popularity\"].apply(float)\n",
    "playlist_df[\"instrumentalness\"] = playlist_df[\"instrumentalness\"].apply(float)"
   ]
  },
  {
   "cell_type": "markdown",
   "metadata": {},
   "source": [
    "## Data Visualization\n",
    "\n",
    "Now that I have data frames for my streaming history and my playlists, let's visualize them and see if we can uncover patterns and answer some questions I had."
   ]
  },
  {
   "cell_type": "markdown",
   "metadata": {},
   "source": [
    "### Time Played for Songs I Streamed\n",
    "\n",
    "Is a Spotify subscription really worth it in my case? A big draw of using Spotify is its algorithm that recommends songs to me. So, to answer the question, I will break down the problem into two parts:\n",
    "\n",
    "1. Do I like the recommendations that I get?\n",
    "2. How often do I actually use Spotify?\n",
    "\n",
    "To answer the first question, I will use the variable \"minutesPlayed\" as a proxy. I usually skip over songs that I don't like, so if a song was recommended to me and I don't like it, I'll usually skip it."
   ]
  },
  {
   "cell_type": "code",
   "execution_count": 28,
   "metadata": {
    "scrolled": true
   },
   "outputs": [
    {
     "data": {
      "image/png": "[encoded data removed]",
      "text/plain": [
       "<Figure size 864x252 with 2 Axes>"
      ]
     },
     "metadata": {},
     "output_type": "display_data"
    }
   ],
   "source": [
    "plt.style.use('ggplot')\n",
    "fig, ax = plt.subplots(nrows=1, ncols=2, figsize = (12,3.5))\n",
    "ax[0].hist(streaming_df[\"minutesPlayed\"], color = \"lightcoral\")\n",
    "ax[0].set_xlabel('Time Played (Minutes)')\n",
    "ax[0].set_ylabel('Frequency')\n",
    "ax[0].set_title('Distribution of Time Played for Streamed Songs', fontsize=14)\n",
    "\n",
    "\n",
    "ax[1].hist(streaming_df[\"duration_min\"], color = \"plum\")\n",
    "ax[1].set_xlabel('Song Duration (Minutes)')\n",
    "ax[1].set_ylabel('Frequency')\n",
    "ax[1].set_title('Distribution of Song Durations');"
   ]
  },
  {
   "cell_type": "markdown",
   "metadata": {},
   "source": [
    "I'm actually quite surprised to see how different the distribution of minutes I streamed a song for is from the distribution of song durations. The latter is roughly normally distributed while the former is right skewed, which goes to show how often I skip over songs. Of the 5000 songs that I streamed in the past year, I listened to about 2000 of them for less than 30 seconds!"
   ]
  },
  {
   "cell_type": "code",
   "execution_count": 29,
   "metadata": {
    "scrolled": true
   },
   "outputs": [
    {
     "data": {
      "image/png": "[encoded data removed]",
      "text/plain": [
       "<Figure size 432x288 with 1 Axes>"
      ]
     },
     "metadata": {},
     "output_type": "display_data"
    }
   ],
   "source": [
    "## get the minutes played for songs I played for less than a minute\n",
    "mask = streaming_df[\"minutesPlayed\"]<=1\n",
    "tmp = streaming_df[\"minutesPlayed\"][mask]\n",
    "\n",
    "plt.hist(tmp, color = \"cornflowerblue\")\n",
    "plt.title(\"Distribution of Time Played (< 1 Minute)\")\n",
    "plt.xlabel('Time Played (Minutes)')\n",
    "plt.ylabel('Frequency');"
   ]
  },
  {
   "cell_type": "markdown",
   "metadata": {},
   "source": [
    "Looking just at the songs that I played for less than a minute, it appears that the vast majority of them were skipped after playing for less than 6 seconds! \n",
    "\n",
    "Perhaps I should reconsider my Spotify subscription! Skipping about 40% of the songs recommended sounds a bit high to me, and I dislike these recommendations so much that I usually decide to skip in the first 6 seconds of the song. That being said, I can be somewhat picky with music (as you can probably imagine), so it's most likely not the algorithm's fault."
   ]
  },
  {
   "cell_type": "markdown",
   "metadata": {},
   "source": [
    "### Changes in Usage and Mood Across Time\n",
    "\n",
    "There are two features I'm particularly interested in examining. In the aggregated data frame, I have the total monthly minutes played, as well as the average \"valence\" of the songs I played during that day. According to Spotify, valence is a feature that describes \"the musical positiveness conveyed by a track\". Valence ranges from 0-1, with 1 being more upbeat and 0 being more sad. By looking at valence over time, I can see how my mood changed throughout the past year."
   ]
  },
  {
   "cell_type": "code",
   "execution_count": 30,
   "metadata": {},
   "outputs": [],
   "source": [
    "## aggregate the data frame across months\n",
    "\n",
    "aggregate_df = streaming_df.groupby('month').agg({\n",
    "    'valence': [np.mean, np.std],\n",
    "    'minutesPlayed': np.sum\n",
    "        })\n",
    "\n",
    "## rename column names to the following format: feature_aggregate function\n",
    "aggregate_df.columns = ['_'.join(name) for name in aggregate_df.columns]\n",
    "aggregate_df.reset_index(inplace=True)"
   ]
  },
  {
   "cell_type": "code",
   "execution_count": 31,
   "metadata": {},
   "outputs": [
    {
     "data": {
      "text/html": [
       "<div>\n",
       "<style scoped>\n",
       "    .dataframe tbody tr th:only-of-type {\n",
       "        vertical-align: middle;\n",
       "    }\n",
       "\n",
       "    .dataframe tbody tr th {\n",
       "        vertical-align: top;\n",
       "    }\n",
       "\n",
       "    .dataframe thead th {\n",
       "        text-align: right;\n",
       "    }\n",
       "</style>\n",
       "<table border=\"1\" class=\"dataframe\">\n",
       "  <thead>\n",
       "    <tr style=\"text-align: right;\">\n",
       "      <th></th>\n",
       "      <th>month</th>\n",
       "      <th>valence_mean</th>\n",
       "      <th>valence_std</th>\n",
       "      <th>minutesPlayed_sum</th>\n",
       "    </tr>\n",
       "  </thead>\n",
       "  <tbody>\n",
       "    <tr>\n",
       "      <td>0</td>\n",
       "      <td>2019-07</td>\n",
       "      <td>0.554675</td>\n",
       "      <td>0.204698</td>\n",
       "      <td>410.583050</td>\n",
       "    </tr>\n",
       "    <tr>\n",
       "      <td>1</td>\n",
       "      <td>2019-08</td>\n",
       "      <td>0.554123</td>\n",
       "      <td>0.218243</td>\n",
       "      <td>1328.080417</td>\n",
       "    </tr>\n",
       "    <tr>\n",
       "      <td>2</td>\n",
       "      <td>2019-09</td>\n",
       "      <td>0.551948</td>\n",
       "      <td>0.189582</td>\n",
       "      <td>221.165317</td>\n",
       "    </tr>\n",
       "    <tr>\n",
       "      <td>3</td>\n",
       "      <td>2019-10</td>\n",
       "      <td>0.465154</td>\n",
       "      <td>0.204322</td>\n",
       "      <td>342.895350</td>\n",
       "    </tr>\n",
       "    <tr>\n",
       "      <td>4</td>\n",
       "      <td>2019-11</td>\n",
       "      <td>0.457863</td>\n",
       "      <td>0.225910</td>\n",
       "      <td>770.729583</td>\n",
       "    </tr>\n",
       "  </tbody>\n",
       "</table>\n",
       "</div>"
      ],
      "text/plain": [
       "     month  valence_mean  valence_std  minutesPlayed_sum\n",
       "0  2019-07      0.554675     0.204698         410.583050\n",
       "1  2019-08      0.554123     0.218243        1328.080417\n",
       "2  2019-09      0.551948     0.189582         221.165317\n",
       "3  2019-10      0.465154     0.204322         342.895350\n",
       "4  2019-11      0.457863     0.225910         770.729583"
      ]
     },
     "execution_count": 31,
     "metadata": {},
     "output_type": "execute_result"
    }
   ],
   "source": [
    "aggregate_df.head()"
   ]
  },
  {
   "cell_type": "code",
   "execution_count": 32,
   "metadata": {
    "scrolled": false
   },
   "outputs": [
    {
     "data": {
      "image/png": "[encoded data removed]",
      "text/plain": [
       "<Figure size 864x288 with 2 Axes>"
      ]
     },
     "metadata": {},
     "output_type": "display_data"
    }
   ],
   "source": [
    "mpl.rcParams['lines.linewidth'] = 4\n",
    "mpl.rcParams['lines.linestyle'] = '--'\n",
    "\n",
    "plt.style.use('ggplot')\n",
    "fig, ax = plt.subplots(nrows=1, ncols=2, figsize = (12,4))\n",
    "\n",
    "ax[0].plot(aggregate_df[\"month\"], aggregate_df[\"minutesPlayed_sum\"], color = \"lightcoral\")\n",
    "ax[0].set_xticklabels(labels = aggregate_df[\"month\"], rotation=40)\n",
    "ax[0].set_xlabel('Month')\n",
    "ax[0].set_ylabel('Time Played (Minutes)')\n",
    "ax[0].set_title('Total Monthly Minutes Streamed Across Time')\n",
    "\n",
    "ax[1].plot(aggregate_df[\"month\"], aggregate_df[\"valence_mean\"], color = \"dodgerblue\")\n",
    "ax[1].set_xticklabels(labels = aggregate_df[\"month\"], rotation=40)\n",
    "ax[1].set_xlabel('Month')\n",
    "ax[1].set_ylabel('Valence')\n",
    "ax[1].set_title('Average Monthly Valence Across Time');"
   ]
  },
  {
   "cell_type": "markdown",
   "metadata": {},
   "source": [
    "Looking at the plots above, I can better understand my Spotify usage and mood across the previous 12 months. To give some context, I was working up until mid-August 2019, and quit my job to start graduate school in early September. \n",
    "\n",
    "Understandably, I saw a huge spike in time spent listening to music on Spotify in August, when I quit my job and had more free time on my hands. Then, when I started my graduate program, I hit an all time low (I remember being very busy re-adjusting to student life) and gradually increased my usage throughout the fall semester as I became more well-adjusted. January was my winter break, so naturally there was a spike in usage there, too, and it steadily decreased all the way to present day. It looks like in an average month (where I'm not too busy or too free), I stream songs for about 10 hours, so at \\\\$10/month I'm only paying \\\\$1/hour for Spotify's services.\n",
    "\n",
    "The change in average monthly valence over time tells an interesting story. Clearly, my mood has been on a fairly steady decline over the past year. My mood was fairly positive from July to September, but I experienced a sharp drop in October (when the first wave of exams came around), and given how much Christmas music I listened to in December, I would have expected a much bigger uptick in December if it weren't for my final exams being around that time period too. There was another uptick in June (around the time I graduated from my program), but it was accompanied by a sharp drop once I started job searching!\n",
    "\n"
   ]
  },
  {
   "cell_type": "markdown",
   "metadata": {},
   "source": [
    "### How Much Do I Actually Use Spotify?\n",
    "\n",
    "To follow up on the total monthly minutes plot in the previous section, I'm curious to see if there are confounding factors that lead to misrepresentation of my Spotify usage. One possibility is that there are was simply an outlier during certain months (e.g. August, January) that drove up the entire month's total usage, while my usage was normal for the rest of the month."
   ]
  },
  {
   "cell_type": "code",
   "execution_count": 33,
   "metadata": {},
   "outputs": [],
   "source": [
    "aggregate_df = streaming_df.groupby('datePlayed').agg({'minutesPlayed': np.sum})\n",
    "events = pd.Series(aggregate_df[\"minutesPlayed\"])"
   ]
  },
  {
   "cell_type": "code",
   "execution_count": 34,
   "metadata": {
    "scrolled": true
   },
   "outputs": [
    {
     "data": {
      "image/png": "[encoded data removed]",
      "text/plain": [
       "<Figure size 864x432 with 3 Axes>"
      ]
     },
     "metadata": {},
     "output_type": "display_data"
    }
   ],
   "source": [
    "fig, ax = calmap.calendarplot(events, monthticks=1, daylabels='MTWTFSS', dayticks=[0, 2, 4, 6], \n",
    "                              cmap='YlOrRd', linewidth=1, fig_kws = {'figsize': (12, 6)})\n",
    "fig.suptitle('My Spotify Usage for the Past Year', fontsize=24)\n",
    "fig.colorbar(ax[0].get_children()[1], ax=ax.ravel().tolist(), orientation='horizontal');"
   ]
  },
  {
   "cell_type": "markdown",
   "metadata": {},
   "source": [
    "Looking at the resulting calendar heatmap, it appears that there weren't any particular days that drove up the entire month's usage. My Spotify usage in the past year was fairly uniform, while the months that had higher monthly usage (August, January) contained consistently higher usage across several days, not just one. This means that there weren't any outliers that led to misrepresentation of my Spotify usage in the previous section. \n"
   ]
  },
  {
   "cell_type": "markdown",
   "metadata": {},
   "source": [
    "### How Different Are My Playlists?\n",
    "\n",
    "I only have 8 playlists, but each of them falls into one of two categories: nostalgia and theme. \n",
    "\n",
    "1. Nostalgia: These playlists contain songs that I listened to frequently during a period of my life. For example, the playlist titled \"Berkeley\" contains the music that I listened to when I was at Berkeley. \n",
    "2. Theme: These playlists contain songs that fall into a certain theme. For example, the playlist titled \"Zero to Hero\" is my workout playlist and contain upbeat songs that I listen to during exercise. \n",
    "\n",
    "The playlists that fall under \"theme\" should definitely be very different in terms of music, but just how different are they in terms of the features that Spotify tracks? To do this, I will create radar charts for each playlist, based on 5 features: acousticness, valence, energy, danceability, and instrumentalness."
   ]
  },
  {
   "cell_type": "code",
   "execution_count": 35,
   "metadata": {},
   "outputs": [],
   "source": [
    "playlist_agg = playlist_df.groupby('name').agg({\n",
    "    'energy': np.mean,\n",
    "    'valence': np.mean,\n",
    "    'acousticness': np.mean,\n",
    "    'instrumentalness': np.mean,\n",
    "    'danceability': np.mean\n",
    "        })"
   ]
  },
  {
   "cell_type": "code",
   "execution_count": 36,
   "metadata": {},
   "outputs": [],
   "source": [
    "names = playlist_agg.index\n",
    "features = playlist_agg.columns\n",
    "layout = dict(radialaxis = dict(range=[0, 1], showticklabels=False, ticks=''))"
   ]
  },
  {
   "cell_type": "code",
   "execution_count": 37,
   "metadata": {
    "scrolled": true
   },
   "outputs": [
    {
     "data": {
      "application/vnd.plotly.v1+json": {
       "config": {
        "plotlyServerURL": "https://plot.ly"
       },
       "data": [
        {
         "fill": "toself",
         "r": [
          0.4279333333333334,
          0.30866666666666664,
          0.7036666666666667,
          2.237333333333333e-06,
          0.6
         ],
         "subplot": "polar",
         "theta": [
          "energy",
          "valence",
          "acousticness",
          "instrumentalness",
          "danceability"
         ],
         "type": "scatterpolar"
        },
        {
         "fill": "toself",
         "r": [
          0.3353333333333333,
          0.3124166666666667,
          0.6395,
          0.00813875,
          0.513
         ],
         "subplot": "polar2",
         "theta": [
          "energy",
          "valence",
          "acousticness",
          "instrumentalness",
          "danceability"
         ],
         "type": "scatterpolar"
        },
        {
         "fill": "toself",
         "r": [
          0.4079647058823529,
          0.3488117647058824,
          0.6410434705882354,
          0.0055970594117647045,
          0.47405882352941164
         ],
         "subplot": "polar3",
         "theta": [
          "energy",
          "valence",
          "acousticness",
          "instrumentalness",
          "danceability"
         ],
         "type": "scatterpolar"
        },
        {
         "fill": "toself",
         "r": [
          0.8310645161290322,
          0.6043870967741934,
          0.11957132258064514,
          0.0003955277419354839,
          0.7052580645161292
         ],
         "subplot": "polar4",
         "theta": [
          "energy",
          "valence",
          "acousticness",
          "instrumentalness",
          "danceability"
         ],
         "type": "scatterpolar"
        },
        {
         "fill": "toself",
         "r": [
          0.47406666666666664,
          0.4393333333333333,
          0.5185886666666667,
          4.7823333333333333e-05,
          0.5611333333333334
         ],
         "subplot": "polar5",
         "theta": [
          "energy",
          "valence",
          "acousticness",
          "instrumentalness",
          "danceability"
         ],
         "type": "scatterpolar"
        },
        {
         "fill": "toself",
         "r": [
          0.40484615384615374,
          0.40630769230769237,
          0.6083846153846154,
          8.513846153846154e-06,
          0.5423076923076923
         ],
         "subplot": "polar6",
         "theta": [
          "energy",
          "valence",
          "acousticness",
          "instrumentalness",
          "danceability"
         ],
         "type": "scatterpolar"
        },
        {
         "fill": "toself",
         "r": [
          0.77544,
          0.5174,
          0.20724280000000006,
          0.0392091268,
          0.6218
         ],
         "subplot": "polar7",
         "theta": [
          "energy",
          "valence",
          "acousticness",
          "instrumentalness",
          "danceability"
         ],
         "type": "scatterpolar"
        },
        {
         "fill": "toself",
         "r": [
          0.7737777777777778,
          0.585,
          0.062121111111111106,
          0.11474913555555553,
          0.7001111111111111
         ],
         "subplot": "polar8",
         "theta": [
          "energy",
          "valence",
          "acousticness",
          "instrumentalness",
          "danceability"
         ],
         "type": "scatterpolar"
        }
       ],
       "layout": {
        "annotations": [
         {
          "font": {
           "size": 16
          },
          "showarrow": false,
          "text": "Berkeley",
          "x": 0.0875,
          "xanchor": "center",
          "xref": "paper",
          "y": 1,
          "yanchor": "bottom",
          "yref": "paper"
         },
         {
          "font": {
           "size": 16
          },
          "showarrow": false,
          "text": "In The Mood For Love",
          "x": 0.36250000000000004,
          "xanchor": "center",
          "xref": "paper",
          "y": 1,
          "yanchor": "bottom",
          "yref": "paper"
         },
         {
          "font": {
           "size": 16
          },
          "showarrow": false,
          "text": "Just kidding, thank you",
          "x": 0.6375000000000001,
          "xanchor": "center",
          "xref": "paper",
          "y": 1,
          "yanchor": "bottom",
          "yref": "paper"
         },
         {
          "font": {
           "size": 16
          },
          "showarrow": false,
          "text": "K-Pop Bops",
          "x": 0.9125,
          "xanchor": "center",
          "xref": "paper",
          "y": 1,
          "yanchor": "bottom",
          "yref": "paper"
         },
         {
          "font": {
           "size": 16
          },
          "showarrow": false,
          "text": "Limbo",
          "x": 0.0875,
          "xanchor": "center",
          "xref": "paper",
          "y": 0.45,
          "yanchor": "bottom",
          "yref": "paper"
         },
         {
          "font": {
           "size": 16
          },
          "showarrow": false,
          "text": "Master of None",
          "x": 0.36250000000000004,
          "xanchor": "center",
          "xref": "paper",
          "y": 0.45,
          "yanchor": "bottom",
          "yref": "paper"
         },
         {
          "font": {
           "size": 16
          },
          "showarrow": false,
          "text": "Twice Will Never Love Me Back",
          "x": 0.6375000000000001,
          "xanchor": "center",
          "xref": "paper",
          "y": 0.45,
          "yanchor": "bottom",
          "yref": "paper"
         },
         {
          "font": {
           "size": 16
          },
          "showarrow": false,
          "text": "Zero to Hero",
          "x": 0.9125,
          "xanchor": "center",
          "xref": "paper",
          "y": 0.45,
          "yanchor": "bottom",
          "yref": "paper"
         }
        ],
        "height": 700,
        "polar": {
         "domain": {
          "x": [
           0,
           0.175
          ],
          "y": [
           0.55,
           1
          ]
         },
         "radialaxis": {
          "range": [
           0,
           1
          ],
          "showticklabels": false,
          "ticks": ""
         }
        },
        "polar2": {
         "domain": {
          "x": [
           0.275,
           0.45
          ],
          "y": [
           0.55,
           1
          ]
         },
         "radialaxis": {
          "range": [
           0,
           1
          ],
          "showticklabels": false,
          "ticks": ""
         }
        },
        "polar3": {
         "domain": {
          "x": [
           0.55,
           0.7250000000000001
          ],
          "y": [
           0.55,
           1
          ]
         },
         "radialaxis": {
          "range": [
           0,
           1
          ],
          "showticklabels": false,
          "ticks": ""
         }
        },
        "polar4": {
         "domain": {
          "x": [
           0.825,
           1
          ],
          "y": [
           0.55,
           1
          ]
         },
         "radialaxis": {
          "range": [
           0,
           1
          ],
          "showticklabels": false,
          "ticks": ""
         }
        },
        "polar5": {
         "domain": {
          "x": [
           0,
           0.175
          ],
          "y": [
           0,
           0.45
          ]
         },
         "radialaxis": {
          "range": [
           0,
           1
          ],
          "showticklabels": false,
          "ticks": ""
         }
        },
        "polar6": {
         "domain": {
          "x": [
           0.275,
           0.45
          ],
          "y": [
           0,
           0.45
          ]
         },
         "radialaxis": {
          "range": [
           0,
           1
          ],
          "showticklabels": false,
          "ticks": ""
         }
        },
        "polar7": {
         "domain": {
          "x": [
           0.55,
           0.7250000000000001
          ],
          "y": [
           0,
           0.45
          ]
         },
         "radialaxis": {
          "range": [
           0,
           1
          ],
          "showticklabels": false,
          "ticks": ""
         }
        },
        "polar8": {
         "domain": {
          "x": [
           0.825,
           1
          ],
          "y": [
           0,
           0.45
          ]
         },
         "radialaxis": {
          "range": [
           0,
           1
          ],
          "showticklabels": false,
          "ticks": ""
         }
        },
        "showlegend": false,
        "template": {
         "data": {
          "bar": [
           {
            "error_x": {
             "color": "#2a3f5f"
            },
            "error_y": {
             "color": "#2a3f5f"
            },
            "marker": {
             "line": {
              "color": "#E5ECF6",
              "width": 0.5
             }
            },
            "type": "bar"
           }
          ],
          "barpolar": [
           {
            "marker": {
             "line": {
              "color": "#E5ECF6",
              "width": 0.5
             }
            },
            "type": "barpolar"
           }
          ],
          "carpet": [
           {
            "aaxis": {
             "endlinecolor": "#2a3f5f",
             "gridcolor": "white",
             "linecolor": "white",
             "minorgridcolor": "white",
             "startlinecolor": "#2a3f5f"
            },
            "baxis": {
             "endlinecolor": "#2a3f5f",
             "gridcolor": "white",
             "linecolor": "white",
             "minorgridcolor": "white",
             "startlinecolor": "#2a3f5f"
            },
            "type": "carpet"
           }
          ],
          "choropleth": [
           {
            "colorbar": {
             "outlinewidth": 0,
             "ticks": ""
            },
            "type": "choropleth"
           }
          ],
          "contour": [
           {
            "colorbar": {
             "outlinewidth": 0,
             "ticks": ""
            },
            "colorscale": [
             [
              0,
              "#0d0887"
             ],
             [
              0.1111111111111111,
              "#46039f"
             ],
             [
              0.2222222222222222,
              "#7201a8"
             ],
             [
              0.3333333333333333,
              "#9c179e"
             ],
             [
              0.4444444444444444,
              "#bd3786"
             ],
             [
              0.5555555555555556,
              "#d8576b"
             ],
             [
              0.6666666666666666,
              "#ed7953"
             ],
             [
              0.7777777777777778,
              "#fb9f3a"
             ],
             [
              0.8888888888888888,
              "#fdca26"
             ],
             [
              1,
              "#f0f921"
             ]
            ],
            "type": "contour"
           }
          ],
          "contourcarpet": [
           {
            "colorbar": {
             "outlinewidth": 0,
             "ticks": ""
            },
            "type": "contourcarpet"
           }
          ],
          "heatmap": [
           {
            "colorbar": {
             "outlinewidth": 0,
             "ticks": ""
            },
            "colorscale": [
             [
              0,
              "#0d0887"
             ],
             [
              0.1111111111111111,
              "#46039f"
             ],
             [
              0.2222222222222222,
              "#7201a8"
             ],
             [
              0.3333333333333333,
              "#9c179e"
             ],
             [
              0.4444444444444444,
              "#bd3786"
             ],
             [
              0.5555555555555556,
              "#d8576b"
             ],
             [
              0.6666666666666666,
              "#ed7953"
             ],
             [
              0.7777777777777778,
              "#fb9f3a"
             ],
             [
              0.8888888888888888,
              "#fdca26"
             ],
             [
              1,
              "#f0f921"
             ]
            ],
            "type": "heatmap"
           }
          ],
          "heatmapgl": [
           {
            "colorbar": {
             "outlinewidth": 0,
             "ticks": ""
            },
            "colorscale": [
             [
              0,
              "#0d0887"
             ],
             [
              0.1111111111111111,
              "#46039f"
             ],
             [
              0.2222222222222222,
              "#7201a8"
             ],
             [
              0.3333333333333333,
              "#9c179e"
             ],
             [
              0.4444444444444444,
              "#bd3786"
             ],
             [
              0.5555555555555556,
              "#d8576b"
             ],
             [
              0.6666666666666666,
              "#ed7953"
             ],
             [
              0.7777777777777778,
              "#fb9f3a"
             ],
             [
              0.8888888888888888,
              "#fdca26"
             ],
             [
              1,
              "#f0f921"
             ]
            ],
            "type": "heatmapgl"
           }
          ],
          "histogram": [
           {
            "marker": {
             "colorbar": {
              "outlinewidth": 0,
              "ticks": ""
             }
            },
            "type": "histogram"
           }
          ],
          "histogram2d": [
           {
            "colorbar": {
             "outlinewidth": 0,
             "ticks": ""
            },
            "colorscale": [
             [
              0,
              "#0d0887"
             ],
             [
              0.1111111111111111,
              "#46039f"
             ],
             [
              0.2222222222222222,
              "#7201a8"
             ],
             [
              0.3333333333333333,
              "#9c179e"
             ],
             [
              0.4444444444444444,
              "#bd3786"
             ],
             [
              0.5555555555555556,
              "#d8576b"
             ],
             [
              0.6666666666666666,
              "#ed7953"
             ],
             [
              0.7777777777777778,
              "#fb9f3a"
             ],
             [
              0.8888888888888888,
              "#fdca26"
             ],
             [
              1,
              "#f0f921"
             ]
            ],
            "type": "histogram2d"
           }
          ],
          "histogram2dcontour": [
           {
            "colorbar": {
             "outlinewidth": 0,
             "ticks": ""
            },
            "colorscale": [
             [
              0,
              "#0d0887"
             ],
             [
              0.1111111111111111,
              "#46039f"
             ],
             [
              0.2222222222222222,
              "#7201a8"
             ],
             [
              0.3333333333333333,
              "#9c179e"
             ],
             [
              0.4444444444444444,
              "#bd3786"
             ],
             [
              0.5555555555555556,
              "#d8576b"
             ],
             [
              0.6666666666666666,
              "#ed7953"
             ],
             [
              0.7777777777777778,
              "#fb9f3a"
             ],
             [
              0.8888888888888888,
              "#fdca26"
             ],
             [
              1,
              "#f0f921"
             ]
            ],
            "type": "histogram2dcontour"
           }
          ],
          "mesh3d": [
           {
            "colorbar": {
             "outlinewidth": 0,
             "ticks": ""
            },
            "type": "mesh3d"
           }
          ],
          "parcoords": [
           {
            "line": {
             "colorbar": {
              "outlinewidth": 0,
              "ticks": ""
             }
            },
            "type": "parcoords"
           }
          ],
          "pie": [
           {
            "automargin": true,
            "type": "pie"
           }
          ],
          "scatter": [
           {
            "marker": {
             "colorbar": {
              "outlinewidth": 0,
              "ticks": ""
             }
            },
            "type": "scatter"
           }
          ],
          "scatter3d": [
           {
            "line": {
             "colorbar": {
              "outlinewidth": 0,
              "ticks": ""
             }
            },
            "marker": {
             "colorbar": {
              "outlinewidth": 0,
              "ticks": ""
             }
            },
            "type": "scatter3d"
           }
          ],
          "scattercarpet": [
           {
            "marker": {
             "colorbar": {
              "outlinewidth": 0,
              "ticks": ""
             }
            },
            "type": "scattercarpet"
           }
          ],
          "scattergeo": [
           {
            "marker": {
             "colorbar": {
              "outlinewidth": 0,
              "ticks": ""
             }
            },
            "type": "scattergeo"
           }
          ],
          "scattergl": [
           {
            "marker": {
             "colorbar": {
              "outlinewidth": 0,
              "ticks": ""
             }
            },
            "type": "scattergl"
           }
          ],
          "scattermapbox": [
           {
            "marker": {
             "colorbar": {
              "outlinewidth": 0,
              "ticks": ""
             }
            },
            "type": "scattermapbox"
           }
          ],
          "scatterpolar": [
           {
            "marker": {
             "colorbar": {
              "outlinewidth": 0,
              "ticks": ""
             }
            },
            "type": "scatterpolar"
           }
          ],
          "scatterpolargl": [
           {
            "marker": {
             "colorbar": {
              "outlinewidth": 0,
              "ticks": ""
             }
            },
            "type": "scatterpolargl"
           }
          ],
          "scatterternary": [
           {
            "marker": {
             "colorbar": {
              "outlinewidth": 0,
              "ticks": ""
             }
            },
            "type": "scatterternary"
           }
          ],
          "surface": [
           {
            "colorbar": {
             "outlinewidth": 0,
             "ticks": ""
            },
            "colorscale": [
             [
              0,
              "#0d0887"
             ],
             [
              0.1111111111111111,
              "#46039f"
             ],
             [
              0.2222222222222222,
              "#7201a8"
             ],
             [
              0.3333333333333333,
              "#9c179e"
             ],
             [
              0.4444444444444444,
              "#bd3786"
             ],
             [
              0.5555555555555556,
              "#d8576b"
             ],
             [
              0.6666666666666666,
              "#ed7953"
             ],
             [
              0.7777777777777778,
              "#fb9f3a"
             ],
             [
              0.8888888888888888,
              "#fdca26"
             ],
             [
              1,
              "#f0f921"
             ]
            ],
            "type": "surface"
           }
          ],
          "table": [
           {
            "cells": {
             "fill": {
              "color": "#EBF0F8"
             },
             "line": {
              "color": "white"
             }
            },
            "header": {
             "fill": {
              "color": "#C8D4E3"
             },
             "line": {
              "color": "white"
             }
            },
            "type": "table"
           }
          ]
         },
         "layout": {
          "annotationdefaults": {
           "arrowcolor": "#2a3f5f",
           "arrowhead": 0,
           "arrowwidth": 1
          },
          "coloraxis": {
           "colorbar": {
            "outlinewidth": 0,
            "ticks": ""
           }
          },
          "colorscale": {
           "diverging": [
            [
             0,
             "#8e0152"
            ],
            [
             0.1,
             "#c51b7d"
            ],
            [
             0.2,
             "#de77ae"
            ],
            [
             0.3,
             "#f1b6da"
            ],
            [
             0.4,
             "#fde0ef"
            ],
            [
             0.5,
             "#f7f7f7"
            ],
            [
             0.6,
             "#e6f5d0"
            ],
            [
             0.7,
             "#b8e186"
            ],
            [
             0.8,
             "#7fbc41"
            ],
            [
             0.9,
             "#4d9221"
            ],
            [
             1,
             "#276419"
            ]
           ],
           "sequential": [
            [
             0,
             "#0d0887"
            ],
            [
             0.1111111111111111,
             "#46039f"
            ],
            [
             0.2222222222222222,
             "#7201a8"
            ],
            [
             0.3333333333333333,
             "#9c179e"
            ],
            [
             0.4444444444444444,
             "#bd3786"
            ],
            [
             0.5555555555555556,
             "#d8576b"
            ],
            [
             0.6666666666666666,
             "#ed7953"
            ],
            [
             0.7777777777777778,
             "#fb9f3a"
            ],
            [
             0.8888888888888888,
             "#fdca26"
            ],
            [
             1,
             "#f0f921"
            ]
           ],
           "sequentialminus": [
            [
             0,
             "#0d0887"
            ],
            [
             0.1111111111111111,
             "#46039f"
            ],
            [
             0.2222222222222222,
             "#7201a8"
            ],
            [
             0.3333333333333333,
             "#9c179e"
            ],
            [
             0.4444444444444444,
             "#bd3786"
            ],
            [
             0.5555555555555556,
             "#d8576b"
            ],
            [
             0.6666666666666666,
             "#ed7953"
            ],
            [
             0.7777777777777778,
             "#fb9f3a"
            ],
            [
             0.8888888888888888,
             "#fdca26"
            ],
            [
             1,
             "#f0f921"
            ]
           ]
          },
          "colorway": [
           "#636efa",
           "#EF553B",
           "#00cc96",
           "#ab63fa",
           "#FFA15A",
           "#19d3f3",
           "#FF6692",
           "#B6E880",
           "#FF97FF",
           "#FECB52"
          ],
          "font": {
           "color": "#2a3f5f"
          },
          "geo": {
           "bgcolor": "white",
           "lakecolor": "white",
           "landcolor": "#E5ECF6",
           "showlakes": true,
           "showland": true,
           "subunitcolor": "white"
          },
          "hoverlabel": {
           "align": "left"
          },
          "hovermode": "closest",
          "mapbox": {
           "style": "light"
          },
          "paper_bgcolor": "white",
          "plot_bgcolor": "#E5ECF6",
          "polar": {
           "angularaxis": {
            "gridcolor": "white",
            "linecolor": "white",
            "ticks": ""
           },
           "bgcolor": "#E5ECF6",
           "radialaxis": {
            "gridcolor": "white",
            "linecolor": "white",
            "ticks": ""
           }
          },
          "scene": {
           "xaxis": {
            "backgroundcolor": "#E5ECF6",
            "gridcolor": "white",
            "gridwidth": 2,
            "linecolor": "white",
            "showbackground": true,
            "ticks": "",
            "zerolinecolor": "white"
           },
           "yaxis": {
            "backgroundcolor": "#E5ECF6",
            "gridcolor": "white",
            "gridwidth": 2,
            "linecolor": "white",
            "showbackground": true,
            "ticks": "",
            "zerolinecolor": "white"
           },
           "zaxis": {
            "backgroundcolor": "#E5ECF6",
            "gridcolor": "white",
            "gridwidth": 2,
            "linecolor": "white",
            "showbackground": true,
            "ticks": "",
            "zerolinecolor": "white"
           }
          },
          "shapedefaults": {
           "line": {
            "color": "#2a3f5f"
           }
          },
          "ternary": {
           "aaxis": {
            "gridcolor": "white",
            "linecolor": "white",
            "ticks": ""
           },
           "baxis": {
            "gridcolor": "white",
            "linecolor": "white",
            "ticks": ""
           },
           "bgcolor": "#E5ECF6",
           "caxis": {
            "gridcolor": "white",
            "linecolor": "white",
            "ticks": ""
           }
          },
          "title": {
           "x": 0.05
          },
          "xaxis": {
           "automargin": true,
           "gridcolor": "white",
           "linecolor": "white",
           "ticks": "",
           "title": {
            "standoff": 15
           },
           "zerolinecolor": "white",
           "zerolinewidth": 2
          },
          "yaxis": {
           "automargin": true,
           "gridcolor": "white",
           "linecolor": "white",
           "ticks": "",
           "title": {
            "standoff": 15
           },
           "zerolinecolor": "white",
           "zerolinewidth": 2
          }
         }
        },
        "title": {
         "text": "Playlist Radar Charts"
        },
        "width": 1300
       }
      },
      "text/html": [
       "<div>\n",
       "        \n",
       "        \n",
       "            <div id=\"ce1faee0-0314-44ad-ba09-9439e216de3f\" class=\"plotly-graph-div\" style=\"height:700px; width:1300px;\"></div>\n",
       "            <script type=\"text/javascript\">\n",
       "                require([\"plotly\"], function(Plotly) {\n",
       "                    window.PLOTLYENV=window.PLOTLYENV || {};\n",
       "                    \n",
       "                if (document.getElementById(\"ce1faee0-0314-44ad-ba09-9439e216de3f\")) {\n",
       "                    Plotly.newPlot(\n",
       "                        'ce1faee0-0314-44ad-ba09-9439e216de3f',\n",
       "                        [{\"fill\": \"toself\", \"r\": [0.4279333333333334, 0.30866666666666664, 0.7036666666666667, 2.237333333333333e-06, 0.6], \"subplot\": \"polar\", \"theta\": [\"energy\", \"valence\", \"acousticness\", \"instrumentalness\", \"danceability\"], \"type\": \"scatterpolar\"}, {\"fill\": \"toself\", \"r\": [0.3353333333333333, 0.3124166666666667, 0.6395, 0.00813875, 0.513], \"subplot\": \"polar2\", \"theta\": [\"energy\", \"valence\", \"acousticness\", \"instrumentalness\", \"danceability\"], \"type\": \"scatterpolar\"}, {\"fill\": \"toself\", \"r\": [0.4079647058823529, 0.3488117647058824, 0.6410434705882354, 0.0055970594117647045, 0.47405882352941164], \"subplot\": \"polar3\", \"theta\": [\"energy\", \"valence\", \"acousticness\", \"instrumentalness\", \"danceability\"], \"type\": \"scatterpolar\"}, {\"fill\": \"toself\", \"r\": [0.8310645161290322, 0.6043870967741934, 0.11957132258064514, 0.0003955277419354839, 0.7052580645161292], \"subplot\": \"polar4\", \"theta\": [\"energy\", \"valence\", \"acousticness\", \"instrumentalness\", \"danceability\"], \"type\": \"scatterpolar\"}, {\"fill\": \"toself\", \"r\": [0.47406666666666664, 0.4393333333333333, 0.5185886666666667, 4.7823333333333333e-05, 0.5611333333333334], \"subplot\": \"polar5\", \"theta\": [\"energy\", \"valence\", \"acousticness\", \"instrumentalness\", \"danceability\"], \"type\": \"scatterpolar\"}, {\"fill\": \"toself\", \"r\": [0.40484615384615374, 0.40630769230769237, 0.6083846153846154, 8.513846153846154e-06, 0.5423076923076923], \"subplot\": \"polar6\", \"theta\": [\"energy\", \"valence\", \"acousticness\", \"instrumentalness\", \"danceability\"], \"type\": \"scatterpolar\"}, {\"fill\": \"toself\", \"r\": [0.77544, 0.5174, 0.20724280000000006, 0.0392091268, 0.6218], \"subplot\": \"polar7\", \"theta\": [\"energy\", \"valence\", \"acousticness\", \"instrumentalness\", \"danceability\"], \"type\": \"scatterpolar\"}, {\"fill\": \"toself\", \"r\": [0.7737777777777778, 0.585, 0.062121111111111106, 0.11474913555555553, 0.7001111111111111], \"subplot\": \"polar8\", \"theta\": [\"energy\", \"valence\", \"acousticness\", \"instrumentalness\", \"danceability\"], \"type\": \"scatterpolar\"}],\n",
       "                        {\"annotations\": [{\"font\": {\"size\": 16}, \"showarrow\": false, \"text\": \"Berkeley\", \"x\": 0.0875, \"xanchor\": \"center\", \"xref\": \"paper\", \"y\": 1.0, \"yanchor\": \"bottom\", \"yref\": \"paper\"}, {\"font\": {\"size\": 16}, \"showarrow\": false, \"text\": \"In The Mood For Love\", \"x\": 0.36250000000000004, \"xanchor\": \"center\", \"xref\": \"paper\", \"y\": 1.0, \"yanchor\": \"bottom\", \"yref\": \"paper\"}, {\"font\": {\"size\": 16}, \"showarrow\": false, \"text\": \"Just kidding, thank you\", \"x\": 0.6375000000000001, \"xanchor\": \"center\", \"xref\": \"paper\", \"y\": 1.0, \"yanchor\": \"bottom\", \"yref\": \"paper\"}, {\"font\": {\"size\": 16}, \"showarrow\": false, \"text\": \"K-Pop Bops\", \"x\": 0.9125, \"xanchor\": \"center\", \"xref\": \"paper\", \"y\": 1.0, \"yanchor\": \"bottom\", \"yref\": \"paper\"}, {\"font\": {\"size\": 16}, \"showarrow\": false, \"text\": \"Limbo\", \"x\": 0.0875, \"xanchor\": \"center\", \"xref\": \"paper\", \"y\": 0.45, \"yanchor\": \"bottom\", \"yref\": \"paper\"}, {\"font\": {\"size\": 16}, \"showarrow\": false, \"text\": \"Master of None\", \"x\": 0.36250000000000004, \"xanchor\": \"center\", \"xref\": \"paper\", \"y\": 0.45, \"yanchor\": \"bottom\", \"yref\": \"paper\"}, {\"font\": {\"size\": 16}, \"showarrow\": false, \"text\": \"Twice Will Never Love Me Back\", \"x\": 0.6375000000000001, \"xanchor\": \"center\", \"xref\": \"paper\", \"y\": 0.45, \"yanchor\": \"bottom\", \"yref\": \"paper\"}, {\"font\": {\"size\": 16}, \"showarrow\": false, \"text\": \"Zero to Hero\", \"x\": 0.9125, \"xanchor\": \"center\", \"xref\": \"paper\", \"y\": 0.45, \"yanchor\": \"bottom\", \"yref\": \"paper\"}], \"height\": 700, \"polar\": {\"domain\": {\"x\": [0.0, 0.175], \"y\": [0.55, 1.0]}, \"radialaxis\": {\"range\": [0, 1], \"showticklabels\": false, \"ticks\": \"\"}}, \"polar2\": {\"domain\": {\"x\": [0.275, 0.45], \"y\": [0.55, 1.0]}, \"radialaxis\": {\"range\": [0, 1], \"showticklabels\": false, \"ticks\": \"\"}}, \"polar3\": {\"domain\": {\"x\": [0.55, 0.7250000000000001], \"y\": [0.55, 1.0]}, \"radialaxis\": {\"range\": [0, 1], \"showticklabels\": false, \"ticks\": \"\"}}, \"polar4\": {\"domain\": {\"x\": [0.825, 1.0], \"y\": [0.55, 1.0]}, \"radialaxis\": {\"range\": [0, 1], \"showticklabels\": false, \"ticks\": \"\"}}, \"polar5\": {\"domain\": {\"x\": [0.0, 0.175], \"y\": [0.0, 0.45]}, \"radialaxis\": {\"range\": [0, 1], \"showticklabels\": false, \"ticks\": \"\"}}, \"polar6\": {\"domain\": {\"x\": [0.275, 0.45], \"y\": [0.0, 0.45]}, \"radialaxis\": {\"range\": [0, 1], \"showticklabels\": false, \"ticks\": \"\"}}, \"polar7\": {\"domain\": {\"x\": [0.55, 0.7250000000000001], \"y\": [0.0, 0.45]}, \"radialaxis\": {\"range\": [0, 1], \"showticklabels\": false, \"ticks\": \"\"}}, \"polar8\": {\"domain\": {\"x\": [0.825, 1.0], \"y\": [0.0, 0.45]}, \"radialaxis\": {\"range\": [0, 1], \"showticklabels\": false, \"ticks\": \"\"}}, \"showlegend\": false, \"template\": {\"data\": {\"bar\": [{\"error_x\": {\"color\": \"#2a3f5f\"}, \"error_y\": {\"color\": \"#2a3f5f\"}, \"marker\": {\"line\": {\"color\": \"#E5ECF6\", \"width\": 0.5}}, \"type\": \"bar\"}], \"barpolar\": [{\"marker\": {\"line\": {\"color\": \"#E5ECF6\", \"width\": 0.5}}, \"type\": \"barpolar\"}], \"carpet\": [{\"aaxis\": {\"endlinecolor\": \"#2a3f5f\", \"gridcolor\": \"white\", \"linecolor\": \"white\", \"minorgridcolor\": \"white\", \"startlinecolor\": \"#2a3f5f\"}, \"baxis\": {\"endlinecolor\": \"#2a3f5f\", \"gridcolor\": \"white\", \"linecolor\": \"white\", \"minorgridcolor\": \"white\", \"startlinecolor\": \"#2a3f5f\"}, \"type\": \"carpet\"}], \"choropleth\": [{\"colorbar\": {\"outlinewidth\": 0, \"ticks\": \"\"}, \"type\": \"choropleth\"}], \"contour\": [{\"colorbar\": {\"outlinewidth\": 0, \"ticks\": \"\"}, \"colorscale\": [[0.0, \"#0d0887\"], [0.1111111111111111, \"#46039f\"], [0.2222222222222222, \"#7201a8\"], [0.3333333333333333, \"#9c179e\"], [0.4444444444444444, \"#bd3786\"], [0.5555555555555556, \"#d8576b\"], [0.6666666666666666, \"#ed7953\"], [0.7777777777777778, \"#fb9f3a\"], [0.8888888888888888, \"#fdca26\"], [1.0, \"#f0f921\"]], \"type\": \"contour\"}], \"contourcarpet\": [{\"colorbar\": {\"outlinewidth\": 0, \"ticks\": \"\"}, \"type\": \"contourcarpet\"}], \"heatmap\": [{\"colorbar\": {\"outlinewidth\": 0, \"ticks\": \"\"}, \"colorscale\": [[0.0, \"#0d0887\"], [0.1111111111111111, \"#46039f\"], [0.2222222222222222, \"#7201a8\"], [0.3333333333333333, \"#9c179e\"], [0.4444444444444444, \"#bd3786\"], [0.5555555555555556, \"#d8576b\"], [0.6666666666666666, \"#ed7953\"], [0.7777777777777778, \"#fb9f3a\"], [0.8888888888888888, \"#fdca26\"], [1.0, \"#f0f921\"]], \"type\": \"heatmap\"}], \"heatmapgl\": [{\"colorbar\": {\"outlinewidth\": 0, \"ticks\": \"\"}, \"colorscale\": [[0.0, \"#0d0887\"], [0.1111111111111111, \"#46039f\"], [0.2222222222222222, \"#7201a8\"], [0.3333333333333333, \"#9c179e\"], [0.4444444444444444, \"#bd3786\"], [0.5555555555555556, \"#d8576b\"], [0.6666666666666666, \"#ed7953\"], [0.7777777777777778, \"#fb9f3a\"], [0.8888888888888888, \"#fdca26\"], [1.0, \"#f0f921\"]], \"type\": \"heatmapgl\"}], \"histogram\": [{\"marker\": {\"colorbar\": {\"outlinewidth\": 0, \"ticks\": \"\"}}, \"type\": \"histogram\"}], \"histogram2d\": [{\"colorbar\": {\"outlinewidth\": 0, \"ticks\": \"\"}, \"colorscale\": [[0.0, \"#0d0887\"], [0.1111111111111111, \"#46039f\"], [0.2222222222222222, \"#7201a8\"], [0.3333333333333333, \"#9c179e\"], [0.4444444444444444, \"#bd3786\"], [0.5555555555555556, \"#d8576b\"], [0.6666666666666666, \"#ed7953\"], [0.7777777777777778, \"#fb9f3a\"], [0.8888888888888888, \"#fdca26\"], [1.0, \"#f0f921\"]], \"type\": \"histogram2d\"}], \"histogram2dcontour\": [{\"colorbar\": {\"outlinewidth\": 0, \"ticks\": \"\"}, \"colorscale\": [[0.0, \"#0d0887\"], [0.1111111111111111, \"#46039f\"], [0.2222222222222222, \"#7201a8\"], [0.3333333333333333, \"#9c179e\"], [0.4444444444444444, \"#bd3786\"], [0.5555555555555556, \"#d8576b\"], [0.6666666666666666, \"#ed7953\"], [0.7777777777777778, \"#fb9f3a\"], [0.8888888888888888, \"#fdca26\"], [1.0, \"#f0f921\"]], \"type\": \"histogram2dcontour\"}], \"mesh3d\": [{\"colorbar\": {\"outlinewidth\": 0, \"ticks\": \"\"}, \"type\": \"mesh3d\"}], \"parcoords\": [{\"line\": {\"colorbar\": {\"outlinewidth\": 0, \"ticks\": \"\"}}, \"type\": \"parcoords\"}], \"pie\": [{\"automargin\": true, \"type\": \"pie\"}], \"scatter\": [{\"marker\": {\"colorbar\": {\"outlinewidth\": 0, \"ticks\": \"\"}}, \"type\": \"scatter\"}], \"scatter3d\": [{\"line\": {\"colorbar\": {\"outlinewidth\": 0, \"ticks\": \"\"}}, \"marker\": {\"colorbar\": {\"outlinewidth\": 0, \"ticks\": \"\"}}, \"type\": \"scatter3d\"}], \"scattercarpet\": [{\"marker\": {\"colorbar\": {\"outlinewidth\": 0, \"ticks\": \"\"}}, \"type\": \"scattercarpet\"}], \"scattergeo\": [{\"marker\": {\"colorbar\": {\"outlinewidth\": 0, \"ticks\": \"\"}}, \"type\": \"scattergeo\"}], \"scattergl\": [{\"marker\": {\"colorbar\": {\"outlinewidth\": 0, \"ticks\": \"\"}}, \"type\": \"scattergl\"}], \"scattermapbox\": [{\"marker\": {\"colorbar\": {\"outlinewidth\": 0, \"ticks\": \"\"}}, \"type\": \"scattermapbox\"}], \"scatterpolar\": [{\"marker\": {\"colorbar\": {\"outlinewidth\": 0, \"ticks\": \"\"}}, \"type\": \"scatterpolar\"}], \"scatterpolargl\": [{\"marker\": {\"colorbar\": {\"outlinewidth\": 0, \"ticks\": \"\"}}, \"type\": \"scatterpolargl\"}], \"scatterternary\": [{\"marker\": {\"colorbar\": {\"outlinewidth\": 0, \"ticks\": \"\"}}, \"type\": \"scatterternary\"}], \"surface\": [{\"colorbar\": {\"outlinewidth\": 0, \"ticks\": \"\"}, \"colorscale\": [[0.0, \"#0d0887\"], [0.1111111111111111, \"#46039f\"], [0.2222222222222222, \"#7201a8\"], [0.3333333333333333, \"#9c179e\"], [0.4444444444444444, \"#bd3786\"], [0.5555555555555556, \"#d8576b\"], [0.6666666666666666, \"#ed7953\"], [0.7777777777777778, \"#fb9f3a\"], [0.8888888888888888, \"#fdca26\"], [1.0, \"#f0f921\"]], \"type\": \"surface\"}], \"table\": [{\"cells\": {\"fill\": {\"color\": \"#EBF0F8\"}, \"line\": {\"color\": \"white\"}}, \"header\": {\"fill\": {\"color\": \"#C8D4E3\"}, \"line\": {\"color\": \"white\"}}, \"type\": \"table\"}]}, \"layout\": {\"annotationdefaults\": {\"arrowcolor\": \"#2a3f5f\", \"arrowhead\": 0, \"arrowwidth\": 1}, \"coloraxis\": {\"colorbar\": {\"outlinewidth\": 0, \"ticks\": \"\"}}, \"colorscale\": {\"diverging\": [[0, \"#8e0152\"], [0.1, \"#c51b7d\"], [0.2, \"#de77ae\"], [0.3, \"#f1b6da\"], [0.4, \"#fde0ef\"], [0.5, \"#f7f7f7\"], [0.6, \"#e6f5d0\"], [0.7, \"#b8e186\"], [0.8, \"#7fbc41\"], [0.9, \"#4d9221\"], [1, \"#276419\"]], \"sequential\": [[0.0, \"#0d0887\"], [0.1111111111111111, \"#46039f\"], [0.2222222222222222, \"#7201a8\"], [0.3333333333333333, \"#9c179e\"], [0.4444444444444444, \"#bd3786\"], [0.5555555555555556, \"#d8576b\"], [0.6666666666666666, \"#ed7953\"], [0.7777777777777778, \"#fb9f3a\"], [0.8888888888888888, \"#fdca26\"], [1.0, \"#f0f921\"]], \"sequentialminus\": [[0.0, \"#0d0887\"], [0.1111111111111111, \"#46039f\"], [0.2222222222222222, \"#7201a8\"], [0.3333333333333333, \"#9c179e\"], [0.4444444444444444, \"#bd3786\"], [0.5555555555555556, \"#d8576b\"], [0.6666666666666666, \"#ed7953\"], [0.7777777777777778, \"#fb9f3a\"], [0.8888888888888888, \"#fdca26\"], [1.0, \"#f0f921\"]]}, \"colorway\": [\"#636efa\", \"#EF553B\", \"#00cc96\", \"#ab63fa\", \"#FFA15A\", \"#19d3f3\", \"#FF6692\", \"#B6E880\", \"#FF97FF\", \"#FECB52\"], \"font\": {\"color\": \"#2a3f5f\"}, \"geo\": {\"bgcolor\": \"white\", \"lakecolor\": \"white\", \"landcolor\": \"#E5ECF6\", \"showlakes\": true, \"showland\": true, \"subunitcolor\": \"white\"}, \"hoverlabel\": {\"align\": \"left\"}, \"hovermode\": \"closest\", \"mapbox\": {\"style\": \"light\"}, \"paper_bgcolor\": \"white\", \"plot_bgcolor\": \"#E5ECF6\", \"polar\": {\"angularaxis\": {\"gridcolor\": \"white\", \"linecolor\": \"white\", \"ticks\": \"\"}, \"bgcolor\": \"#E5ECF6\", \"radialaxis\": {\"gridcolor\": \"white\", \"linecolor\": \"white\", \"ticks\": \"\"}}, \"scene\": {\"xaxis\": {\"backgroundcolor\": \"#E5ECF6\", \"gridcolor\": \"white\", \"gridwidth\": 2, \"linecolor\": \"white\", \"showbackground\": true, \"ticks\": \"\", \"zerolinecolor\": \"white\"}, \"yaxis\": {\"backgroundcolor\": \"#E5ECF6\", \"gridcolor\": \"white\", \"gridwidth\": 2, \"linecolor\": \"white\", \"showbackground\": true, \"ticks\": \"\", \"zerolinecolor\": \"white\"}, \"zaxis\": {\"backgroundcolor\": \"#E5ECF6\", \"gridcolor\": \"white\", \"gridwidth\": 2, \"linecolor\": \"white\", \"showbackground\": true, \"ticks\": \"\", \"zerolinecolor\": \"white\"}}, \"shapedefaults\": {\"line\": {\"color\": \"#2a3f5f\"}}, \"ternary\": {\"aaxis\": {\"gridcolor\": \"white\", \"linecolor\": \"white\", \"ticks\": \"\"}, \"baxis\": {\"gridcolor\": \"white\", \"linecolor\": \"white\", \"ticks\": \"\"}, \"bgcolor\": \"#E5ECF6\", \"caxis\": {\"gridcolor\": \"white\", \"linecolor\": \"white\", \"ticks\": \"\"}}, \"title\": {\"x\": 0.05}, \"xaxis\": {\"automargin\": true, \"gridcolor\": \"white\", \"linecolor\": \"white\", \"ticks\": \"\", \"title\": {\"standoff\": 15}, \"zerolinecolor\": \"white\", \"zerolinewidth\": 2}, \"yaxis\": {\"automargin\": true, \"gridcolor\": \"white\", \"linecolor\": \"white\", \"ticks\": \"\", \"title\": {\"standoff\": 15}, \"zerolinecolor\": \"white\", \"zerolinewidth\": 2}}}, \"title\": {\"text\": \"Playlist Radar Charts\"}, \"width\": 1300},\n",
       "                        {\"responsive\": true}\n",
       "                    ).then(function(){\n",
       "                            \n",
       "var gd = document.getElementById('ce1faee0-0314-44ad-ba09-9439e216de3f');\n",
       "var x = new MutationObserver(function (mutations, observer) {{\n",
       "        var display = window.getComputedStyle(gd).display;\n",
       "        if (!display || display === 'none') {{\n",
       "            console.log([gd, 'removed!']);\n",
       "            Plotly.purge(gd);\n",
       "            observer.disconnect();\n",
       "        }}\n",
       "}});\n",
       "\n",
       "// Listen for the removal of the full notebook cells\n",
       "var notebookContainer = gd.closest('#notebook-container');\n",
       "if (notebookContainer) {{\n",
       "    x.observe(notebookContainer, {childList: true});\n",
       "}}\n",
       "\n",
       "// Listen for the clearing of the current output cell\n",
       "var outputEl = gd.closest('.output');\n",
       "if (outputEl) {{\n",
       "    x.observe(outputEl, {childList: true});\n",
       "}}\n",
       "\n",
       "                        })\n",
       "                };\n",
       "                });\n",
       "            </script>\n",
       "        </div>"
      ]
     },
     "metadata": {},
     "output_type": "display_data"
    }
   ],
   "source": [
    "fig = make_subplots(rows=2, cols=4, subplot_titles=(names),\n",
    "                    specs=[[{\"type\": \"scatterpolar\"}]*4, [{\"type\": \"scatterpolar\"}]*4],\n",
    "                    horizontal_spacing=0.1, vertical_spacing = 0.1)\n",
    "\n",
    "fig.add_trace(\n",
    "    go.Scatterpolar(r = playlist_agg.loc[names[0],:], theta = features, fill='toself'),\n",
    "    row=1, col=1\n",
    ")\n",
    "\n",
    "fig.add_trace(\n",
    "    go.Scatterpolar(r = playlist_agg.loc[names[1],:], theta = features, fill='toself'),\n",
    "    row=1, col=2\n",
    ")\n",
    "\n",
    "fig.add_trace(\n",
    "    go.Scatterpolar(r = playlist_agg.loc[names[2],:], theta = features, fill='toself'),\n",
    "    row=1, col=3\n",
    ")\n",
    "\n",
    "fig.add_trace(\n",
    "    go.Scatterpolar(r = playlist_agg.loc[names[3],:], theta = features, fill='toself'),\n",
    "    row=1, col=4\n",
    ")\n",
    "\n",
    "fig.add_trace(\n",
    "    go.Scatterpolar(r = playlist_agg.loc[names[4],:], theta = features, fill='toself'),\n",
    "    row=2, col=1\n",
    ")\n",
    "\n",
    "fig.add_trace(\n",
    "    go.Scatterpolar(r = playlist_agg.loc[names[5],:], theta = features, fill='toself'),\n",
    "    row=2, col=2\n",
    ")\n",
    "\n",
    "fig.add_trace(\n",
    "    go.Scatterpolar(r = playlist_agg.loc[names[6],:], theta = features, fill='toself'),\n",
    "    row=2, col=3\n",
    ")\n",
    "\n",
    "fig.add_trace(\n",
    "    go.Scatterpolar(r = playlist_agg.loc[names[7],:], theta = features, fill='toself'),\n",
    "    row=2, col=4\n",
    ")\n",
    "\n",
    "fig.update_layout(height=700, width=1300, title_text=\"Playlist Radar Charts\", showlegend=False,\n",
    "                 polar = layout, polar2 = layout, polar3 = layout, polar4 = layout, polar5 = layout, \n",
    "                 polar6 = layout, polar7 = layout, polar8 = layout)\n",
    "\n",
    "fig.show()"
   ]
  },
  {
   "cell_type": "markdown",
   "metadata": {},
   "source": [
    "Surprisingly, all of my \"nostalgia\" playlists follow the same general shape! They don't contain many instrumental (i.e. no lyrics) music, have low valence and energy, are highly acoustic, and have medium danceability. This means that throughout the years, my tastes in music have stayed consistent!\n",
    "\n",
    "Similarly, my \"theme\" playlists follow the same shape. For context, the playlist \"K-pop bops\" contains Korean pop music and the playlist \"Zero to Hero\" contains workout music. These playlists tend to be high energy, highly danceable, have medium valence, and low acousticness and instrumentalness. This is to be expected, since these are the playlists that I listen to during long drives and tough workouts!\n"
   ]
  },
  {
   "cell_type": "markdown",
   "metadata": {},
   "source": [
    "## Bonus: Using Machine Learning to Generate Recommendations\n",
    "Since I noticed I didn't like most of the songs that were recommended to me and that the music that I save to my playlists tend to have the same traits on average, I'll try to build my own model to figure out which songs I'll like. I'd like to try out more Spotify-generated playlists, so I will find a playlist I'm interested in listening to, get a list of all the songs in that playlist along with all of their features, and use a machine learning model to predict whether or not I'd like a given song."
   ]
  },
  {
   "cell_type": "markdown",
   "metadata": {},
   "source": [
    "### Setting Up\n",
    "\n",
    "First, I will generate a dataset using the two data frames created earlier. The target variable will be called \"target\", and will take a value of 1 if I like the song and a value of 0 if I don't. Since all the songs in my playlists are the songs that I love, and the songs that I streamed and weren't in my playlists are songs that I didn't love, I can assign all the songs in the playlist dataframe a target value of 1 and all other songs a value of 0. \n",
    "\n",
    "Next, I will generate a dataframe of all the songs in a playlist I'm interested in along with all the features (from the API) for each song. In the end, I will give this data frame to the model and the model will predict whether or not I will like any of the songs in the data frame."
   ]
  },
  {
   "cell_type": "code",
   "execution_count": 38,
   "metadata": {},
   "outputs": [],
   "source": [
    "## a df of songs that I liked enough to save to playlist\n",
    "liked_songs = playlist_df[[\"track_id\", \"trackName\", \"artistName\", \"energy\", \"BPM\", \"speechiness\", \"acousticness\", \n",
    "                          \"instrumentalness\",\"danceability\", \"duration_ms\",\"valence\"]].copy()\n",
    "liked_songs[\"target\"] = 1\n",
    "\n",
    "\n",
    "## a df of songs I streamed but didn't save to playlist\n",
    "other_songs = streaming_df[[\"song_id\", \"trackName\", \"artistName\", \"energy\", \"BPM\", \"speechiness\", \"acousticness\", \n",
    "                            \"instrumentalness\",\"danceability\", \"duration_min\",\"valence\"]].copy()\n",
    "other_songs[\"target\"] = 0"
   ]
  },
  {
   "cell_type": "code",
   "execution_count": 39,
   "metadata": {},
   "outputs": [],
   "source": [
    "## drop duplicates\n",
    "other_songs = other_songs.drop_duplicates(subset=['song_id'])\n",
    "\n",
    "## remove songs from artists that I like (some songs have many different ids)\n",
    "cond = other_songs['artistName'].isin(liked_songs['artistName'])\n",
    "other_songs.drop(other_songs[cond].index, inplace = True)\n",
    "\n",
    "## to make the dataset balanced, we will have as many \"liked\" songs as \"disliked\" songs\n",
    "other_songs = other_songs.sample(n=len(liked_songs), random_state=1)"
   ]
  },
  {
   "cell_type": "code",
   "execution_count": 40,
   "metadata": {},
   "outputs": [],
   "source": [
    "## combine the df of the songs I liked with the df of songs I didn't like\n",
    "other_songs[\"duration_ms\"] = other_songs[\"duration_min\"] * 60000\n",
    "other_songs.drop(columns=['duration_min'], inplace=True)\n",
    "\n",
    "other_songs.rename(columns={\"song_id\": \"track_id\"}, inplace=True)\n",
    "\n",
    "model_df = liked_songs.append(other_songs, ignore_index = True, sort = False)"
   ]
  },
  {
   "cell_type": "code",
   "execution_count": 41,
   "metadata": {
    "scrolled": true
   },
   "outputs": [
    {
     "data": {
      "text/html": [
       "<div>\n",
       "<style scoped>\n",
       "    .dataframe tbody tr th:only-of-type {\n",
       "        vertical-align: middle;\n",
       "    }\n",
       "\n",
       "    .dataframe tbody tr th {\n",
       "        vertical-align: top;\n",
       "    }\n",
       "\n",
       "    .dataframe thead th {\n",
       "        text-align: right;\n",
       "    }\n",
       "</style>\n",
       "<table border=\"1\" class=\"dataframe\">\n",
       "  <thead>\n",
       "    <tr style=\"text-align: right;\">\n",
       "      <th></th>\n",
       "      <th>track_id</th>\n",
       "      <th>trackName</th>\n",
       "      <th>artistName</th>\n",
       "      <th>energy</th>\n",
       "      <th>BPM</th>\n",
       "      <th>speechiness</th>\n",
       "      <th>acousticness</th>\n",
       "      <th>instrumentalness</th>\n",
       "      <th>danceability</th>\n",
       "      <th>duration_ms</th>\n",
       "      <th>valence</th>\n",
       "      <th>target</th>\n",
       "    </tr>\n",
       "  </thead>\n",
       "  <tbody>\n",
       "    <tr>\n",
       "      <td>257</td>\n",
       "      <td>0eilxZjVwGfcgzzDEbcFJP</td>\n",
       "      <td>We Young</td>\n",
       "      <td>CHANYEOL</td>\n",
       "      <td>0.7100</td>\n",
       "      <td>82.016</td>\n",
       "      <td>0.0616</td>\n",
       "      <td>0.0861</td>\n",
       "      <td>0.000000</td>\n",
       "      <td>0.692</td>\n",
       "      <td>181162</td>\n",
       "      <td>0.681</td>\n",
       "      <td>0</td>\n",
       "    </tr>\n",
       "    <tr>\n",
       "      <td>258</td>\n",
       "      <td>25cX2MDDnP3CV3n25XILkP</td>\n",
       "      <td>Vincent</td>\n",
       "      <td>liesl-mae</td>\n",
       "      <td>0.0395</td>\n",
       "      <td>175.437</td>\n",
       "      <td>0.0436</td>\n",
       "      <td>0.9460</td>\n",
       "      <td>0.000163</td>\n",
       "      <td>0.510</td>\n",
       "      <td>255823</td>\n",
       "      <td>0.606</td>\n",
       "      <td>0</td>\n",
       "    </tr>\n",
       "    <tr>\n",
       "      <td>259</td>\n",
       "      <td>1nrXPF5szKZhHr0iANiPcS</td>\n",
       "      <td>Mother Knows Best (Reprise) - From \"Tangled\"/S...</td>\n",
       "      <td>Donna Murphy</td>\n",
       "      <td>0.3320</td>\n",
       "      <td>110.539</td>\n",
       "      <td>0.1750</td>\n",
       "      <td>0.8260</td>\n",
       "      <td>0.000000</td>\n",
       "      <td>0.550</td>\n",
       "      <td>98320</td>\n",
       "      <td>0.552</td>\n",
       "      <td>0</td>\n",
       "    </tr>\n",
       "    <tr>\n",
       "      <td>260</td>\n",
       "      <td>3qfz3Uucaj5BMaNZKxfyFf</td>\n",
       "      <td>斷了</td>\n",
       "      <td>CoCo Lee</td>\n",
       "      <td>0.6570</td>\n",
       "      <td>155.957</td>\n",
       "      <td>0.0758</td>\n",
       "      <td>0.3450</td>\n",
       "      <td>0.000000</td>\n",
       "      <td>0.472</td>\n",
       "      <td>261883</td>\n",
       "      <td>0.279</td>\n",
       "      <td>0</td>\n",
       "    </tr>\n",
       "    <tr>\n",
       "      <td>261</td>\n",
       "      <td>72f9WiINVWeJjtkwDKbZUU</td>\n",
       "      <td>心跳的證明 - 電影《一吻定情》心動版主題曲</td>\n",
       "      <td>刘人语</td>\n",
       "      <td>0.5630</td>\n",
       "      <td>173.765</td>\n",
       "      <td>0.0347</td>\n",
       "      <td>0.2660</td>\n",
       "      <td>0.000360</td>\n",
       "      <td>0.460</td>\n",
       "      <td>230591</td>\n",
       "      <td>0.268</td>\n",
       "      <td>0</td>\n",
       "    </tr>\n",
       "  </tbody>\n",
       "</table>\n",
       "</div>"
      ],
      "text/plain": [
       "                   track_id  \\\n",
       "257  0eilxZjVwGfcgzzDEbcFJP   \n",
       "258  25cX2MDDnP3CV3n25XILkP   \n",
       "259  1nrXPF5szKZhHr0iANiPcS   \n",
       "260  3qfz3Uucaj5BMaNZKxfyFf   \n",
       "261  72f9WiINVWeJjtkwDKbZUU   \n",
       "\n",
       "                                             trackName    artistName  energy  \\\n",
       "257                                           We Young      CHANYEOL  0.7100   \n",
       "258                                            Vincent     liesl-mae  0.0395   \n",
       "259  Mother Knows Best (Reprise) - From \"Tangled\"/S...  Donna Murphy  0.3320   \n",
       "260                                                 斷了      CoCo Lee  0.6570   \n",
       "261                             心跳的證明 - 電影《一吻定情》心動版主題曲           刘人语  0.5630   \n",
       "\n",
       "         BPM  speechiness  acousticness  instrumentalness  danceability  \\\n",
       "257   82.016       0.0616        0.0861          0.000000         0.692   \n",
       "258  175.437       0.0436        0.9460          0.000163         0.510   \n",
       "259  110.539       0.1750        0.8260          0.000000         0.550   \n",
       "260  155.957       0.0758        0.3450          0.000000         0.472   \n",
       "261  173.765       0.0347        0.2660          0.000360         0.460   \n",
       "\n",
       "    duration_ms  valence  target  \n",
       "257      181162    0.681       0  \n",
       "258      255823    0.606       0  \n",
       "259       98320    0.552       0  \n",
       "260      261883    0.279       0  \n",
       "261      230591    0.268       0  "
      ]
     },
     "execution_count": 41,
     "metadata": {},
     "output_type": "execute_result"
    }
   ],
   "source": [
    "model_df.tail(5)"
   ]
  },
  {
   "cell_type": "code",
   "execution_count": 42,
   "metadata": {},
   "outputs": [],
   "source": [
    "## get a list of all Spotify playlists\n",
    "\n",
    "playlists = sp.user_playlists(\"Spotify\")\n",
    "\n",
    "playlist_info =  pd.DataFrame(columns=[\"id\",\"name\"])\n",
    "\n",
    "while playlists:\n",
    "    for i, playlist in enumerate(playlists['items']): \n",
    "        playlist_id = playlist['id'] \n",
    "        name = playlist['name'] \n",
    "        playlist_info = playlist_info.append({'id': playlist_id, 'name': name}, ignore_index=True)\n",
    "    \n",
    "    if playlists['next']:\n",
    "        playlists = sp.next(playlists)\n",
    "    \n",
    "    else:\n",
    "        playlists = None\n"
   ]
  },
  {
   "cell_type": "code",
   "execution_count": 43,
   "metadata": {},
   "outputs": [],
   "source": [
    "## find the playlist id of playlist I'm interested in\n",
    "playlist_name = \"Warm Fuzzy Feeling\" # can replace with any playlist name\n",
    "playlist_id = playlist_info[playlist_info[\"name\"] == playlist_name][\"id\"].values[0]"
   ]
  },
  {
   "cell_type": "code",
   "execution_count": 44,
   "metadata": {},
   "outputs": [
    {
     "data": {
      "text/html": [
       "<div>\n",
       "<style scoped>\n",
       "    .dataframe tbody tr th:only-of-type {\n",
       "        vertical-align: middle;\n",
       "    }\n",
       "\n",
       "    .dataframe tbody tr th {\n",
       "        vertical-align: top;\n",
       "    }\n",
       "\n",
       "    .dataframe thead th {\n",
       "        text-align: right;\n",
       "    }\n",
       "</style>\n",
       "<table border=\"1\" class=\"dataframe\">\n",
       "  <thead>\n",
       "    <tr style=\"text-align: right;\">\n",
       "      <th></th>\n",
       "      <th>track_id</th>\n",
       "      <th>trackName</th>\n",
       "      <th>artistName</th>\n",
       "      <th>energy</th>\n",
       "      <th>BPM</th>\n",
       "      <th>speechiness</th>\n",
       "      <th>acousticness</th>\n",
       "      <th>instrumentalness</th>\n",
       "      <th>danceability</th>\n",
       "      <th>duration_ms</th>\n",
       "      <th>valence</th>\n",
       "    </tr>\n",
       "  </thead>\n",
       "  <tbody>\n",
       "    <tr>\n",
       "      <td>0</td>\n",
       "      <td>3XV5r1cMB2AlD2ir0v6mfm</td>\n",
       "      <td>The Way I Love You</td>\n",
       "      <td>yaeow</td>\n",
       "      <td>0.206</td>\n",
       "      <td>113.107</td>\n",
       "      <td>0.0319</td>\n",
       "      <td>0.940</td>\n",
       "      <td>0.453000</td>\n",
       "      <td>0.543</td>\n",
       "      <td>162727.0</td>\n",
       "      <td>0.130</td>\n",
       "    </tr>\n",
       "    <tr>\n",
       "      <td>1</td>\n",
       "      <td>0ZNU020wNYvgW84iljPkPP</td>\n",
       "      <td>mirrorball</td>\n",
       "      <td>Taylor Swift</td>\n",
       "      <td>0.413</td>\n",
       "      <td>110.107</td>\n",
       "      <td>0.0334</td>\n",
       "      <td>0.687</td>\n",
       "      <td>0.000002</td>\n",
       "      <td>0.553</td>\n",
       "      <td>208978.0</td>\n",
       "      <td>0.379</td>\n",
       "    </tr>\n",
       "    <tr>\n",
       "      <td>2</td>\n",
       "      <td>6epGSSmdGkjcBmLDKXLbMl</td>\n",
       "      <td>Dancing When I Die</td>\n",
       "      <td>Heather Janssen</td>\n",
       "      <td>0.173</td>\n",
       "      <td>108.107</td>\n",
       "      <td>0.0458</td>\n",
       "      <td>0.602</td>\n",
       "      <td>0.000000</td>\n",
       "      <td>0.448</td>\n",
       "      <td>162000.0</td>\n",
       "      <td>0.282</td>\n",
       "    </tr>\n",
       "    <tr>\n",
       "      <td>3</td>\n",
       "      <td>093KMwH96ZwZRZn2lKoX9Z</td>\n",
       "      <td>Sophia</td>\n",
       "      <td>Juke Ross</td>\n",
       "      <td>0.320</td>\n",
       "      <td>115.312</td>\n",
       "      <td>0.0428</td>\n",
       "      <td>0.703</td>\n",
       "      <td>0.000048</td>\n",
       "      <td>0.514</td>\n",
       "      <td>231693.0</td>\n",
       "      <td>0.140</td>\n",
       "    </tr>\n",
       "    <tr>\n",
       "      <td>4</td>\n",
       "      <td>6VsvKPJ4xjVNKpI8VVZ3SV</td>\n",
       "      <td>invisible string</td>\n",
       "      <td>Taylor Swift</td>\n",
       "      <td>0.452</td>\n",
       "      <td>83.433</td>\n",
       "      <td>0.0550</td>\n",
       "      <td>0.838</td>\n",
       "      <td>0.000077</td>\n",
       "      <td>0.653</td>\n",
       "      <td>252881.0</td>\n",
       "      <td>0.450</td>\n",
       "    </tr>\n",
       "  </tbody>\n",
       "</table>\n",
       "</div>"
      ],
      "text/plain": [
       "                 track_id           trackName       artistName  energy  \\\n",
       "0  3XV5r1cMB2AlD2ir0v6mfm  The Way I Love You            yaeow   0.206   \n",
       "1  0ZNU020wNYvgW84iljPkPP          mirrorball     Taylor Swift   0.413   \n",
       "2  6epGSSmdGkjcBmLDKXLbMl  Dancing When I Die  Heather Janssen   0.173   \n",
       "3  093KMwH96ZwZRZn2lKoX9Z              Sophia        Juke Ross   0.320   \n",
       "4  6VsvKPJ4xjVNKpI8VVZ3SV    invisible string     Taylor Swift   0.452   \n",
       "\n",
       "       BPM  speechiness  acousticness  instrumentalness  danceability  \\\n",
       "0  113.107       0.0319         0.940          0.453000         0.543   \n",
       "1  110.107       0.0334         0.687          0.000002         0.553   \n",
       "2  108.107       0.0458         0.602          0.000000         0.448   \n",
       "3  115.312       0.0428         0.703          0.000048         0.514   \n",
       "4   83.433       0.0550         0.838          0.000077         0.653   \n",
       "\n",
       "   duration_ms  valence  \n",
       "0     162727.0    0.130  \n",
       "1     208978.0    0.379  \n",
       "2     162000.0    0.282  \n",
       "3     231693.0    0.140  \n",
       "4     252881.0    0.450  "
      ]
     },
     "execution_count": 44,
     "metadata": {},
     "output_type": "execute_result"
    }
   ],
   "source": [
    "## get a list of tracks in the playlist\n",
    "playlist_tracks =  pd.DataFrame(columns=[\"track_id\",\"trackName\", \"artistName\"])\n",
    "tracks = sp.user_playlist_tracks(user = \"zihanye96\", playlist_id = playlist_id, fields = \"items\")\n",
    "items = tracks[\"items\"]\n",
    "for item in items:\n",
    "    playlist_tracks = playlist_tracks.append({\"track_id\":item['track']['id'],\n",
    "                                       \"trackName\":item['track']['name'],\n",
    "                                       \"artistName\":item['track']['artists'][0]['name']\n",
    "                                      }, ignore_index=True)\n",
    "    \n",
    "## get features for each track in the playlist\n",
    "features_df = pd.DataFrame(columns=[\"track_id\",\"energy\", \"BPM\", \"speechiness\", \"acousticness\", \n",
    "                                    \"instrumentalness\",\"danceability\", \"duration_ms\",\"valence\"])\n",
    "ids = list(playlist_tracks[\"track_id\"].unique())\n",
    "\n",
    "for song in ids:\n",
    "    features = sp.audio_features(tracks = [song])[0]\n",
    "    if features is not None:\n",
    "        features_df = features_df.append({\"track_id\":song,\n",
    "                                          \"energy\":features['energy'], \n",
    "                                          \"BPM\":features['tempo'],\n",
    "                                          \"speechiness\":features['speechiness'],\n",
    "                                          \"acousticness\":features['acousticness'],\n",
    "                                          \"instrumentalness\":features['instrumentalness'],\n",
    "                                          \"danceability\":features['danceability'],\n",
    "                                          \"duration_ms\":features['duration_ms'],\n",
    "                                          \"valence\":features['valence'],\n",
    "                                         },ignore_index=True)\n",
    "    else:\n",
    "        pass\n",
    "    \n",
    "## join the data frames together to get list of tracks and their features\n",
    "potential_tracks = playlist_tracks.merge(features_df, how=\"left\", left_on= \"track_id\", right_on=\"track_id\")\n",
    "potential_tracks[\"duration_ms\"] = potential_tracks[\"duration_ms\"].astype(str).astype(float)\n",
    "potential_tracks.head(5)"
   ]
  },
  {
   "cell_type": "markdown",
   "metadata": {},
   "source": [
    "### Model Fitting"
   ]
  },
  {
   "cell_type": "markdown",
   "metadata": {},
   "source": [
    "#### Splitting into Training and Test Sets"
   ]
  },
  {
   "cell_type": "code",
   "execution_count": 45,
   "metadata": {},
   "outputs": [],
   "source": [
    "target = model_df[\"target\"]\n",
    "model_df[\"duration_ms\"] = model_df[\"duration_ms\"].astype(str).astype(float) #for some reason this was an object before\n",
    "data = model_df[model_df.columns[3:-1]]"
   ]
  },
  {
   "cell_type": "code",
   "execution_count": 46,
   "metadata": {},
   "outputs": [],
   "source": [
    "random.seed(100)\n",
    "X_train, X_test, y_train, y_test = train_test_split(data, target, test_size=0.2, random_state=0, stratify=target)"
   ]
  },
  {
   "cell_type": "markdown",
   "metadata": {},
   "source": [
    "#### Gradient Boosted Trees"
   ]
  },
  {
   "cell_type": "code",
   "execution_count": 47,
   "metadata": {},
   "outputs": [
    {
     "data": {
      "text/plain": [
       "XGBClassifier(base_score=0.5, booster='gbtree', colsample_bylevel=1,\n",
       "              colsample_bynode=1, colsample_bytree=1, gamma=0, gpu_id=-1,\n",
       "              importance_type='gain', interaction_constraints='',\n",
       "              learning_rate=0.05, max_delta_step=0, max_depth=6,\n",
       "              min_child_weight=1, missing=nan, monotone_constraints='()',\n",
       "              n_estimators=1000, n_jobs=0, num_parallel_tree=1,\n",
       "              objective='binary:logistic', random_state=0, reg_alpha=0,\n",
       "              reg_lambda=1, scale_pos_weight=1, subsample=1,\n",
       "              tree_method='exact', validate_parameters=1, verbosity=None)"
      ]
     },
     "execution_count": 47,
     "metadata": {},
     "output_type": "execute_result"
    }
   ],
   "source": [
    "gbm_model = XGBClassifier(n_estimators=1000, learning_rate=0.05)\n",
    "gbm_model.fit(X_train, y_train, early_stopping_rounds=5, \n",
    "             eval_set=[(X_test, y_test)], verbose=False)\n"
   ]
  },
  {
   "cell_type": "code",
   "execution_count": 48,
   "metadata": {},
   "outputs": [
    {
     "data": {
      "text/plain": [
       "0.7547169811320755"
      ]
     },
     "execution_count": 48,
     "metadata": {},
     "output_type": "execute_result"
    }
   ],
   "source": [
    "gbm_predictions = gbm_model.predict(X_test)\n",
    "accuracy_score(gbm_predictions, y_test)"
   ]
  },
  {
   "cell_type": "code",
   "execution_count": 49,
   "metadata": {},
   "outputs": [
    {
     "data": {
      "text/plain": [
       "21"
      ]
     },
     "execution_count": 49,
     "metadata": {},
     "output_type": "execute_result"
    }
   ],
   "source": [
    "gbm_predictions.sum()"
   ]
  },
  {
   "cell_type": "markdown",
   "metadata": {},
   "source": [
    "#### Neural Network"
   ]
  },
  {
   "cell_type": "code",
   "execution_count": 50,
   "metadata": {},
   "outputs": [
    {
     "name": "stdout",
     "output_type": "stream",
     "text": [
      "53/53 [==============================] - 0s 1ms/sample - loss: 160.7854 - accuracy: 0.4906\n"
     ]
    }
   ],
   "source": [
    "## simple 2-layer neural network, hidden layer with 16 nodes\n",
    "model = keras.Sequential([\n",
    "    layers.Flatten(input_shape=[len(X_train.keys())]),\n",
    "    layers.Dense(16, activation=tf.nn.relu),\n",
    "    layers.Dense(1, activation=tf.nn.sigmoid),\n",
    "])\n",
    "\n",
    "model.compile(optimizer='adam', loss='binary_crossentropy', metrics=['accuracy'])\n",
    "\n",
    "model.fit(X_train, y_train, epochs=50, batch_size=1, verbose=0)\n",
    "test_loss, test_acc = model.evaluate(X_test, y_test)"
   ]
  },
  {
   "cell_type": "code",
   "execution_count": 51,
   "metadata": {},
   "outputs": [
    {
     "data": {
      "text/plain": [
       "53.0"
      ]
     },
     "execution_count": 51,
     "metadata": {},
     "output_type": "execute_result"
    }
   ],
   "source": [
    "nn_predictions = model.predict(X_test).flatten()\n",
    "nn_predictions.sum()"
   ]
  },
  {
   "cell_type": "markdown",
   "metadata": {},
   "source": [
    "#### Predicting on New Playlist\n",
    "\n",
    "Since the gradient boosting model had a higher accuracy score and the neural network appeared to default to predicting that I won't like any of the songs, I'll use the GBM as my final model and use it to predict which songs in the \"Warm Fuzzy Feeling\" playlist I'll like."
   ]
  },
  {
   "cell_type": "code",
   "execution_count": 52,
   "metadata": {},
   "outputs": [],
   "source": [
    "predictions = gbm_model.predict(potential_tracks.iloc[:,3:])\n",
    "mask = np.where(predictions == 1, True, False)"
   ]
  },
  {
   "cell_type": "code",
   "execution_count": 53,
   "metadata": {
    "scrolled": true
   },
   "outputs": [
    {
     "data": {
      "text/html": [
       "<div>\n",
       "<style scoped>\n",
       "    .dataframe tbody tr th:only-of-type {\n",
       "        vertical-align: middle;\n",
       "    }\n",
       "\n",
       "    .dataframe tbody tr th {\n",
       "        vertical-align: top;\n",
       "    }\n",
       "\n",
       "    .dataframe thead th {\n",
       "        text-align: right;\n",
       "    }\n",
       "</style>\n",
       "<table border=\"1\" class=\"dataframe\">\n",
       "  <thead>\n",
       "    <tr style=\"text-align: right;\">\n",
       "      <th></th>\n",
       "      <th>track_id</th>\n",
       "      <th>trackName</th>\n",
       "      <th>artistName</th>\n",
       "      <th>energy</th>\n",
       "      <th>BPM</th>\n",
       "      <th>speechiness</th>\n",
       "      <th>acousticness</th>\n",
       "      <th>instrumentalness</th>\n",
       "      <th>danceability</th>\n",
       "      <th>duration_ms</th>\n",
       "      <th>valence</th>\n",
       "    </tr>\n",
       "  </thead>\n",
       "  <tbody>\n",
       "    <tr>\n",
       "      <td>3</td>\n",
       "      <td>093KMwH96ZwZRZn2lKoX9Z</td>\n",
       "      <td>Sophia</td>\n",
       "      <td>Juke Ross</td>\n",
       "      <td>0.320</td>\n",
       "      <td>115.312</td>\n",
       "      <td>0.0428</td>\n",
       "      <td>0.703</td>\n",
       "      <td>0.000048</td>\n",
       "      <td>0.514</td>\n",
       "      <td>231693.0</td>\n",
       "      <td>0.140</td>\n",
       "    </tr>\n",
       "    <tr>\n",
       "      <td>6</td>\n",
       "      <td>1ws2DVEGJD2d12aDm4zqic</td>\n",
       "      <td>Who Would Have Thought</td>\n",
       "      <td>Dylan Dunlap</td>\n",
       "      <td>0.430</td>\n",
       "      <td>140.962</td>\n",
       "      <td>0.0298</td>\n",
       "      <td>0.461</td>\n",
       "      <td>0.000000</td>\n",
       "      <td>0.420</td>\n",
       "      <td>244478.0</td>\n",
       "      <td>0.323</td>\n",
       "    </tr>\n",
       "    <tr>\n",
       "      <td>7</td>\n",
       "      <td>7EncNzyGs8uJiQittB38ef</td>\n",
       "      <td>The Most Beautiful Thing</td>\n",
       "      <td>Bruno Major</td>\n",
       "      <td>0.362</td>\n",
       "      <td>127.502</td>\n",
       "      <td>0.0345</td>\n",
       "      <td>0.535</td>\n",
       "      <td>0.045000</td>\n",
       "      <td>0.806</td>\n",
       "      <td>235427.0</td>\n",
       "      <td>0.420</td>\n",
       "    </tr>\n",
       "    <tr>\n",
       "      <td>15</td>\n",
       "      <td>1sbNEp1zyMXQCXUHNllTaR</td>\n",
       "      <td>Fall On Me</td>\n",
       "      <td>A Great Big World</td>\n",
       "      <td>0.292</td>\n",
       "      <td>110.674</td>\n",
       "      <td>0.0348</td>\n",
       "      <td>0.677</td>\n",
       "      <td>0.000000</td>\n",
       "      <td>0.459</td>\n",
       "      <td>263054.0</td>\n",
       "      <td>0.226</td>\n",
       "    </tr>\n",
       "    <tr>\n",
       "      <td>16</td>\n",
       "      <td>6HjF1gzVEZMb4GplnGl9B3</td>\n",
       "      <td>10,000 Hours (with Justin Bieber) - Piano</td>\n",
       "      <td>Dan + Shay</td>\n",
       "      <td>0.366</td>\n",
       "      <td>179.736</td>\n",
       "      <td>0.0312</td>\n",
       "      <td>0.765</td>\n",
       "      <td>0.000000</td>\n",
       "      <td>0.426</td>\n",
       "      <td>172320.0</td>\n",
       "      <td>0.386</td>\n",
       "    </tr>\n",
       "  </tbody>\n",
       "</table>\n",
       "</div>"
      ],
      "text/plain": [
       "                  track_id                                  trackName  \\\n",
       "3   093KMwH96ZwZRZn2lKoX9Z                                     Sophia   \n",
       "6   1ws2DVEGJD2d12aDm4zqic                     Who Would Have Thought   \n",
       "7   7EncNzyGs8uJiQittB38ef                   The Most Beautiful Thing   \n",
       "15  1sbNEp1zyMXQCXUHNllTaR                                 Fall On Me   \n",
       "16  6HjF1gzVEZMb4GplnGl9B3  10,000 Hours (with Justin Bieber) - Piano   \n",
       "\n",
       "           artistName  energy      BPM  speechiness  acousticness  \\\n",
       "3           Juke Ross   0.320  115.312       0.0428         0.703   \n",
       "6        Dylan Dunlap   0.430  140.962       0.0298         0.461   \n",
       "7         Bruno Major   0.362  127.502       0.0345         0.535   \n",
       "15  A Great Big World   0.292  110.674       0.0348         0.677   \n",
       "16         Dan + Shay   0.366  179.736       0.0312         0.765   \n",
       "\n",
       "    instrumentalness  danceability  duration_ms  valence  \n",
       "3           0.000048         0.514     231693.0    0.140  \n",
       "6           0.000000         0.420     244478.0    0.323  \n",
       "7           0.045000         0.806     235427.0    0.420  \n",
       "15          0.000000         0.459     263054.0    0.226  \n",
       "16          0.000000         0.426     172320.0    0.386  "
      ]
     },
     "execution_count": 53,
     "metadata": {},
     "output_type": "execute_result"
    }
   ],
   "source": [
    "potential_tracks.iloc[mask,:].head()"
   ]
  },
  {
   "cell_type": "markdown",
   "metadata": {},
   "source": [
    "### Discussion and Results\n",
    "\n",
    "In this simple machine learning exercise, I built a gradient boosting model to predict whether or not I'll like a given song in a given Spotify playlist. I used the playlist \"Warm Fuzzy Feeling\", which claims to contain \"beautiful songs to give you that warm, fuzzy feeling\", and the model \"recommended\" 30 songs from the playlist for me to listen to, based on my music preferences. \n",
    "\n",
    "One problem with the original data is that it's very imbalanced, which means I have many more songs that I don't like compared to songs that I like. This is a problem since a model that predicts I won't like any song will have a good accuracy score. I tried to circumvent this problem via undersampling from the majority class to ensure I have the same number of liked and disliked songs, but this cames at the cost of missing out on potentially important observations. As I continue to listen to music over the years and find more songs that I like (and the sample size increases), this will be less of a problem, but it's still worth noting for now. \n",
    "\n",
    "It's also important to note that I didn't attempt to fit other common classification models (SVM, random forest, etc.) or tune the two models that I did fit. Since the heart of this project was the visualization and since I didn't have a very large dataset to use for modeling, I didn't spend too much time on going through an exhaustive list of models and fine tuning all of them. That being said, this would be an easy way to dramatically improve model performance (especially once I have a bigger dataset to work with) and will be one of the first things I do in a future version of this project. \n",
    "\n",
    "**And for the long-awaited results...**\n",
    "\n",
    "Setting aside any potential biases (e.g. the [IKEA effect](https://www.hbs.edu/faculty/Publication%20Files/11-091.pdf)), I actually really enjoyed most of the songs that my model picked out. While not all of them ended up in one of my playlists, I ended up adding 7 of the 30 or so recommended songs. While the final model that I chose only had a test accuracy of about 75%, almost all of the errors were false positives (i.e. songs I didn't like being classified as a song that I liked), which is certainly better than failing to detect a song that I actually liked, given how hard it is for me to like a song. Overall, this was a fun exercise in applying machine learning to something practical and I definitely plan to use this model for other pre-made playlists to scout out songs that I'll potentially enjoy.\n",
    "\n"
   ]
  }
 ],
 "metadata": {
  "kernelspec": {
   "display_name": "Python 3",
   "language": "python",
   "name": "python3"
  },
  "language_info": {
   "codemirror_mode": {
    "name": "ipython",
    "version": 3
   },
   "file_extension": ".py",
   "mimetype": "text/x-python",
   "name": "python",
   "nbconvert_exporter": "python",
   "pygments_lexer": "ipython3",
   "version": "3.7.4"
  }
 },
 "nbformat": 4,
 "nbformat_minor": 2
}
